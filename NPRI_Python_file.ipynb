{
  "nbformat": 4,
  "nbformat_minor": 0,
  "metadata": {
    "colab": {
      "provenance": []
    },
    "kernelspec": {
      "name": "python3",
      "display_name": "Python 3"
    },
    "language_info": {
      "name": "python"
    }
  },
  "cells": [
    {
      "cell_type": "markdown",
      "source": [
        "We are working with Canada’s NPRI (National Pollutant Release Inventory) dataset. It contains environmental data submitted by facilities across Canada, reporting:\n",
        "\n",
        "How much pollutants they release into the air, land, or water.\n",
        "\n",
        "How much waste they dispose of or transfer.\n",
        "\n",
        "Information like facility name, location, industry classification (NAICS), year, and quantities of pollutants.\n",
        "\n",
        "**Our Main Goal:**\n",
        "\n",
        "Predict which industry will have the highest or lowest growth in pollutant releases over 5 years using a regression model.\n",
        "\n",
        "Before building the model, we need to:\n",
        "\n",
        "Clean the data.\n",
        "\n",
        "Handle issues.\n",
        "\n",
        "Discover patterns and prepare the dataset for time series analysis and regression."
      ],
      "metadata": {
        "id": "2SOlIN91DDZq"
      }
    },
    {
      "cell_type": "markdown",
      "source": [
        "# Import necessary Libraries"
      ],
      "metadata": {
        "id": "OzoQsnFCm0-v"
      }
    },
    {
      "cell_type": "code",
      "source": [
        "import pandas as pd\n",
        "import numpy as np\n",
        "import matplotlib.pyplot as plt\n",
        "import seaborn as sns\n"
      ],
      "metadata": {
        "id": "T7xXEEVMm6mT"
      },
      "execution_count": 1,
      "outputs": []
    },
    {
      "cell_type": "markdown",
      "source": [
        "# Read file into notebook"
      ],
      "metadata": {
        "id": "UYmMYHp_m_uO"
      }
    },
    {
      "cell_type": "code",
      "source": [
        "import pandas as pd\n",
        "\n",
        "# Read the CSV file into a DataFrame\n",
        "df_releases = pd.read_csv(\"release.csv\")\n",
        "\n",
        "\n"
      ],
      "metadata": {
        "id": "oq16K7SWnFQ2",
        "colab": {
          "base_uri": "https://localhost:8080/"
        },
        "outputId": "f44ed166-0ebd-4dd1-d6f4-c388201fb889"
      },
      "execution_count": 2,
      "outputs": [
        {
          "output_type": "stream",
          "name": "stderr",
          "text": [
            "<ipython-input-2-23fff4b35654>:4: DtypeWarning: Columns (2) have mixed types. Specify dtype option on import or set low_memory=False.\n",
            "  df_releases = pd.read_csv(\"release.csv\")\n"
          ]
        }
      ]
    },
    {
      "cell_type": "code",
      "source": [
        "df_disposals = pd.read_csv('Disposals.csv', low_memory=False)"
      ],
      "metadata": {
        "id": "gVgitIrj4-m1"
      },
      "execution_count": 3,
      "outputs": []
    },
    {
      "cell_type": "markdown",
      "source": [
        "High-Level Questions we need to Answer\n",
        "\n",
        "This will guide our analysis:\n",
        "\n",
        "\n",
        "\n",
        "1.   How do releases change over the years?\n",
        "2.   Are there missing or incorrect values?\n",
        "3.   What patterns can we observe in the releases or disposals?\n",
        "4.   Are there features (columns) we can engineer to improve predictions?\n",
        "5.   What are the top industries releasing the most pollutants?\n",
        "\n"
      ],
      "metadata": {
        "id": "ZA5fo6uWD669"
      }
    },
    {
      "cell_type": "markdown",
      "source": [
        "# ***# Normalize the Column Names***\n",
        "\n",
        "This avoids merge issues caused by accidental spaces in column names."
      ],
      "metadata": {
        "id": "ItJK0vOYkJ7Q"
      }
    },
    {
      "cell_type": "code",
      "source": [
        "df_releases.columns = df_releases.columns.str.strip()\n",
        "\n"
      ],
      "metadata": {
        "id": "RBO5MSTfjlpG"
      },
      "execution_count": 4,
      "outputs": []
    },
    {
      "cell_type": "code",
      "source": [
        "df_disposals.columns = df_disposals.columns.str.strip()"
      ],
      "metadata": {
        "id": "-WZ6hFEVj2MI"
      },
      "execution_count": 5,
      "outputs": []
    },
    {
      "cell_type": "markdown",
      "source": [
        "# ***# Merge & Align***"
      ],
      "metadata": {
        "id": "hh8jIErEkeyi"
      }
    },
    {
      "cell_type": "code",
      "source": [
        "# Merge on key identifiers\n",
        "df_merged = pd.merge(\n",
        "    df_releases,\n",
        "    df_disposals,\n",
        "    on=[\n",
        "        \"Reporting_Year / Année\",\n",
        "        \"NPRI_ID / No_INRP\",\n",
        "        \"Company_Name / Dénomination_sociale_de_l'entreprise\",\n",
        "        \"Facility_Name / Installation\",\n",
        "        \"NAICS / Code_SCIAN\",\n",
        "        \"NAICS Title / Titre Code_SCIAN\",\n",
        "        \"PROVINCE\",\n",
        "        \"City\",\n",
        "        \"Latitude\",\n",
        "        \"Longitude\",\n",
        "        \"CAS_Number / No_CAS\",\n",
        "        \"Substance Name (English) / Nom de substance (Anglais)\",\n",
        "        \"Units / Unités\",\n",
        "        \"Estimation_Method / Méthode_d’estimation\"\n",
        "\n",
        "    ],\n",
        "    how=\"outer\" , # We Use outer since we wanted to keep all data and investigate later\n",
        "    suffixes=(\"_release\", \"_disposal\")\n",
        ")\n"
      ],
      "metadata": {
        "id": "yL0AQ4Nxgfhn"
      },
      "execution_count": 6,
      "outputs": []
    },
    {
      "cell_type": "code",
      "source": [
        "df_merged.shape"
      ],
      "metadata": {
        "colab": {
          "base_uri": "https://localhost:8080/"
        },
        "id": "shx3ctLY-96r",
        "outputId": "ead09a5e-a2a9-4a52-f602-f2dfb26acd5b"
      },
      "execution_count": 7,
      "outputs": [
        {
          "output_type": "execute_result",
          "data": {
            "text/plain": [
              "(850423, 55)"
            ]
          },
          "metadata": {},
          "execution_count": 7
        }
      ]
    },
    {
      "cell_type": "code",
      "source": [
        "df_merged.nunique()"
      ],
      "metadata": {
        "colab": {
          "base_uri": "https://localhost:8080/",
          "height": 1000
        },
        "id": "x5mSzD7O_jf-",
        "outputId": "5d9b1255-2ae3-4fe2-fe33-121249c655e2"
      },
      "execution_count": 8,
      "outputs": [
        {
          "output_type": "execute_result",
          "data": {
            "text/plain": [
              "Reporting_Year / Année                                                                             23\n",
              "NPRI_ID / No_INRP                                                                               22339\n",
              "Number of employees_release                                                                      2610\n",
              "Company_Name / Dénomination_sociale_de_l'entreprise                                             10831\n",
              "Facility_Name / Installation                                                                    33119\n",
              "NAICS / Code_SCIAN                                                                                408\n",
              "NAICS Title / Titre Code_SCIAN                                                                    475\n",
              "PROVINCE                                                                                           13\n",
              "City                                                                                             4083\n",
              "Latitude                                                                                        19734\n",
              "Longitude                                                                                       20729\n",
              "CAS_Number / No_CAS                                                                               267\n",
              "Substance Name (English) / Nom de substance (Anglais)                                             270\n",
              "Units / Unités                                                                                      4\n",
              "Estimation_Method / Méthode_d’estimation                                                           14\n",
              "Release to Air - Fugitive                                                                       39427\n",
              "Release to Air - Other Non-Point                                                                11561\n",
              "Release to Air - Road dust                                                                      17131\n",
              "Release to Air - Spills                                                                          1733\n",
              "Release to Air - Stack / Point                                                                 162731\n",
              "Release to Air - Storage / Handling                                                             24653\n",
              "Releases to Land - Leaks                                                                           87\n",
              "Releases to Land - Other                                                                         3365\n",
              "Releases to Land - Spills                                                                         936\n",
              "Releases to Water Bodies - Direct Discharges                                                    23018\n",
              "Releases to Water Bodies - Leaks                                                                  126\n",
              "Releases to Water Bodies - Spills                                                                1615\n",
              "Sum of release to all media (<1tonne)                                                            5525\n",
              "Number of employees_disposal                                                                     1669\n",
              "Off-site Disposal - Land Treatment                                                               7816\n",
              "Off-site Disposal - Landfill                                                                    23983\n",
              "Off-site Disposal - Storage                                                                      3488\n",
              "Off-site Disposal - Tailings Management                                                           334\n",
              "Off-site Disposal - Underground Injection                                                        5146\n",
              "Off-site Disposal - Waste Rock management                                                         132\n",
              "Off-site Transfers for Recycling - Energy Recovery                                               6005\n",
              "Off-site Transfers for Recycling - Other                                                         6675\n",
              "Off-site Transfers for Recycling - Recovery of Acids and Bases                                    670\n",
              "Off-site Transfers for Recycling - Recovery of Catalysts                                          896\n",
              "Off-site Transfers for Recycling - Recovery of Inorganic Materials (not metals)                  1370\n",
              "Off-site Transfers for Recycling - Recovery of Metals and Metal Compounds                       19813\n",
              "Off-site Transfers for Recycling - Recovery of Organic Substances (not solvents)                 4785\n",
              "Off-site Transfers for Recycling - Recovery of Pollution Abatement Residues                      1779\n",
              "Off-site Transfers for Recycling - Recovery of Solvents                                          6439\n",
              "Off-site Transfers for Recycling - Refining or Re-use of Used Oil                                2335\n",
              "Off-site Transfers for Treatment Prior to Final Disposal - Biological Treatment                  1753\n",
              "Off-site Transfers for Treatment Prior to Final Disposal - Chemical Treatment                    6807\n",
              "Off-site Transfers for Treatment Prior to Final Disposal - Incineration / Thermal               10079\n",
              "Off-site Transfers for Treatment Prior to Final Disposal - Municipal Sewage Treatment Plant      6161\n",
              "Off-site Transfers for Treatment Prior to Final Disposal - Physical Treatment                    5540\n",
              "On-site Disposal - Land Treatment                                                                2312\n",
              "On-site Disposal - Landfill                                                                     11587\n",
              "On-site Disposal - Tailings Management                                                          14188\n",
              "On-site Disposal - Underground Injection                                                         6269\n",
              "On-site Disposal - Waste Rock management                                                         3584\n",
              "dtype: int64"
            ],
            "text/html": [
              "<div>\n",
              "<style scoped>\n",
              "    .dataframe tbody tr th:only-of-type {\n",
              "        vertical-align: middle;\n",
              "    }\n",
              "\n",
              "    .dataframe tbody tr th {\n",
              "        vertical-align: top;\n",
              "    }\n",
              "\n",
              "    .dataframe thead th {\n",
              "        text-align: right;\n",
              "    }\n",
              "</style>\n",
              "<table border=\"1\" class=\"dataframe\">\n",
              "  <thead>\n",
              "    <tr style=\"text-align: right;\">\n",
              "      <th></th>\n",
              "      <th>0</th>\n",
              "    </tr>\n",
              "  </thead>\n",
              "  <tbody>\n",
              "    <tr>\n",
              "      <th>Reporting_Year / Année</th>\n",
              "      <td>23</td>\n",
              "    </tr>\n",
              "    <tr>\n",
              "      <th>NPRI_ID / No_INRP</th>\n",
              "      <td>22339</td>\n",
              "    </tr>\n",
              "    <tr>\n",
              "      <th>Number of employees_release</th>\n",
              "      <td>2610</td>\n",
              "    </tr>\n",
              "    <tr>\n",
              "      <th>Company_Name / Dénomination_sociale_de_l'entreprise</th>\n",
              "      <td>10831</td>\n",
              "    </tr>\n",
              "    <tr>\n",
              "      <th>Facility_Name / Installation</th>\n",
              "      <td>33119</td>\n",
              "    </tr>\n",
              "    <tr>\n",
              "      <th>NAICS / Code_SCIAN</th>\n",
              "      <td>408</td>\n",
              "    </tr>\n",
              "    <tr>\n",
              "      <th>NAICS Title / Titre Code_SCIAN</th>\n",
              "      <td>475</td>\n",
              "    </tr>\n",
              "    <tr>\n",
              "      <th>PROVINCE</th>\n",
              "      <td>13</td>\n",
              "    </tr>\n",
              "    <tr>\n",
              "      <th>City</th>\n",
              "      <td>4083</td>\n",
              "    </tr>\n",
              "    <tr>\n",
              "      <th>Latitude</th>\n",
              "      <td>19734</td>\n",
              "    </tr>\n",
              "    <tr>\n",
              "      <th>Longitude</th>\n",
              "      <td>20729</td>\n",
              "    </tr>\n",
              "    <tr>\n",
              "      <th>CAS_Number / No_CAS</th>\n",
              "      <td>267</td>\n",
              "    </tr>\n",
              "    <tr>\n",
              "      <th>Substance Name (English) / Nom de substance (Anglais)</th>\n",
              "      <td>270</td>\n",
              "    </tr>\n",
              "    <tr>\n",
              "      <th>Units / Unités</th>\n",
              "      <td>4</td>\n",
              "    </tr>\n",
              "    <tr>\n",
              "      <th>Estimation_Method / Méthode_d’estimation</th>\n",
              "      <td>14</td>\n",
              "    </tr>\n",
              "    <tr>\n",
              "      <th>Release to Air - Fugitive</th>\n",
              "      <td>39427</td>\n",
              "    </tr>\n",
              "    <tr>\n",
              "      <th>Release to Air - Other Non-Point</th>\n",
              "      <td>11561</td>\n",
              "    </tr>\n",
              "    <tr>\n",
              "      <th>Release to Air - Road dust</th>\n",
              "      <td>17131</td>\n",
              "    </tr>\n",
              "    <tr>\n",
              "      <th>Release to Air - Spills</th>\n",
              "      <td>1733</td>\n",
              "    </tr>\n",
              "    <tr>\n",
              "      <th>Release to Air - Stack / Point</th>\n",
              "      <td>162731</td>\n",
              "    </tr>\n",
              "    <tr>\n",
              "      <th>Release to Air - Storage / Handling</th>\n",
              "      <td>24653</td>\n",
              "    </tr>\n",
              "    <tr>\n",
              "      <th>Releases to Land - Leaks</th>\n",
              "      <td>87</td>\n",
              "    </tr>\n",
              "    <tr>\n",
              "      <th>Releases to Land - Other</th>\n",
              "      <td>3365</td>\n",
              "    </tr>\n",
              "    <tr>\n",
              "      <th>Releases to Land - Spills</th>\n",
              "      <td>936</td>\n",
              "    </tr>\n",
              "    <tr>\n",
              "      <th>Releases to Water Bodies - Direct Discharges</th>\n",
              "      <td>23018</td>\n",
              "    </tr>\n",
              "    <tr>\n",
              "      <th>Releases to Water Bodies - Leaks</th>\n",
              "      <td>126</td>\n",
              "    </tr>\n",
              "    <tr>\n",
              "      <th>Releases to Water Bodies - Spills</th>\n",
              "      <td>1615</td>\n",
              "    </tr>\n",
              "    <tr>\n",
              "      <th>Sum of release to all media (&lt;1tonne)</th>\n",
              "      <td>5525</td>\n",
              "    </tr>\n",
              "    <tr>\n",
              "      <th>Number of employees_disposal</th>\n",
              "      <td>1669</td>\n",
              "    </tr>\n",
              "    <tr>\n",
              "      <th>Off-site Disposal - Land Treatment</th>\n",
              "      <td>7816</td>\n",
              "    </tr>\n",
              "    <tr>\n",
              "      <th>Off-site Disposal - Landfill</th>\n",
              "      <td>23983</td>\n",
              "    </tr>\n",
              "    <tr>\n",
              "      <th>Off-site Disposal - Storage</th>\n",
              "      <td>3488</td>\n",
              "    </tr>\n",
              "    <tr>\n",
              "      <th>Off-site Disposal - Tailings Management</th>\n",
              "      <td>334</td>\n",
              "    </tr>\n",
              "    <tr>\n",
              "      <th>Off-site Disposal - Underground Injection</th>\n",
              "      <td>5146</td>\n",
              "    </tr>\n",
              "    <tr>\n",
              "      <th>Off-site Disposal - Waste Rock management</th>\n",
              "      <td>132</td>\n",
              "    </tr>\n",
              "    <tr>\n",
              "      <th>Off-site Transfers for Recycling - Energy Recovery</th>\n",
              "      <td>6005</td>\n",
              "    </tr>\n",
              "    <tr>\n",
              "      <th>Off-site Transfers for Recycling - Other</th>\n",
              "      <td>6675</td>\n",
              "    </tr>\n",
              "    <tr>\n",
              "      <th>Off-site Transfers for Recycling - Recovery of Acids and Bases</th>\n",
              "      <td>670</td>\n",
              "    </tr>\n",
              "    <tr>\n",
              "      <th>Off-site Transfers for Recycling - Recovery of Catalysts</th>\n",
              "      <td>896</td>\n",
              "    </tr>\n",
              "    <tr>\n",
              "      <th>Off-site Transfers for Recycling - Recovery of Inorganic Materials (not metals)</th>\n",
              "      <td>1370</td>\n",
              "    </tr>\n",
              "    <tr>\n",
              "      <th>Off-site Transfers for Recycling - Recovery of Metals and Metal Compounds</th>\n",
              "      <td>19813</td>\n",
              "    </tr>\n",
              "    <tr>\n",
              "      <th>Off-site Transfers for Recycling - Recovery of Organic Substances (not solvents)</th>\n",
              "      <td>4785</td>\n",
              "    </tr>\n",
              "    <tr>\n",
              "      <th>Off-site Transfers for Recycling - Recovery of Pollution Abatement Residues</th>\n",
              "      <td>1779</td>\n",
              "    </tr>\n",
              "    <tr>\n",
              "      <th>Off-site Transfers for Recycling - Recovery of Solvents</th>\n",
              "      <td>6439</td>\n",
              "    </tr>\n",
              "    <tr>\n",
              "      <th>Off-site Transfers for Recycling - Refining or Re-use of Used Oil</th>\n",
              "      <td>2335</td>\n",
              "    </tr>\n",
              "    <tr>\n",
              "      <th>Off-site Transfers for Treatment Prior to Final Disposal - Biological Treatment</th>\n",
              "      <td>1753</td>\n",
              "    </tr>\n",
              "    <tr>\n",
              "      <th>Off-site Transfers for Treatment Prior to Final Disposal - Chemical Treatment</th>\n",
              "      <td>6807</td>\n",
              "    </tr>\n",
              "    <tr>\n",
              "      <th>Off-site Transfers for Treatment Prior to Final Disposal - Incineration / Thermal</th>\n",
              "      <td>10079</td>\n",
              "    </tr>\n",
              "    <tr>\n",
              "      <th>Off-site Transfers for Treatment Prior to Final Disposal - Municipal Sewage Treatment Plant</th>\n",
              "      <td>6161</td>\n",
              "    </tr>\n",
              "    <tr>\n",
              "      <th>Off-site Transfers for Treatment Prior to Final Disposal - Physical Treatment</th>\n",
              "      <td>5540</td>\n",
              "    </tr>\n",
              "    <tr>\n",
              "      <th>On-site Disposal - Land Treatment</th>\n",
              "      <td>2312</td>\n",
              "    </tr>\n",
              "    <tr>\n",
              "      <th>On-site Disposal - Landfill</th>\n",
              "      <td>11587</td>\n",
              "    </tr>\n",
              "    <tr>\n",
              "      <th>On-site Disposal - Tailings Management</th>\n",
              "      <td>14188</td>\n",
              "    </tr>\n",
              "    <tr>\n",
              "      <th>On-site Disposal - Underground Injection</th>\n",
              "      <td>6269</td>\n",
              "    </tr>\n",
              "    <tr>\n",
              "      <th>On-site Disposal - Waste Rock management</th>\n",
              "      <td>3584</td>\n",
              "    </tr>\n",
              "  </tbody>\n",
              "</table>\n",
              "</div><br><label><b>dtype:</b> int64</label>"
            ]
          },
          "metadata": {},
          "execution_count": 8
        }
      ]
    },
    {
      "cell_type": "code",
      "source": [
        "df_merged .head()"
      ],
      "metadata": {
        "colab": {
          "base_uri": "https://localhost:8080/",
          "height": 533
        },
        "id": "GX9dxL_VBaIg",
        "outputId": "5e0ad563-23df-4c0a-9732-37598aebaaaf"
      },
      "execution_count": 9,
      "outputs": [
        {
          "output_type": "execute_result",
          "data": {
            "text/plain": [
              "   Reporting_Year / Année  NPRI_ID / No_INRP Number of employees_release  \\\n",
              "0                    2000                  1                         440   \n",
              "1                    2000                  1                         440   \n",
              "2                    2000                  1                         440   \n",
              "3                    2000                  1                         440   \n",
              "4                    2000                  1                         440   \n",
              "\n",
              "  Company_Name / Dénomination_sociale_de_l'entreprise  \\\n",
              "0             Alberta-Pacific Forest Industries Inc.    \n",
              "1             Alberta-Pacific Forest Industries Inc.    \n",
              "2             Alberta-Pacific Forest Industries Inc.    \n",
              "3             Alberta-Pacific Forest Industries Inc.    \n",
              "4             Alberta-Pacific Forest Industries Inc.    \n",
              "\n",
              "  Facility_Name / Installation  NAICS / Code_SCIAN  \\\n",
              "0                      (blank)              322112   \n",
              "1                      (blank)              322112   \n",
              "2                      (blank)              322112   \n",
              "3                      (blank)              322112   \n",
              "4                      (blank)              322112   \n",
              "\n",
              "  NAICS Title / Titre Code_SCIAN PROVINCE                 City   Latitude  \\\n",
              "0            Chemical pulp mills       AB  County of Athabasca  54.923116   \n",
              "1            Chemical pulp mills       AB  County of Athabasca  54.923116   \n",
              "2            Chemical pulp mills       AB  County of Athabasca  54.923116   \n",
              "3            Chemical pulp mills       AB  County of Athabasca  54.923116   \n",
              "4            Chemical pulp mills       AB  County of Athabasca  54.923116   \n",
              "\n",
              "   ...  \\\n",
              "0  ...   \n",
              "1  ...   \n",
              "2  ...   \n",
              "3  ...   \n",
              "4  ...   \n",
              "\n",
              "   Off-site Transfers for Treatment Prior to Final Disposal - Biological Treatment  \\\n",
              "0                                                NaN                                 \n",
              "1                                                NaN                                 \n",
              "2                                                NaN                                 \n",
              "3                                                NaN                                 \n",
              "4                                                NaN                                 \n",
              "\n",
              "  Off-site Transfers for Treatment Prior to Final Disposal - Chemical Treatment  \\\n",
              "0                                                NaN                              \n",
              "1                                                NaN                              \n",
              "2                                                NaN                              \n",
              "3                                                NaN                              \n",
              "4                                                NaN                              \n",
              "\n",
              "  Off-site Transfers for Treatment Prior to Final Disposal - Incineration / Thermal  \\\n",
              "0                                                NaN                                  \n",
              "1                                                NaN                                  \n",
              "2                                                NaN                                  \n",
              "3                                                NaN                                  \n",
              "4                                                NaN                                  \n",
              "\n",
              "  Off-site Transfers for Treatment Prior to Final Disposal - Municipal Sewage Treatment Plant  \\\n",
              "0                                                NaN                                            \n",
              "1                                                NaN                                            \n",
              "2                                                NaN                                            \n",
              "3                                                NaN                                            \n",
              "4                                                NaN                                            \n",
              "\n",
              "  Off-site Transfers for Treatment Prior to Final Disposal - Physical Treatment  \\\n",
              "0                                                NaN                              \n",
              "1                                                NaN                              \n",
              "2                                                NaN                              \n",
              "3                                                NaN                              \n",
              "4                                                NaN                              \n",
              "\n",
              "   On-site Disposal - Land Treatment  On-site Disposal - Landfill  \\\n",
              "0                                NaN                          NaN   \n",
              "1                                NaN                          NaN   \n",
              "2                                NaN                          NaN   \n",
              "3                                NaN                          NaN   \n",
              "4                                NaN                          NaN   \n",
              "\n",
              "   On-site Disposal - Tailings Management  \\\n",
              "0                                     NaN   \n",
              "1                                     NaN   \n",
              "2                                     NaN   \n",
              "3                                     NaN   \n",
              "4                                     NaN   \n",
              "\n",
              "   On-site Disposal - Underground Injection  \\\n",
              "0                                       NaN   \n",
              "1                                       NaN   \n",
              "2                                       NaN   \n",
              "3                                       NaN   \n",
              "4                                       NaN   \n",
              "\n",
              "   On-site Disposal - Waste Rock management  \n",
              "0                                       NaN  \n",
              "1                                       NaN  \n",
              "2                                       NaN  \n",
              "3                                       NaN  \n",
              "4                                       NaN  \n",
              "\n",
              "[5 rows x 55 columns]"
            ],
            "text/html": [
              "\n",
              "  <div id=\"df-2ca7539d-a016-44d4-aea3-377423b5dad9\" class=\"colab-df-container\">\n",
              "    <div>\n",
              "<style scoped>\n",
              "    .dataframe tbody tr th:only-of-type {\n",
              "        vertical-align: middle;\n",
              "    }\n",
              "\n",
              "    .dataframe tbody tr th {\n",
              "        vertical-align: top;\n",
              "    }\n",
              "\n",
              "    .dataframe thead th {\n",
              "        text-align: right;\n",
              "    }\n",
              "</style>\n",
              "<table border=\"1\" class=\"dataframe\">\n",
              "  <thead>\n",
              "    <tr style=\"text-align: right;\">\n",
              "      <th></th>\n",
              "      <th>Reporting_Year / Année</th>\n",
              "      <th>NPRI_ID / No_INRP</th>\n",
              "      <th>Number of employees_release</th>\n",
              "      <th>Company_Name / Dénomination_sociale_de_l'entreprise</th>\n",
              "      <th>Facility_Name / Installation</th>\n",
              "      <th>NAICS / Code_SCIAN</th>\n",
              "      <th>NAICS Title / Titre Code_SCIAN</th>\n",
              "      <th>PROVINCE</th>\n",
              "      <th>City</th>\n",
              "      <th>Latitude</th>\n",
              "      <th>...</th>\n",
              "      <th>Off-site Transfers for Treatment Prior to Final Disposal - Biological Treatment</th>\n",
              "      <th>Off-site Transfers for Treatment Prior to Final Disposal - Chemical Treatment</th>\n",
              "      <th>Off-site Transfers for Treatment Prior to Final Disposal - Incineration / Thermal</th>\n",
              "      <th>Off-site Transfers for Treatment Prior to Final Disposal - Municipal Sewage Treatment Plant</th>\n",
              "      <th>Off-site Transfers for Treatment Prior to Final Disposal - Physical Treatment</th>\n",
              "      <th>On-site Disposal - Land Treatment</th>\n",
              "      <th>On-site Disposal - Landfill</th>\n",
              "      <th>On-site Disposal - Tailings Management</th>\n",
              "      <th>On-site Disposal - Underground Injection</th>\n",
              "      <th>On-site Disposal - Waste Rock management</th>\n",
              "    </tr>\n",
              "  </thead>\n",
              "  <tbody>\n",
              "    <tr>\n",
              "      <th>0</th>\n",
              "      <td>2000</td>\n",
              "      <td>1</td>\n",
              "      <td>440</td>\n",
              "      <td>Alberta-Pacific Forest Industries Inc.</td>\n",
              "      <td>(blank)</td>\n",
              "      <td>322112</td>\n",
              "      <td>Chemical pulp mills</td>\n",
              "      <td>AB</td>\n",
              "      <td>County of Athabasca</td>\n",
              "      <td>54.923116</td>\n",
              "      <td>...</td>\n",
              "      <td>NaN</td>\n",
              "      <td>NaN</td>\n",
              "      <td>NaN</td>\n",
              "      <td>NaN</td>\n",
              "      <td>NaN</td>\n",
              "      <td>NaN</td>\n",
              "      <td>NaN</td>\n",
              "      <td>NaN</td>\n",
              "      <td>NaN</td>\n",
              "      <td>NaN</td>\n",
              "    </tr>\n",
              "    <tr>\n",
              "      <th>1</th>\n",
              "      <td>2000</td>\n",
              "      <td>1</td>\n",
              "      <td>440</td>\n",
              "      <td>Alberta-Pacific Forest Industries Inc.</td>\n",
              "      <td>(blank)</td>\n",
              "      <td>322112</td>\n",
              "      <td>Chemical pulp mills</td>\n",
              "      <td>AB</td>\n",
              "      <td>County of Athabasca</td>\n",
              "      <td>54.923116</td>\n",
              "      <td>...</td>\n",
              "      <td>NaN</td>\n",
              "      <td>NaN</td>\n",
              "      <td>NaN</td>\n",
              "      <td>NaN</td>\n",
              "      <td>NaN</td>\n",
              "      <td>NaN</td>\n",
              "      <td>NaN</td>\n",
              "      <td>NaN</td>\n",
              "      <td>NaN</td>\n",
              "      <td>NaN</td>\n",
              "    </tr>\n",
              "    <tr>\n",
              "      <th>2</th>\n",
              "      <td>2000</td>\n",
              "      <td>1</td>\n",
              "      <td>440</td>\n",
              "      <td>Alberta-Pacific Forest Industries Inc.</td>\n",
              "      <td>(blank)</td>\n",
              "      <td>322112</td>\n",
              "      <td>Chemical pulp mills</td>\n",
              "      <td>AB</td>\n",
              "      <td>County of Athabasca</td>\n",
              "      <td>54.923116</td>\n",
              "      <td>...</td>\n",
              "      <td>NaN</td>\n",
              "      <td>NaN</td>\n",
              "      <td>NaN</td>\n",
              "      <td>NaN</td>\n",
              "      <td>NaN</td>\n",
              "      <td>NaN</td>\n",
              "      <td>NaN</td>\n",
              "      <td>NaN</td>\n",
              "      <td>NaN</td>\n",
              "      <td>NaN</td>\n",
              "    </tr>\n",
              "    <tr>\n",
              "      <th>3</th>\n",
              "      <td>2000</td>\n",
              "      <td>1</td>\n",
              "      <td>440</td>\n",
              "      <td>Alberta-Pacific Forest Industries Inc.</td>\n",
              "      <td>(blank)</td>\n",
              "      <td>322112</td>\n",
              "      <td>Chemical pulp mills</td>\n",
              "      <td>AB</td>\n",
              "      <td>County of Athabasca</td>\n",
              "      <td>54.923116</td>\n",
              "      <td>...</td>\n",
              "      <td>NaN</td>\n",
              "      <td>NaN</td>\n",
              "      <td>NaN</td>\n",
              "      <td>NaN</td>\n",
              "      <td>NaN</td>\n",
              "      <td>NaN</td>\n",
              "      <td>NaN</td>\n",
              "      <td>NaN</td>\n",
              "      <td>NaN</td>\n",
              "      <td>NaN</td>\n",
              "    </tr>\n",
              "    <tr>\n",
              "      <th>4</th>\n",
              "      <td>2000</td>\n",
              "      <td>1</td>\n",
              "      <td>440</td>\n",
              "      <td>Alberta-Pacific Forest Industries Inc.</td>\n",
              "      <td>(blank)</td>\n",
              "      <td>322112</td>\n",
              "      <td>Chemical pulp mills</td>\n",
              "      <td>AB</td>\n",
              "      <td>County of Athabasca</td>\n",
              "      <td>54.923116</td>\n",
              "      <td>...</td>\n",
              "      <td>NaN</td>\n",
              "      <td>NaN</td>\n",
              "      <td>NaN</td>\n",
              "      <td>NaN</td>\n",
              "      <td>NaN</td>\n",
              "      <td>NaN</td>\n",
              "      <td>NaN</td>\n",
              "      <td>NaN</td>\n",
              "      <td>NaN</td>\n",
              "      <td>NaN</td>\n",
              "    </tr>\n",
              "  </tbody>\n",
              "</table>\n",
              "<p>5 rows × 55 columns</p>\n",
              "</div>\n",
              "    <div class=\"colab-df-buttons\">\n",
              "\n",
              "  <div class=\"colab-df-container\">\n",
              "    <button class=\"colab-df-convert\" onclick=\"convertToInteractive('df-2ca7539d-a016-44d4-aea3-377423b5dad9')\"\n",
              "            title=\"Convert this dataframe to an interactive table.\"\n",
              "            style=\"display:none;\">\n",
              "\n",
              "  <svg xmlns=\"http://www.w3.org/2000/svg\" height=\"24px\" viewBox=\"0 -960 960 960\">\n",
              "    <path d=\"M120-120v-720h720v720H120Zm60-500h600v-160H180v160Zm220 220h160v-160H400v160Zm0 220h160v-160H400v160ZM180-400h160v-160H180v160Zm440 0h160v-160H620v160ZM180-180h160v-160H180v160Zm440 0h160v-160H620v160Z\"/>\n",
              "  </svg>\n",
              "    </button>\n",
              "\n",
              "  <style>\n",
              "    .colab-df-container {\n",
              "      display:flex;\n",
              "      gap: 12px;\n",
              "    }\n",
              "\n",
              "    .colab-df-convert {\n",
              "      background-color: #E8F0FE;\n",
              "      border: none;\n",
              "      border-radius: 50%;\n",
              "      cursor: pointer;\n",
              "      display: none;\n",
              "      fill: #1967D2;\n",
              "      height: 32px;\n",
              "      padding: 0 0 0 0;\n",
              "      width: 32px;\n",
              "    }\n",
              "\n",
              "    .colab-df-convert:hover {\n",
              "      background-color: #E2EBFA;\n",
              "      box-shadow: 0px 1px 2px rgba(60, 64, 67, 0.3), 0px 1px 3px 1px rgba(60, 64, 67, 0.15);\n",
              "      fill: #174EA6;\n",
              "    }\n",
              "\n",
              "    .colab-df-buttons div {\n",
              "      margin-bottom: 4px;\n",
              "    }\n",
              "\n",
              "    [theme=dark] .colab-df-convert {\n",
              "      background-color: #3B4455;\n",
              "      fill: #D2E3FC;\n",
              "    }\n",
              "\n",
              "    [theme=dark] .colab-df-convert:hover {\n",
              "      background-color: #434B5C;\n",
              "      box-shadow: 0px 1px 3px 1px rgba(0, 0, 0, 0.15);\n",
              "      filter: drop-shadow(0px 1px 2px rgba(0, 0, 0, 0.3));\n",
              "      fill: #FFFFFF;\n",
              "    }\n",
              "  </style>\n",
              "\n",
              "    <script>\n",
              "      const buttonEl =\n",
              "        document.querySelector('#df-2ca7539d-a016-44d4-aea3-377423b5dad9 button.colab-df-convert');\n",
              "      buttonEl.style.display =\n",
              "        google.colab.kernel.accessAllowed ? 'block' : 'none';\n",
              "\n",
              "      async function convertToInteractive(key) {\n",
              "        const element = document.querySelector('#df-2ca7539d-a016-44d4-aea3-377423b5dad9');\n",
              "        const dataTable =\n",
              "          await google.colab.kernel.invokeFunction('convertToInteractive',\n",
              "                                                    [key], {});\n",
              "        if (!dataTable) return;\n",
              "\n",
              "        const docLinkHtml = 'Like what you see? Visit the ' +\n",
              "          '<a target=\"_blank\" href=https://colab.research.google.com/notebooks/data_table.ipynb>data table notebook</a>'\n",
              "          + ' to learn more about interactive tables.';\n",
              "        element.innerHTML = '';\n",
              "        dataTable['output_type'] = 'display_data';\n",
              "        await google.colab.output.renderOutput(dataTable, element);\n",
              "        const docLink = document.createElement('div');\n",
              "        docLink.innerHTML = docLinkHtml;\n",
              "        element.appendChild(docLink);\n",
              "      }\n",
              "    </script>\n",
              "  </div>\n",
              "\n",
              "\n",
              "<div id=\"df-238d0adf-e86c-4e29-a023-67038a8cd44d\">\n",
              "  <button class=\"colab-df-quickchart\" onclick=\"quickchart('df-238d0adf-e86c-4e29-a023-67038a8cd44d')\"\n",
              "            title=\"Suggest charts\"\n",
              "            style=\"display:none;\">\n",
              "\n",
              "<svg xmlns=\"http://www.w3.org/2000/svg\" height=\"24px\"viewBox=\"0 0 24 24\"\n",
              "     width=\"24px\">\n",
              "    <g>\n",
              "        <path d=\"M19 3H5c-1.1 0-2 .9-2 2v14c0 1.1.9 2 2 2h14c1.1 0 2-.9 2-2V5c0-1.1-.9-2-2-2zM9 17H7v-7h2v7zm4 0h-2V7h2v10zm4 0h-2v-4h2v4z\"/>\n",
              "    </g>\n",
              "</svg>\n",
              "  </button>\n",
              "\n",
              "<style>\n",
              "  .colab-df-quickchart {\n",
              "      --bg-color: #E8F0FE;\n",
              "      --fill-color: #1967D2;\n",
              "      --hover-bg-color: #E2EBFA;\n",
              "      --hover-fill-color: #174EA6;\n",
              "      --disabled-fill-color: #AAA;\n",
              "      --disabled-bg-color: #DDD;\n",
              "  }\n",
              "\n",
              "  [theme=dark] .colab-df-quickchart {\n",
              "      --bg-color: #3B4455;\n",
              "      --fill-color: #D2E3FC;\n",
              "      --hover-bg-color: #434B5C;\n",
              "      --hover-fill-color: #FFFFFF;\n",
              "      --disabled-bg-color: #3B4455;\n",
              "      --disabled-fill-color: #666;\n",
              "  }\n",
              "\n",
              "  .colab-df-quickchart {\n",
              "    background-color: var(--bg-color);\n",
              "    border: none;\n",
              "    border-radius: 50%;\n",
              "    cursor: pointer;\n",
              "    display: none;\n",
              "    fill: var(--fill-color);\n",
              "    height: 32px;\n",
              "    padding: 0;\n",
              "    width: 32px;\n",
              "  }\n",
              "\n",
              "  .colab-df-quickchart:hover {\n",
              "    background-color: var(--hover-bg-color);\n",
              "    box-shadow: 0 1px 2px rgba(60, 64, 67, 0.3), 0 1px 3px 1px rgba(60, 64, 67, 0.15);\n",
              "    fill: var(--button-hover-fill-color);\n",
              "  }\n",
              "\n",
              "  .colab-df-quickchart-complete:disabled,\n",
              "  .colab-df-quickchart-complete:disabled:hover {\n",
              "    background-color: var(--disabled-bg-color);\n",
              "    fill: var(--disabled-fill-color);\n",
              "    box-shadow: none;\n",
              "  }\n",
              "\n",
              "  .colab-df-spinner {\n",
              "    border: 2px solid var(--fill-color);\n",
              "    border-color: transparent;\n",
              "    border-bottom-color: var(--fill-color);\n",
              "    animation:\n",
              "      spin 1s steps(1) infinite;\n",
              "  }\n",
              "\n",
              "  @keyframes spin {\n",
              "    0% {\n",
              "      border-color: transparent;\n",
              "      border-bottom-color: var(--fill-color);\n",
              "      border-left-color: var(--fill-color);\n",
              "    }\n",
              "    20% {\n",
              "      border-color: transparent;\n",
              "      border-left-color: var(--fill-color);\n",
              "      border-top-color: var(--fill-color);\n",
              "    }\n",
              "    30% {\n",
              "      border-color: transparent;\n",
              "      border-left-color: var(--fill-color);\n",
              "      border-top-color: var(--fill-color);\n",
              "      border-right-color: var(--fill-color);\n",
              "    }\n",
              "    40% {\n",
              "      border-color: transparent;\n",
              "      border-right-color: var(--fill-color);\n",
              "      border-top-color: var(--fill-color);\n",
              "    }\n",
              "    60% {\n",
              "      border-color: transparent;\n",
              "      border-right-color: var(--fill-color);\n",
              "    }\n",
              "    80% {\n",
              "      border-color: transparent;\n",
              "      border-right-color: var(--fill-color);\n",
              "      border-bottom-color: var(--fill-color);\n",
              "    }\n",
              "    90% {\n",
              "      border-color: transparent;\n",
              "      border-bottom-color: var(--fill-color);\n",
              "    }\n",
              "  }\n",
              "</style>\n",
              "\n",
              "  <script>\n",
              "    async function quickchart(key) {\n",
              "      const quickchartButtonEl =\n",
              "        document.querySelector('#' + key + ' button');\n",
              "      quickchartButtonEl.disabled = true;  // To prevent multiple clicks.\n",
              "      quickchartButtonEl.classList.add('colab-df-spinner');\n",
              "      try {\n",
              "        const charts = await google.colab.kernel.invokeFunction(\n",
              "            'suggestCharts', [key], {});\n",
              "      } catch (error) {\n",
              "        console.error('Error during call to suggestCharts:', error);\n",
              "      }\n",
              "      quickchartButtonEl.classList.remove('colab-df-spinner');\n",
              "      quickchartButtonEl.classList.add('colab-df-quickchart-complete');\n",
              "    }\n",
              "    (() => {\n",
              "      let quickchartButtonEl =\n",
              "        document.querySelector('#df-238d0adf-e86c-4e29-a023-67038a8cd44d button');\n",
              "      quickchartButtonEl.style.display =\n",
              "        google.colab.kernel.accessAllowed ? 'block' : 'none';\n",
              "    })();\n",
              "  </script>\n",
              "</div>\n",
              "\n",
              "    </div>\n",
              "  </div>\n"
            ],
            "application/vnd.google.colaboratory.intrinsic+json": {
              "type": "dataframe"
            }
          },
          "metadata": {},
          "execution_count": 9
        }
      ]
    },
    {
      "cell_type": "code",
      "source": [
        "# check the merged collumns\n",
        "df_merged.columns"
      ],
      "metadata": {
        "colab": {
          "base_uri": "https://localhost:8080/"
        },
        "id": "qSFbSu6qz-Qn",
        "outputId": "75ef8d91-2297-455a-f3a1-faa113da4f63"
      },
      "execution_count": 10,
      "outputs": [
        {
          "output_type": "execute_result",
          "data": {
            "text/plain": [
              "Index(['Reporting_Year / Année', 'NPRI_ID / No_INRP',\n",
              "       'Number of employees_release',\n",
              "       'Company_Name / Dénomination_sociale_de_l'entreprise',\n",
              "       'Facility_Name / Installation', 'NAICS / Code_SCIAN',\n",
              "       'NAICS Title / Titre Code_SCIAN', 'PROVINCE', 'City', 'Latitude',\n",
              "       'Longitude', 'CAS_Number / No_CAS',\n",
              "       'Substance Name (English) / Nom de substance (Anglais)',\n",
              "       'Units / Unités', 'Estimation_Method / Méthode_d’estimation',\n",
              "       'Release to Air - Fugitive', 'Release to Air - Other Non-Point',\n",
              "       'Release to Air - Road dust', 'Release to Air - Spills',\n",
              "       'Release to Air - Stack / Point', 'Release to Air - Storage / Handling',\n",
              "       'Releases to Land - Leaks', 'Releases to Land - Other',\n",
              "       'Releases to Land - Spills',\n",
              "       'Releases to Water Bodies - Direct Discharges',\n",
              "       'Releases to Water Bodies - Leaks', 'Releases to Water Bodies - Spills',\n",
              "       'Sum of release to all media (<1tonne)', 'Number of employees_disposal',\n",
              "       'Off-site Disposal - Land Treatment', 'Off-site Disposal - Landfill',\n",
              "       'Off-site Disposal - Storage',\n",
              "       'Off-site Disposal - Tailings Management',\n",
              "       'Off-site Disposal - Underground Injection',\n",
              "       'Off-site Disposal - Waste Rock management',\n",
              "       'Off-site Transfers for Recycling - Energy Recovery',\n",
              "       'Off-site Transfers for Recycling - Other',\n",
              "       'Off-site Transfers for Recycling - Recovery of Acids and Bases',\n",
              "       'Off-site Transfers for Recycling - Recovery of Catalysts',\n",
              "       'Off-site Transfers for Recycling - Recovery of Inorganic Materials (not metals)',\n",
              "       'Off-site Transfers for Recycling - Recovery of Metals and Metal Compounds',\n",
              "       'Off-site Transfers for Recycling - Recovery of Organic Substances (not solvents)',\n",
              "       'Off-site Transfers for Recycling - Recovery of Pollution Abatement Residues',\n",
              "       'Off-site Transfers for Recycling - Recovery of Solvents',\n",
              "       'Off-site Transfers for Recycling - Refining or Re-use of Used Oil',\n",
              "       'Off-site Transfers for Treatment Prior to Final Disposal - Biological Treatment',\n",
              "       'Off-site Transfers for Treatment Prior to Final Disposal - Chemical Treatment',\n",
              "       'Off-site Transfers for Treatment Prior to Final Disposal - Incineration / Thermal',\n",
              "       'Off-site Transfers for Treatment Prior to Final Disposal - Municipal Sewage Treatment Plant',\n",
              "       'Off-site Transfers for Treatment Prior to Final Disposal - Physical Treatment',\n",
              "       'On-site Disposal - Land Treatment', 'On-site Disposal - Landfill',\n",
              "       'On-site Disposal - Tailings Management',\n",
              "       'On-site Disposal - Underground Injection',\n",
              "       'On-site Disposal - Waste Rock management'],\n",
              "      dtype='object')"
            ]
          },
          "metadata": {},
          "execution_count": 10
        }
      ]
    },
    {
      "cell_type": "markdown",
      "source": [
        "Combine 'Number of employees_release' and 'Number of employees_disposal' into a single column,\n",
        "prioritizing non-missing values from 'Number of employees_release'"
      ],
      "metadata": {
        "id": "l2U5HkiGyEav"
      }
    },
    {
      "cell_type": "code",
      "source": [
        "df_merged[\"Number of employees\"] = df_merged[\"Number of employees_release\"].combine_first(\n",
        "    df_merged[\"Number of employees_disposal\"]\n",
        ")\n"
      ],
      "metadata": {
        "id": "lxIv9YLszo2Y"
      },
      "execution_count": 11,
      "outputs": []
    },
    {
      "cell_type": "markdown",
      "source": [
        "droping the columns with missing values for 'Number of employees' and 'Number of employees_release' and 'Number of employees_disposal'  since they are not needed"
      ],
      "metadata": {
        "id": "X_GFeaCd0yip"
      }
    },
    {
      "cell_type": "code",
      "source": [
        "df_merged.drop(columns=[\n",
        "    \"Number of employees_release\", \"Number of employees_disposal\"\n",
        "], inplace=True)\n",
        "\n",
        "\n"
      ],
      "metadata": {
        "id": "Gql3dI_Dz00x"
      },
      "execution_count": 12,
      "outputs": []
    },
    {
      "cell_type": "markdown",
      "source": [
        "# ***# EDA & Data Cleaning***\n",
        "\n",
        "1.    Understanding the Data\n",
        "\n",
        "Goal: To Identify what each column represents and assess how relevant it is to pollution prediction.\n",
        "\n",
        "Our Actions:\n",
        "\n",
        "We Use df.info() to understand data types and missing values\n",
        "\n",
        "We Use df.describe() for statistical summary\n",
        "\n",
        "We Print sample rows: df.head()\n",
        "\n",
        "We Group by industry/year to check variety:\n",
        "\n"
      ],
      "metadata": {
        "id": "dPcQuiz6GIzW"
      }
    },
    {
      "cell_type": "markdown",
      "source": [
        "View the First Few Rows to Understand"
      ],
      "metadata": {
        "id": "pFMDSVG9pFtq"
      }
    },
    {
      "cell_type": "code",
      "source": [
        "df_merged.head()"
      ],
      "metadata": {
        "colab": {
          "base_uri": "https://localhost:8080/",
          "height": 533
        },
        "id": "_f1HAbF8o3aq",
        "outputId": "3ad98ed3-0c20-43bb-c8f0-21477b85bdaa"
      },
      "execution_count": 13,
      "outputs": [
        {
          "output_type": "execute_result",
          "data": {
            "text/plain": [
              "   Reporting_Year / Année  NPRI_ID / No_INRP  \\\n",
              "0                    2000                  1   \n",
              "1                    2000                  1   \n",
              "2                    2000                  1   \n",
              "3                    2000                  1   \n",
              "4                    2000                  1   \n",
              "\n",
              "  Company_Name / Dénomination_sociale_de_l'entreprise  \\\n",
              "0             Alberta-Pacific Forest Industries Inc.    \n",
              "1             Alberta-Pacific Forest Industries Inc.    \n",
              "2             Alberta-Pacific Forest Industries Inc.    \n",
              "3             Alberta-Pacific Forest Industries Inc.    \n",
              "4             Alberta-Pacific Forest Industries Inc.    \n",
              "\n",
              "  Facility_Name / Installation  NAICS / Code_SCIAN  \\\n",
              "0                      (blank)              322112   \n",
              "1                      (blank)              322112   \n",
              "2                      (blank)              322112   \n",
              "3                      (blank)              322112   \n",
              "4                      (blank)              322112   \n",
              "\n",
              "  NAICS Title / Titre Code_SCIAN PROVINCE                 City   Latitude  \\\n",
              "0            Chemical pulp mills       AB  County of Athabasca  54.923116   \n",
              "1            Chemical pulp mills       AB  County of Athabasca  54.923116   \n",
              "2            Chemical pulp mills       AB  County of Athabasca  54.923116   \n",
              "3            Chemical pulp mills       AB  County of Athabasca  54.923116   \n",
              "4            Chemical pulp mills       AB  County of Athabasca  54.923116   \n",
              "\n",
              "    Longitude  ...  \\\n",
              "0 -112.861867  ...   \n",
              "1 -112.861867  ...   \n",
              "2 -112.861867  ...   \n",
              "3 -112.861867  ...   \n",
              "4 -112.861867  ...   \n",
              "\n",
              "  Off-site Transfers for Treatment Prior to Final Disposal - Chemical Treatment  \\\n",
              "0                                                NaN                              \n",
              "1                                                NaN                              \n",
              "2                                                NaN                              \n",
              "3                                                NaN                              \n",
              "4                                                NaN                              \n",
              "\n",
              "  Off-site Transfers for Treatment Prior to Final Disposal - Incineration / Thermal  \\\n",
              "0                                                NaN                                  \n",
              "1                                                NaN                                  \n",
              "2                                                NaN                                  \n",
              "3                                                NaN                                  \n",
              "4                                                NaN                                  \n",
              "\n",
              "  Off-site Transfers for Treatment Prior to Final Disposal - Municipal Sewage Treatment Plant  \\\n",
              "0                                                NaN                                            \n",
              "1                                                NaN                                            \n",
              "2                                                NaN                                            \n",
              "3                                                NaN                                            \n",
              "4                                                NaN                                            \n",
              "\n",
              "  Off-site Transfers for Treatment Prior to Final Disposal - Physical Treatment  \\\n",
              "0                                                NaN                              \n",
              "1                                                NaN                              \n",
              "2                                                NaN                              \n",
              "3                                                NaN                              \n",
              "4                                                NaN                              \n",
              "\n",
              "   On-site Disposal - Land Treatment  On-site Disposal - Landfill  \\\n",
              "0                                NaN                          NaN   \n",
              "1                                NaN                          NaN   \n",
              "2                                NaN                          NaN   \n",
              "3                                NaN                          NaN   \n",
              "4                                NaN                          NaN   \n",
              "\n",
              "   On-site Disposal - Tailings Management  \\\n",
              "0                                     NaN   \n",
              "1                                     NaN   \n",
              "2                                     NaN   \n",
              "3                                     NaN   \n",
              "4                                     NaN   \n",
              "\n",
              "   On-site Disposal - Underground Injection  \\\n",
              "0                                       NaN   \n",
              "1                                       NaN   \n",
              "2                                       NaN   \n",
              "3                                       NaN   \n",
              "4                                       NaN   \n",
              "\n",
              "   On-site Disposal - Waste Rock management  Number of employees  \n",
              "0                                       NaN                  440  \n",
              "1                                       NaN                  440  \n",
              "2                                       NaN                  440  \n",
              "3                                       NaN                  440  \n",
              "4                                       NaN                  440  \n",
              "\n",
              "[5 rows x 54 columns]"
            ],
            "text/html": [
              "\n",
              "  <div id=\"df-4ba875c4-1665-46ec-8909-55aeda39084d\" class=\"colab-df-container\">\n",
              "    <div>\n",
              "<style scoped>\n",
              "    .dataframe tbody tr th:only-of-type {\n",
              "        vertical-align: middle;\n",
              "    }\n",
              "\n",
              "    .dataframe tbody tr th {\n",
              "        vertical-align: top;\n",
              "    }\n",
              "\n",
              "    .dataframe thead th {\n",
              "        text-align: right;\n",
              "    }\n",
              "</style>\n",
              "<table border=\"1\" class=\"dataframe\">\n",
              "  <thead>\n",
              "    <tr style=\"text-align: right;\">\n",
              "      <th></th>\n",
              "      <th>Reporting_Year / Année</th>\n",
              "      <th>NPRI_ID / No_INRP</th>\n",
              "      <th>Company_Name / Dénomination_sociale_de_l'entreprise</th>\n",
              "      <th>Facility_Name / Installation</th>\n",
              "      <th>NAICS / Code_SCIAN</th>\n",
              "      <th>NAICS Title / Titre Code_SCIAN</th>\n",
              "      <th>PROVINCE</th>\n",
              "      <th>City</th>\n",
              "      <th>Latitude</th>\n",
              "      <th>Longitude</th>\n",
              "      <th>...</th>\n",
              "      <th>Off-site Transfers for Treatment Prior to Final Disposal - Chemical Treatment</th>\n",
              "      <th>Off-site Transfers for Treatment Prior to Final Disposal - Incineration / Thermal</th>\n",
              "      <th>Off-site Transfers for Treatment Prior to Final Disposal - Municipal Sewage Treatment Plant</th>\n",
              "      <th>Off-site Transfers for Treatment Prior to Final Disposal - Physical Treatment</th>\n",
              "      <th>On-site Disposal - Land Treatment</th>\n",
              "      <th>On-site Disposal - Landfill</th>\n",
              "      <th>On-site Disposal - Tailings Management</th>\n",
              "      <th>On-site Disposal - Underground Injection</th>\n",
              "      <th>On-site Disposal - Waste Rock management</th>\n",
              "      <th>Number of employees</th>\n",
              "    </tr>\n",
              "  </thead>\n",
              "  <tbody>\n",
              "    <tr>\n",
              "      <th>0</th>\n",
              "      <td>2000</td>\n",
              "      <td>1</td>\n",
              "      <td>Alberta-Pacific Forest Industries Inc.</td>\n",
              "      <td>(blank)</td>\n",
              "      <td>322112</td>\n",
              "      <td>Chemical pulp mills</td>\n",
              "      <td>AB</td>\n",
              "      <td>County of Athabasca</td>\n",
              "      <td>54.923116</td>\n",
              "      <td>-112.861867</td>\n",
              "      <td>...</td>\n",
              "      <td>NaN</td>\n",
              "      <td>NaN</td>\n",
              "      <td>NaN</td>\n",
              "      <td>NaN</td>\n",
              "      <td>NaN</td>\n",
              "      <td>NaN</td>\n",
              "      <td>NaN</td>\n",
              "      <td>NaN</td>\n",
              "      <td>NaN</td>\n",
              "      <td>440</td>\n",
              "    </tr>\n",
              "    <tr>\n",
              "      <th>1</th>\n",
              "      <td>2000</td>\n",
              "      <td>1</td>\n",
              "      <td>Alberta-Pacific Forest Industries Inc.</td>\n",
              "      <td>(blank)</td>\n",
              "      <td>322112</td>\n",
              "      <td>Chemical pulp mills</td>\n",
              "      <td>AB</td>\n",
              "      <td>County of Athabasca</td>\n",
              "      <td>54.923116</td>\n",
              "      <td>-112.861867</td>\n",
              "      <td>...</td>\n",
              "      <td>NaN</td>\n",
              "      <td>NaN</td>\n",
              "      <td>NaN</td>\n",
              "      <td>NaN</td>\n",
              "      <td>NaN</td>\n",
              "      <td>NaN</td>\n",
              "      <td>NaN</td>\n",
              "      <td>NaN</td>\n",
              "      <td>NaN</td>\n",
              "      <td>440</td>\n",
              "    </tr>\n",
              "    <tr>\n",
              "      <th>2</th>\n",
              "      <td>2000</td>\n",
              "      <td>1</td>\n",
              "      <td>Alberta-Pacific Forest Industries Inc.</td>\n",
              "      <td>(blank)</td>\n",
              "      <td>322112</td>\n",
              "      <td>Chemical pulp mills</td>\n",
              "      <td>AB</td>\n",
              "      <td>County of Athabasca</td>\n",
              "      <td>54.923116</td>\n",
              "      <td>-112.861867</td>\n",
              "      <td>...</td>\n",
              "      <td>NaN</td>\n",
              "      <td>NaN</td>\n",
              "      <td>NaN</td>\n",
              "      <td>NaN</td>\n",
              "      <td>NaN</td>\n",
              "      <td>NaN</td>\n",
              "      <td>NaN</td>\n",
              "      <td>NaN</td>\n",
              "      <td>NaN</td>\n",
              "      <td>440</td>\n",
              "    </tr>\n",
              "    <tr>\n",
              "      <th>3</th>\n",
              "      <td>2000</td>\n",
              "      <td>1</td>\n",
              "      <td>Alberta-Pacific Forest Industries Inc.</td>\n",
              "      <td>(blank)</td>\n",
              "      <td>322112</td>\n",
              "      <td>Chemical pulp mills</td>\n",
              "      <td>AB</td>\n",
              "      <td>County of Athabasca</td>\n",
              "      <td>54.923116</td>\n",
              "      <td>-112.861867</td>\n",
              "      <td>...</td>\n",
              "      <td>NaN</td>\n",
              "      <td>NaN</td>\n",
              "      <td>NaN</td>\n",
              "      <td>NaN</td>\n",
              "      <td>NaN</td>\n",
              "      <td>NaN</td>\n",
              "      <td>NaN</td>\n",
              "      <td>NaN</td>\n",
              "      <td>NaN</td>\n",
              "      <td>440</td>\n",
              "    </tr>\n",
              "    <tr>\n",
              "      <th>4</th>\n",
              "      <td>2000</td>\n",
              "      <td>1</td>\n",
              "      <td>Alberta-Pacific Forest Industries Inc.</td>\n",
              "      <td>(blank)</td>\n",
              "      <td>322112</td>\n",
              "      <td>Chemical pulp mills</td>\n",
              "      <td>AB</td>\n",
              "      <td>County of Athabasca</td>\n",
              "      <td>54.923116</td>\n",
              "      <td>-112.861867</td>\n",
              "      <td>...</td>\n",
              "      <td>NaN</td>\n",
              "      <td>NaN</td>\n",
              "      <td>NaN</td>\n",
              "      <td>NaN</td>\n",
              "      <td>NaN</td>\n",
              "      <td>NaN</td>\n",
              "      <td>NaN</td>\n",
              "      <td>NaN</td>\n",
              "      <td>NaN</td>\n",
              "      <td>440</td>\n",
              "    </tr>\n",
              "  </tbody>\n",
              "</table>\n",
              "<p>5 rows × 54 columns</p>\n",
              "</div>\n",
              "    <div class=\"colab-df-buttons\">\n",
              "\n",
              "  <div class=\"colab-df-container\">\n",
              "    <button class=\"colab-df-convert\" onclick=\"convertToInteractive('df-4ba875c4-1665-46ec-8909-55aeda39084d')\"\n",
              "            title=\"Convert this dataframe to an interactive table.\"\n",
              "            style=\"display:none;\">\n",
              "\n",
              "  <svg xmlns=\"http://www.w3.org/2000/svg\" height=\"24px\" viewBox=\"0 -960 960 960\">\n",
              "    <path d=\"M120-120v-720h720v720H120Zm60-500h600v-160H180v160Zm220 220h160v-160H400v160Zm0 220h160v-160H400v160ZM180-400h160v-160H180v160Zm440 0h160v-160H620v160ZM180-180h160v-160H180v160Zm440 0h160v-160H620v160Z\"/>\n",
              "  </svg>\n",
              "    </button>\n",
              "\n",
              "  <style>\n",
              "    .colab-df-container {\n",
              "      display:flex;\n",
              "      gap: 12px;\n",
              "    }\n",
              "\n",
              "    .colab-df-convert {\n",
              "      background-color: #E8F0FE;\n",
              "      border: none;\n",
              "      border-radius: 50%;\n",
              "      cursor: pointer;\n",
              "      display: none;\n",
              "      fill: #1967D2;\n",
              "      height: 32px;\n",
              "      padding: 0 0 0 0;\n",
              "      width: 32px;\n",
              "    }\n",
              "\n",
              "    .colab-df-convert:hover {\n",
              "      background-color: #E2EBFA;\n",
              "      box-shadow: 0px 1px 2px rgba(60, 64, 67, 0.3), 0px 1px 3px 1px rgba(60, 64, 67, 0.15);\n",
              "      fill: #174EA6;\n",
              "    }\n",
              "\n",
              "    .colab-df-buttons div {\n",
              "      margin-bottom: 4px;\n",
              "    }\n",
              "\n",
              "    [theme=dark] .colab-df-convert {\n",
              "      background-color: #3B4455;\n",
              "      fill: #D2E3FC;\n",
              "    }\n",
              "\n",
              "    [theme=dark] .colab-df-convert:hover {\n",
              "      background-color: #434B5C;\n",
              "      box-shadow: 0px 1px 3px 1px rgba(0, 0, 0, 0.15);\n",
              "      filter: drop-shadow(0px 1px 2px rgba(0, 0, 0, 0.3));\n",
              "      fill: #FFFFFF;\n",
              "    }\n",
              "  </style>\n",
              "\n",
              "    <script>\n",
              "      const buttonEl =\n",
              "        document.querySelector('#df-4ba875c4-1665-46ec-8909-55aeda39084d button.colab-df-convert');\n",
              "      buttonEl.style.display =\n",
              "        google.colab.kernel.accessAllowed ? 'block' : 'none';\n",
              "\n",
              "      async function convertToInteractive(key) {\n",
              "        const element = document.querySelector('#df-4ba875c4-1665-46ec-8909-55aeda39084d');\n",
              "        const dataTable =\n",
              "          await google.colab.kernel.invokeFunction('convertToInteractive',\n",
              "                                                    [key], {});\n",
              "        if (!dataTable) return;\n",
              "\n",
              "        const docLinkHtml = 'Like what you see? Visit the ' +\n",
              "          '<a target=\"_blank\" href=https://colab.research.google.com/notebooks/data_table.ipynb>data table notebook</a>'\n",
              "          + ' to learn more about interactive tables.';\n",
              "        element.innerHTML = '';\n",
              "        dataTable['output_type'] = 'display_data';\n",
              "        await google.colab.output.renderOutput(dataTable, element);\n",
              "        const docLink = document.createElement('div');\n",
              "        docLink.innerHTML = docLinkHtml;\n",
              "        element.appendChild(docLink);\n",
              "      }\n",
              "    </script>\n",
              "  </div>\n",
              "\n",
              "\n",
              "<div id=\"df-2b771c29-48de-447c-a332-10fff168d6d2\">\n",
              "  <button class=\"colab-df-quickchart\" onclick=\"quickchart('df-2b771c29-48de-447c-a332-10fff168d6d2')\"\n",
              "            title=\"Suggest charts\"\n",
              "            style=\"display:none;\">\n",
              "\n",
              "<svg xmlns=\"http://www.w3.org/2000/svg\" height=\"24px\"viewBox=\"0 0 24 24\"\n",
              "     width=\"24px\">\n",
              "    <g>\n",
              "        <path d=\"M19 3H5c-1.1 0-2 .9-2 2v14c0 1.1.9 2 2 2h14c1.1 0 2-.9 2-2V5c0-1.1-.9-2-2-2zM9 17H7v-7h2v7zm4 0h-2V7h2v10zm4 0h-2v-4h2v4z\"/>\n",
              "    </g>\n",
              "</svg>\n",
              "  </button>\n",
              "\n",
              "<style>\n",
              "  .colab-df-quickchart {\n",
              "      --bg-color: #E8F0FE;\n",
              "      --fill-color: #1967D2;\n",
              "      --hover-bg-color: #E2EBFA;\n",
              "      --hover-fill-color: #174EA6;\n",
              "      --disabled-fill-color: #AAA;\n",
              "      --disabled-bg-color: #DDD;\n",
              "  }\n",
              "\n",
              "  [theme=dark] .colab-df-quickchart {\n",
              "      --bg-color: #3B4455;\n",
              "      --fill-color: #D2E3FC;\n",
              "      --hover-bg-color: #434B5C;\n",
              "      --hover-fill-color: #FFFFFF;\n",
              "      --disabled-bg-color: #3B4455;\n",
              "      --disabled-fill-color: #666;\n",
              "  }\n",
              "\n",
              "  .colab-df-quickchart {\n",
              "    background-color: var(--bg-color);\n",
              "    border: none;\n",
              "    border-radius: 50%;\n",
              "    cursor: pointer;\n",
              "    display: none;\n",
              "    fill: var(--fill-color);\n",
              "    height: 32px;\n",
              "    padding: 0;\n",
              "    width: 32px;\n",
              "  }\n",
              "\n",
              "  .colab-df-quickchart:hover {\n",
              "    background-color: var(--hover-bg-color);\n",
              "    box-shadow: 0 1px 2px rgba(60, 64, 67, 0.3), 0 1px 3px 1px rgba(60, 64, 67, 0.15);\n",
              "    fill: var(--button-hover-fill-color);\n",
              "  }\n",
              "\n",
              "  .colab-df-quickchart-complete:disabled,\n",
              "  .colab-df-quickchart-complete:disabled:hover {\n",
              "    background-color: var(--disabled-bg-color);\n",
              "    fill: var(--disabled-fill-color);\n",
              "    box-shadow: none;\n",
              "  }\n",
              "\n",
              "  .colab-df-spinner {\n",
              "    border: 2px solid var(--fill-color);\n",
              "    border-color: transparent;\n",
              "    border-bottom-color: var(--fill-color);\n",
              "    animation:\n",
              "      spin 1s steps(1) infinite;\n",
              "  }\n",
              "\n",
              "  @keyframes spin {\n",
              "    0% {\n",
              "      border-color: transparent;\n",
              "      border-bottom-color: var(--fill-color);\n",
              "      border-left-color: var(--fill-color);\n",
              "    }\n",
              "    20% {\n",
              "      border-color: transparent;\n",
              "      border-left-color: var(--fill-color);\n",
              "      border-top-color: var(--fill-color);\n",
              "    }\n",
              "    30% {\n",
              "      border-color: transparent;\n",
              "      border-left-color: var(--fill-color);\n",
              "      border-top-color: var(--fill-color);\n",
              "      border-right-color: var(--fill-color);\n",
              "    }\n",
              "    40% {\n",
              "      border-color: transparent;\n",
              "      border-right-color: var(--fill-color);\n",
              "      border-top-color: var(--fill-color);\n",
              "    }\n",
              "    60% {\n",
              "      border-color: transparent;\n",
              "      border-right-color: var(--fill-color);\n",
              "    }\n",
              "    80% {\n",
              "      border-color: transparent;\n",
              "      border-right-color: var(--fill-color);\n",
              "      border-bottom-color: var(--fill-color);\n",
              "    }\n",
              "    90% {\n",
              "      border-color: transparent;\n",
              "      border-bottom-color: var(--fill-color);\n",
              "    }\n",
              "  }\n",
              "</style>\n",
              "\n",
              "  <script>\n",
              "    async function quickchart(key) {\n",
              "      const quickchartButtonEl =\n",
              "        document.querySelector('#' + key + ' button');\n",
              "      quickchartButtonEl.disabled = true;  // To prevent multiple clicks.\n",
              "      quickchartButtonEl.classList.add('colab-df-spinner');\n",
              "      try {\n",
              "        const charts = await google.colab.kernel.invokeFunction(\n",
              "            'suggestCharts', [key], {});\n",
              "      } catch (error) {\n",
              "        console.error('Error during call to suggestCharts:', error);\n",
              "      }\n",
              "      quickchartButtonEl.classList.remove('colab-df-spinner');\n",
              "      quickchartButtonEl.classList.add('colab-df-quickchart-complete');\n",
              "    }\n",
              "    (() => {\n",
              "      let quickchartButtonEl =\n",
              "        document.querySelector('#df-2b771c29-48de-447c-a332-10fff168d6d2 button');\n",
              "      quickchartButtonEl.style.display =\n",
              "        google.colab.kernel.accessAllowed ? 'block' : 'none';\n",
              "    })();\n",
              "  </script>\n",
              "</div>\n",
              "\n",
              "    </div>\n",
              "  </div>\n"
            ],
            "application/vnd.google.colaboratory.intrinsic+json": {
              "type": "dataframe",
              "variable_name": "df_merged"
            }
          },
          "metadata": {},
          "execution_count": 13
        }
      ]
    },
    {
      "cell_type": "code",
      "source": [
        "df_merged['NAICS Title / Titre Code_SCIAN'].nunique()"
      ],
      "metadata": {
        "colab": {
          "base_uri": "https://localhost:8080/"
        },
        "id": "75q6BmbdF5jr",
        "outputId": "e5a06faa-c5ed-4609-d835-e706b3caa4ca"
      },
      "execution_count": 14,
      "outputs": [
        {
          "output_type": "execute_result",
          "data": {
            "text/plain": [
              "475"
            ]
          },
          "metadata": {},
          "execution_count": 14
        }
      ]
    },
    {
      "cell_type": "code",
      "source": [
        "\n",
        "df_merged['Reporting_Year / Année'].value_counts().sort_index()\n"
      ],
      "metadata": {
        "colab": {
          "base_uri": "https://localhost:8080/",
          "height": 836
        },
        "id": "4AZ2EuRpFus2",
        "outputId": "e576a4da-1161-4845-f34f-96e8a03b5997"
      },
      "execution_count": 15,
      "outputs": [
        {
          "output_type": "execute_result",
          "data": {
            "text/plain": [
              "Reporting_Year / Année\n",
              "2000    12958\n",
              "2001    14514\n",
              "2002    28525\n",
              "2003    37484\n",
              "2004    38672\n",
              "2005    38378\n",
              "2006    40130\n",
              "2007    39946\n",
              "2008    39509\n",
              "2009    37698\n",
              "2010    36278\n",
              "2011    35570\n",
              "2012    34781\n",
              "2013    35192\n",
              "2014    35477\n",
              "2015    34888\n",
              "2016    35022\n",
              "2017    35197\n",
              "2018    49784\n",
              "2019    49369\n",
              "2020    47229\n",
              "2021    46278\n",
              "2022    47544\n",
              "Name: count, dtype: int64"
            ],
            "text/html": [
              "<div>\n",
              "<style scoped>\n",
              "    .dataframe tbody tr th:only-of-type {\n",
              "        vertical-align: middle;\n",
              "    }\n",
              "\n",
              "    .dataframe tbody tr th {\n",
              "        vertical-align: top;\n",
              "    }\n",
              "\n",
              "    .dataframe thead th {\n",
              "        text-align: right;\n",
              "    }\n",
              "</style>\n",
              "<table border=\"1\" class=\"dataframe\">\n",
              "  <thead>\n",
              "    <tr style=\"text-align: right;\">\n",
              "      <th></th>\n",
              "      <th>count</th>\n",
              "    </tr>\n",
              "    <tr>\n",
              "      <th>Reporting_Year / Année</th>\n",
              "      <th></th>\n",
              "    </tr>\n",
              "  </thead>\n",
              "  <tbody>\n",
              "    <tr>\n",
              "      <th>2000</th>\n",
              "      <td>12958</td>\n",
              "    </tr>\n",
              "    <tr>\n",
              "      <th>2001</th>\n",
              "      <td>14514</td>\n",
              "    </tr>\n",
              "    <tr>\n",
              "      <th>2002</th>\n",
              "      <td>28525</td>\n",
              "    </tr>\n",
              "    <tr>\n",
              "      <th>2003</th>\n",
              "      <td>37484</td>\n",
              "    </tr>\n",
              "    <tr>\n",
              "      <th>2004</th>\n",
              "      <td>38672</td>\n",
              "    </tr>\n",
              "    <tr>\n",
              "      <th>2005</th>\n",
              "      <td>38378</td>\n",
              "    </tr>\n",
              "    <tr>\n",
              "      <th>2006</th>\n",
              "      <td>40130</td>\n",
              "    </tr>\n",
              "    <tr>\n",
              "      <th>2007</th>\n",
              "      <td>39946</td>\n",
              "    </tr>\n",
              "    <tr>\n",
              "      <th>2008</th>\n",
              "      <td>39509</td>\n",
              "    </tr>\n",
              "    <tr>\n",
              "      <th>2009</th>\n",
              "      <td>37698</td>\n",
              "    </tr>\n",
              "    <tr>\n",
              "      <th>2010</th>\n",
              "      <td>36278</td>\n",
              "    </tr>\n",
              "    <tr>\n",
              "      <th>2011</th>\n",
              "      <td>35570</td>\n",
              "    </tr>\n",
              "    <tr>\n",
              "      <th>2012</th>\n",
              "      <td>34781</td>\n",
              "    </tr>\n",
              "    <tr>\n",
              "      <th>2013</th>\n",
              "      <td>35192</td>\n",
              "    </tr>\n",
              "    <tr>\n",
              "      <th>2014</th>\n",
              "      <td>35477</td>\n",
              "    </tr>\n",
              "    <tr>\n",
              "      <th>2015</th>\n",
              "      <td>34888</td>\n",
              "    </tr>\n",
              "    <tr>\n",
              "      <th>2016</th>\n",
              "      <td>35022</td>\n",
              "    </tr>\n",
              "    <tr>\n",
              "      <th>2017</th>\n",
              "      <td>35197</td>\n",
              "    </tr>\n",
              "    <tr>\n",
              "      <th>2018</th>\n",
              "      <td>49784</td>\n",
              "    </tr>\n",
              "    <tr>\n",
              "      <th>2019</th>\n",
              "      <td>49369</td>\n",
              "    </tr>\n",
              "    <tr>\n",
              "      <th>2020</th>\n",
              "      <td>47229</td>\n",
              "    </tr>\n",
              "    <tr>\n",
              "      <th>2021</th>\n",
              "      <td>46278</td>\n",
              "    </tr>\n",
              "    <tr>\n",
              "      <th>2022</th>\n",
              "      <td>47544</td>\n",
              "    </tr>\n",
              "  </tbody>\n",
              "</table>\n",
              "</div><br><label><b>dtype:</b> int64</label>"
            ]
          },
          "metadata": {},
          "execution_count": 15
        }
      ]
    },
    {
      "cell_type": "markdown",
      "source": [
        "# ***# Issue Detection before dropping collumns***\n",
        "**The Goal:** Catch problems like:\n",
        "\n",
        "Duplicates\n",
        "\n",
        "Missing values\n",
        "\n",
        "Inconsistent formatting\n",
        "\n",
        "**Our Actions:**\n",
        "\n",
        "We Check duplicates: df.duplicated().sum()\n",
        "\n",
        "We Check nulls: df.isna().sum()\n",
        "\n",
        "We Check object types that should be numeric:"
      ],
      "metadata": {
        "id": "ILmJPwU6IixB"
      }
    },
    {
      "cell_type": "markdown",
      "source": [
        "Duplicated Values"
      ],
      "metadata": {
        "id": "1I0tuIj4LNwD"
      }
    },
    {
      "cell_type": "code",
      "source": [
        "df_merged.duplicated().sum()"
      ],
      "metadata": {
        "colab": {
          "base_uri": "https://localhost:8080/"
        },
        "id": "1Aop_pouI7Vr",
        "outputId": "b851de9d-a4e2-41b6-b5d5-f0f6b6ce79b3"
      },
      "execution_count": 16,
      "outputs": [
        {
          "output_type": "execute_result",
          "data": {
            "text/plain": [
              "np.int64(0)"
            ]
          },
          "metadata": {},
          "execution_count": 16
        }
      ]
    },
    {
      "cell_type": "markdown",
      "source": [
        "Missing Values accross collumns"
      ],
      "metadata": {
        "id": "BWTLAW9cLIvr"
      }
    },
    {
      "cell_type": "code",
      "source": [
        "df_merged.isna().sum()"
      ],
      "metadata": {
        "colab": {
          "base_uri": "https://localhost:8080/",
          "height": 1000
        },
        "id": "qDthISvBJBwf",
        "outputId": "1e043457-a527-4bf7-a4ba-bd06ce77e70e"
      },
      "execution_count": 17,
      "outputs": [
        {
          "output_type": "execute_result",
          "data": {
            "text/plain": [
              "Reporting_Year / Année                                                                              0\n",
              "NPRI_ID / No_INRP                                                                                   0\n",
              "Company_Name / Dénomination_sociale_de_l'entreprise                                                 0\n",
              "Facility_Name / Installation                                                                     1654\n",
              "NAICS / Code_SCIAN                                                                                  0\n",
              "NAICS Title / Titre Code_SCIAN                                                                      0\n",
              "PROVINCE                                                                                            0\n",
              "City                                                                                            93318\n",
              "Latitude                                                                                         4893\n",
              "Longitude                                                                                        4893\n",
              "CAS_Number / No_CAS                                                                                 0\n",
              "Substance Name (English) / Nom de substance (Anglais)                                               0\n",
              "Units / Unités                                                                                      0\n",
              "Estimation_Method / Méthode_d’estimation                                                            0\n",
              "Release to Air - Fugitive                                                                      725391\n",
              "Release to Air - Other Non-Point                                                               819543\n",
              "Release to Air - Road dust                                                                     820562\n",
              "Release to Air - Spills                                                                        841242\n",
              "Release to Air - Stack / Point                                                                 337141\n",
              "Release to Air - Storage / Handling                                                            770419\n",
              "Releases to Land - Leaks                                                                       849513\n",
              "Releases to Land - Other                                                                       844755\n",
              "Releases to Land - Spills                                                                      845953\n",
              "Releases to Water Bodies - Direct Discharges                                                   797235\n",
              "Releases to Water Bodies - Leaks                                                               849681\n",
              "Releases to Water Bodies - Spills                                                              847343\n",
              "Sum of release to all media (<1tonne)                                                          800238\n",
              "Off-site Disposal - Land Treatment                                                             839502\n",
              "Off-site Disposal - Landfill                                                                   794694\n",
              "Off-site Disposal - Storage                                                                    844489\n",
              "Off-site Disposal - Tailings Management                                                        850082\n",
              "Off-site Disposal - Underground Injection                                                      842193\n",
              "Off-site Disposal - Waste Rock management                                                      850285\n",
              "Off-site Transfers for Recycling - Energy Recovery                                             840656\n",
              "Off-site Transfers for Recycling - Other                                                       840002\n",
              "Off-site Transfers for Recycling - Recovery of Acids and Bases                                 849579\n",
              "Off-site Transfers for Recycling - Recovery of Catalysts                                       848986\n",
              "Off-site Transfers for Recycling - Recovery of Inorganic Materials (not metals)                848676\n",
              "Off-site Transfers for Recycling - Recovery of Metals and Metal Compounds                      820495\n",
              "Off-site Transfers for Recycling - Recovery of Organic Substances (not solvents)               841858\n",
              "Off-site Transfers for Recycling - Recovery of Pollution Abatement Residues                    848274\n",
              "Off-site Transfers for Recycling - Recovery of Solvents                                        840059\n",
              "Off-site Transfers for Recycling - Refining or Re-use of Used Oil                              846430\n",
              "Off-site Transfers for Treatment Prior to Final Disposal - Biological Treatment                847294\n",
              "Off-site Transfers for Treatment Prior to Final Disposal - Chemical Treatment                  837791\n",
              "Off-site Transfers for Treatment Prior to Final Disposal - Incineration / Thermal              825732\n",
              "Off-site Transfers for Treatment Prior to Final Disposal - Municipal Sewage Treatment Plant    834016\n",
              "Off-site Transfers for Treatment Prior to Final Disposal - Physical Treatment                  840459\n",
              "On-site Disposal - Land Treatment                                                              846552\n",
              "On-site Disposal - Landfill                                                                    832153\n",
              "On-site Disposal - Tailings Management                                                         834351\n",
              "On-site Disposal - Underground Injection                                                       841094\n",
              "On-site Disposal - Waste Rock management                                                       846041\n",
              "Number of employees                                                                               636\n",
              "dtype: int64"
            ],
            "text/html": [
              "<div>\n",
              "<style scoped>\n",
              "    .dataframe tbody tr th:only-of-type {\n",
              "        vertical-align: middle;\n",
              "    }\n",
              "\n",
              "    .dataframe tbody tr th {\n",
              "        vertical-align: top;\n",
              "    }\n",
              "\n",
              "    .dataframe thead th {\n",
              "        text-align: right;\n",
              "    }\n",
              "</style>\n",
              "<table border=\"1\" class=\"dataframe\">\n",
              "  <thead>\n",
              "    <tr style=\"text-align: right;\">\n",
              "      <th></th>\n",
              "      <th>0</th>\n",
              "    </tr>\n",
              "  </thead>\n",
              "  <tbody>\n",
              "    <tr>\n",
              "      <th>Reporting_Year / Année</th>\n",
              "      <td>0</td>\n",
              "    </tr>\n",
              "    <tr>\n",
              "      <th>NPRI_ID / No_INRP</th>\n",
              "      <td>0</td>\n",
              "    </tr>\n",
              "    <tr>\n",
              "      <th>Company_Name / Dénomination_sociale_de_l'entreprise</th>\n",
              "      <td>0</td>\n",
              "    </tr>\n",
              "    <tr>\n",
              "      <th>Facility_Name / Installation</th>\n",
              "      <td>1654</td>\n",
              "    </tr>\n",
              "    <tr>\n",
              "      <th>NAICS / Code_SCIAN</th>\n",
              "      <td>0</td>\n",
              "    </tr>\n",
              "    <tr>\n",
              "      <th>NAICS Title / Titre Code_SCIAN</th>\n",
              "      <td>0</td>\n",
              "    </tr>\n",
              "    <tr>\n",
              "      <th>PROVINCE</th>\n",
              "      <td>0</td>\n",
              "    </tr>\n",
              "    <tr>\n",
              "      <th>City</th>\n",
              "      <td>93318</td>\n",
              "    </tr>\n",
              "    <tr>\n",
              "      <th>Latitude</th>\n",
              "      <td>4893</td>\n",
              "    </tr>\n",
              "    <tr>\n",
              "      <th>Longitude</th>\n",
              "      <td>4893</td>\n",
              "    </tr>\n",
              "    <tr>\n",
              "      <th>CAS_Number / No_CAS</th>\n",
              "      <td>0</td>\n",
              "    </tr>\n",
              "    <tr>\n",
              "      <th>Substance Name (English) / Nom de substance (Anglais)</th>\n",
              "      <td>0</td>\n",
              "    </tr>\n",
              "    <tr>\n",
              "      <th>Units / Unités</th>\n",
              "      <td>0</td>\n",
              "    </tr>\n",
              "    <tr>\n",
              "      <th>Estimation_Method / Méthode_d’estimation</th>\n",
              "      <td>0</td>\n",
              "    </tr>\n",
              "    <tr>\n",
              "      <th>Release to Air - Fugitive</th>\n",
              "      <td>725391</td>\n",
              "    </tr>\n",
              "    <tr>\n",
              "      <th>Release to Air - Other Non-Point</th>\n",
              "      <td>819543</td>\n",
              "    </tr>\n",
              "    <tr>\n",
              "      <th>Release to Air - Road dust</th>\n",
              "      <td>820562</td>\n",
              "    </tr>\n",
              "    <tr>\n",
              "      <th>Release to Air - Spills</th>\n",
              "      <td>841242</td>\n",
              "    </tr>\n",
              "    <tr>\n",
              "      <th>Release to Air - Stack / Point</th>\n",
              "      <td>337141</td>\n",
              "    </tr>\n",
              "    <tr>\n",
              "      <th>Release to Air - Storage / Handling</th>\n",
              "      <td>770419</td>\n",
              "    </tr>\n",
              "    <tr>\n",
              "      <th>Releases to Land - Leaks</th>\n",
              "      <td>849513</td>\n",
              "    </tr>\n",
              "    <tr>\n",
              "      <th>Releases to Land - Other</th>\n",
              "      <td>844755</td>\n",
              "    </tr>\n",
              "    <tr>\n",
              "      <th>Releases to Land - Spills</th>\n",
              "      <td>845953</td>\n",
              "    </tr>\n",
              "    <tr>\n",
              "      <th>Releases to Water Bodies - Direct Discharges</th>\n",
              "      <td>797235</td>\n",
              "    </tr>\n",
              "    <tr>\n",
              "      <th>Releases to Water Bodies - Leaks</th>\n",
              "      <td>849681</td>\n",
              "    </tr>\n",
              "    <tr>\n",
              "      <th>Releases to Water Bodies - Spills</th>\n",
              "      <td>847343</td>\n",
              "    </tr>\n",
              "    <tr>\n",
              "      <th>Sum of release to all media (&lt;1tonne)</th>\n",
              "      <td>800238</td>\n",
              "    </tr>\n",
              "    <tr>\n",
              "      <th>Off-site Disposal - Land Treatment</th>\n",
              "      <td>839502</td>\n",
              "    </tr>\n",
              "    <tr>\n",
              "      <th>Off-site Disposal - Landfill</th>\n",
              "      <td>794694</td>\n",
              "    </tr>\n",
              "    <tr>\n",
              "      <th>Off-site Disposal - Storage</th>\n",
              "      <td>844489</td>\n",
              "    </tr>\n",
              "    <tr>\n",
              "      <th>Off-site Disposal - Tailings Management</th>\n",
              "      <td>850082</td>\n",
              "    </tr>\n",
              "    <tr>\n",
              "      <th>Off-site Disposal - Underground Injection</th>\n",
              "      <td>842193</td>\n",
              "    </tr>\n",
              "    <tr>\n",
              "      <th>Off-site Disposal - Waste Rock management</th>\n",
              "      <td>850285</td>\n",
              "    </tr>\n",
              "    <tr>\n",
              "      <th>Off-site Transfers for Recycling - Energy Recovery</th>\n",
              "      <td>840656</td>\n",
              "    </tr>\n",
              "    <tr>\n",
              "      <th>Off-site Transfers for Recycling - Other</th>\n",
              "      <td>840002</td>\n",
              "    </tr>\n",
              "    <tr>\n",
              "      <th>Off-site Transfers for Recycling - Recovery of Acids and Bases</th>\n",
              "      <td>849579</td>\n",
              "    </tr>\n",
              "    <tr>\n",
              "      <th>Off-site Transfers for Recycling - Recovery of Catalysts</th>\n",
              "      <td>848986</td>\n",
              "    </tr>\n",
              "    <tr>\n",
              "      <th>Off-site Transfers for Recycling - Recovery of Inorganic Materials (not metals)</th>\n",
              "      <td>848676</td>\n",
              "    </tr>\n",
              "    <tr>\n",
              "      <th>Off-site Transfers for Recycling - Recovery of Metals and Metal Compounds</th>\n",
              "      <td>820495</td>\n",
              "    </tr>\n",
              "    <tr>\n",
              "      <th>Off-site Transfers for Recycling - Recovery of Organic Substances (not solvents)</th>\n",
              "      <td>841858</td>\n",
              "    </tr>\n",
              "    <tr>\n",
              "      <th>Off-site Transfers for Recycling - Recovery of Pollution Abatement Residues</th>\n",
              "      <td>848274</td>\n",
              "    </tr>\n",
              "    <tr>\n",
              "      <th>Off-site Transfers for Recycling - Recovery of Solvents</th>\n",
              "      <td>840059</td>\n",
              "    </tr>\n",
              "    <tr>\n",
              "      <th>Off-site Transfers for Recycling - Refining or Re-use of Used Oil</th>\n",
              "      <td>846430</td>\n",
              "    </tr>\n",
              "    <tr>\n",
              "      <th>Off-site Transfers for Treatment Prior to Final Disposal - Biological Treatment</th>\n",
              "      <td>847294</td>\n",
              "    </tr>\n",
              "    <tr>\n",
              "      <th>Off-site Transfers for Treatment Prior to Final Disposal - Chemical Treatment</th>\n",
              "      <td>837791</td>\n",
              "    </tr>\n",
              "    <tr>\n",
              "      <th>Off-site Transfers for Treatment Prior to Final Disposal - Incineration / Thermal</th>\n",
              "      <td>825732</td>\n",
              "    </tr>\n",
              "    <tr>\n",
              "      <th>Off-site Transfers for Treatment Prior to Final Disposal - Municipal Sewage Treatment Plant</th>\n",
              "      <td>834016</td>\n",
              "    </tr>\n",
              "    <tr>\n",
              "      <th>Off-site Transfers for Treatment Prior to Final Disposal - Physical Treatment</th>\n",
              "      <td>840459</td>\n",
              "    </tr>\n",
              "    <tr>\n",
              "      <th>On-site Disposal - Land Treatment</th>\n",
              "      <td>846552</td>\n",
              "    </tr>\n",
              "    <tr>\n",
              "      <th>On-site Disposal - Landfill</th>\n",
              "      <td>832153</td>\n",
              "    </tr>\n",
              "    <tr>\n",
              "      <th>On-site Disposal - Tailings Management</th>\n",
              "      <td>834351</td>\n",
              "    </tr>\n",
              "    <tr>\n",
              "      <th>On-site Disposal - Underground Injection</th>\n",
              "      <td>841094</td>\n",
              "    </tr>\n",
              "    <tr>\n",
              "      <th>On-site Disposal - Waste Rock management</th>\n",
              "      <td>846041</td>\n",
              "    </tr>\n",
              "    <tr>\n",
              "      <th>Number of employees</th>\n",
              "      <td>636</td>\n",
              "    </tr>\n",
              "  </tbody>\n",
              "</table>\n",
              "</div><br><label><b>dtype:</b> int64</label>"
            ]
          },
          "metadata": {},
          "execution_count": 17
        }
      ]
    },
    {
      "cell_type": "code",
      "source": [
        "# Check data types\n",
        "print(df_merged.dtypes)\n"
      ],
      "metadata": {
        "colab": {
          "base_uri": "https://localhost:8080/"
        },
        "id": "mdt2MZBAJIwT",
        "outputId": "65d18687-208e-43b4-8d10-3777ecd39f75"
      },
      "execution_count": 18,
      "outputs": [
        {
          "output_type": "stream",
          "name": "stdout",
          "text": [
            "Reporting_Year / Année                                                                           int64\n",
            "NPRI_ID / No_INRP                                                                                int64\n",
            "Company_Name / Dénomination_sociale_de_l'entreprise                                             object\n",
            "Facility_Name / Installation                                                                    object\n",
            "NAICS / Code_SCIAN                                                                               int64\n",
            "NAICS Title / Titre Code_SCIAN                                                                  object\n",
            "PROVINCE                                                                                        object\n",
            "City                                                                                            object\n",
            "Latitude                                                                                       float64\n",
            "Longitude                                                                                      float64\n",
            "CAS_Number / No_CAS                                                                             object\n",
            "Substance Name (English) / Nom de substance (Anglais)                                           object\n",
            "Units / Unités                                                                                  object\n",
            "Estimation_Method / Méthode_d’estimation                                                        object\n",
            "Release to Air - Fugitive                                                                      float64\n",
            "Release to Air - Other Non-Point                                                               float64\n",
            "Release to Air - Road dust                                                                     float64\n",
            "Release to Air - Spills                                                                        float64\n",
            "Release to Air - Stack / Point                                                                 float64\n",
            "Release to Air - Storage / Handling                                                            float64\n",
            "Releases to Land - Leaks                                                                       float64\n",
            "Releases to Land - Other                                                                       float64\n",
            "Releases to Land - Spills                                                                      float64\n",
            "Releases to Water Bodies - Direct Discharges                                                   float64\n",
            "Releases to Water Bodies - Leaks                                                               float64\n",
            "Releases to Water Bodies - Spills                                                              float64\n",
            "Sum of release to all media (<1tonne)                                                          float64\n",
            "Off-site Disposal - Land Treatment                                                             float64\n",
            "Off-site Disposal - Landfill                                                                   float64\n",
            "Off-site Disposal - Storage                                                                    float64\n",
            "Off-site Disposal - Tailings Management                                                        float64\n",
            "Off-site Disposal - Underground Injection                                                      float64\n",
            "Off-site Disposal - Waste Rock management                                                      float64\n",
            "Off-site Transfers for Recycling - Energy Recovery                                             float64\n",
            "Off-site Transfers for Recycling - Other                                                       float64\n",
            "Off-site Transfers for Recycling - Recovery of Acids and Bases                                 float64\n",
            "Off-site Transfers for Recycling - Recovery of Catalysts                                       float64\n",
            "Off-site Transfers for Recycling - Recovery of Inorganic Materials (not metals)                float64\n",
            "Off-site Transfers for Recycling - Recovery of Metals and Metal Compounds                      float64\n",
            "Off-site Transfers for Recycling - Recovery of Organic Substances (not solvents)               float64\n",
            "Off-site Transfers for Recycling - Recovery of Pollution Abatement Residues                    float64\n",
            "Off-site Transfers for Recycling - Recovery of Solvents                                        float64\n",
            "Off-site Transfers for Recycling - Refining or Re-use of Used Oil                              float64\n",
            "Off-site Transfers for Treatment Prior to Final Disposal - Biological Treatment                float64\n",
            "Off-site Transfers for Treatment Prior to Final Disposal - Chemical Treatment                  float64\n",
            "Off-site Transfers for Treatment Prior to Final Disposal - Incineration / Thermal              float64\n",
            "Off-site Transfers for Treatment Prior to Final Disposal - Municipal Sewage Treatment Plant    float64\n",
            "Off-site Transfers for Treatment Prior to Final Disposal - Physical Treatment                  float64\n",
            "On-site Disposal - Land Treatment                                                              float64\n",
            "On-site Disposal - Landfill                                                                    float64\n",
            "On-site Disposal - Tailings Management                                                         float64\n",
            "On-site Disposal - Underground Injection                                                       float64\n",
            "On-site Disposal - Waste Rock management                                                       float64\n",
            "Number of employees                                                                             object\n",
            "dtype: object\n"
          ]
        }
      ]
    },
    {
      "cell_type": "markdown",
      "source": [
        "# *** (Inconsistent Formatting)***"
      ],
      "metadata": {
        "id": "BbDyF5z-K_5P"
      }
    },
    {
      "cell_type": "code",
      "source": [
        "# Remove non-numeric characters and convert\n",
        "df_merged[\"Number of employees\"] = pd.to_numeric(df_merged[\"Number of employees\"], errors=\"coerce\")\n",
        "\n",
        "\n"
      ],
      "metadata": {
        "id": "wO1v48hHKrmk"
      },
      "execution_count": 19,
      "outputs": []
    },
    {
      "cell_type": "markdown",
      "source": [
        "# ***Data Cleaning***"
      ],
      "metadata": {
        "id": "evnfGeZxRwk8"
      }
    },
    {
      "cell_type": "code",
      "source": [
        "df_releases_clean = df_merged.copy()"
      ],
      "metadata": {
        "id": "MmoDDvM1R2Wu"
      },
      "execution_count": 20,
      "outputs": []
    },
    {
      "cell_type": "code",
      "source": [
        "df_releases_clean.columns = df_releases_clean.columns.str.strip()\n"
      ],
      "metadata": {
        "id": "l31vp41I7fXW"
      },
      "execution_count": 21,
      "outputs": []
    },
    {
      "cell_type": "code",
      "source": [
        "release_columns = [\n",
        "    \"Release to Air - Fugitive\",\n",
        "    \"Release to Air - Other Non-Point\",\n",
        "    \"Release to Air - Road dust\",\n",
        "    \"Release to Air - Spills\",\n",
        "    \"Release to Air - Stack / Point\",\n",
        "    \"Release to Air - Storage / Handling\",\n",
        "    \"Releases to Land - Leaks\",\n",
        "    \"Releases to Land - Other\",\n",
        "    \"Releases to Land - Spills\",\n",
        "    \"Releases to Water Bodies - Direct Discharges\",\n",
        "    \"Releases to Water Bodies - Leaks\",\n",
        "    \"Releases to Water Bodies - Spills\"\n",
        "]\n"
      ],
      "metadata": {
        "id": "5aNWNLVb7qnL"
      },
      "execution_count": 22,
      "outputs": []
    },
    {
      "cell_type": "code",
      "source": [
        "#Ensure all release columns are numeric before summing to prevent errors\n",
        "df_releases_clean[release_columns] = df_releases_clean[release_columns].apply(pd.to_numeric, errors=\"coerce\")\n"
      ],
      "metadata": {
        "id": "i6b4B54H7w93"
      },
      "execution_count": 23,
      "outputs": []
    },
    {
      "cell_type": "markdown",
      "source": [
        "Since the focus for our project is which industry is predicted to have the highest growth of releases in 5 years and Since Some categories such as 'Sum of release to all media (<1tonne)' have missing values, leading to incomplete analysis if considered separately.\n",
        "\n",
        "Summing all release types will help mitigate gaps in individual columns, ensuring a more stable dataset for predictions."
      ],
      "metadata": {
        "id": "bRn3RjjfAT-1"
      }
    },
    {
      "cell_type": "code",
      "source": [
        "\n",
        "# Strip spaces from column names in df_releases_clean to ensure they match release_columns\n",
        "df_releases_clean.columns = df_releases_clean.columns.str.strip()"
      ],
      "metadata": {
        "id": "mD-FqpgG5wie"
      },
      "execution_count": 24,
      "outputs": []
    },
    {
      "cell_type": "markdown",
      "source": [
        "Why Didn't We Fill Missing Values Before Summing the Release Columns? We did NOT fill missing values before summing pollution releases because:\n",
        "\n",
        "*Avoiding Data Fabrication*\n",
        "\n",
        "If we filled missing pollution values before summing, we would introduce artificial pollution data. This could inflate or distort the actual pollution trends.\n",
        "\n",
        "*Ensuring Accurate Summation*\n",
        "\n",
        "By summing first, we only use existing reported values, keeping the dataset as true to reality as possible. Filling before summing could overestimate total pollution. Preserving Data Integrity for Feature Engineering\n",
        "\n",
        "The \"Total Releases (Summed)\" column is a derived feature.\n",
        "\n",
        "It’s better to fill missing values after summing, ensuring that all calculations are based on real, existing data."
      ],
      "metadata": {
        "id": "tbsAk37uSMyL"
      }
    },
    {
      "cell_type": "code",
      "source": [
        "#Calculate the total sum of all release types for each row (across different media: air, land, water).\n",
        "# Missing values (NaN) are ignored in the summation to prevent incorrect totals.\n",
        "df_releases_clean[\"Total Releases (Summed)\"] = df_releases_clean[release_columns].sum(axis=1, skipna=True)"
      ],
      "metadata": {
        "id": "ZKWeozfySiQ5"
      },
      "execution_count": 25,
      "outputs": []
    },
    {
      "cell_type": "code",
      "source": [
        "df_releases_clean.columns"
      ],
      "metadata": {
        "colab": {
          "base_uri": "https://localhost:8080/"
        },
        "id": "l6V3cWwD8VFj",
        "outputId": "7d715662-b225-4fc5-f796-b7c3ac5f79af"
      },
      "execution_count": 26,
      "outputs": [
        {
          "output_type": "execute_result",
          "data": {
            "text/plain": [
              "Index(['Reporting_Year / Année', 'NPRI_ID / No_INRP',\n",
              "       'Company_Name / Dénomination_sociale_de_l'entreprise',\n",
              "       'Facility_Name / Installation', 'NAICS / Code_SCIAN',\n",
              "       'NAICS Title / Titre Code_SCIAN', 'PROVINCE', 'City', 'Latitude',\n",
              "       'Longitude', 'CAS_Number / No_CAS',\n",
              "       'Substance Name (English) / Nom de substance (Anglais)',\n",
              "       'Units / Unités', 'Estimation_Method / Méthode_d’estimation',\n",
              "       'Release to Air - Fugitive', 'Release to Air - Other Non-Point',\n",
              "       'Release to Air - Road dust', 'Release to Air - Spills',\n",
              "       'Release to Air - Stack / Point', 'Release to Air - Storage / Handling',\n",
              "       'Releases to Land - Leaks', 'Releases to Land - Other',\n",
              "       'Releases to Land - Spills',\n",
              "       'Releases to Water Bodies - Direct Discharges',\n",
              "       'Releases to Water Bodies - Leaks', 'Releases to Water Bodies - Spills',\n",
              "       'Sum of release to all media (<1tonne)',\n",
              "       'Off-site Disposal - Land Treatment', 'Off-site Disposal - Landfill',\n",
              "       'Off-site Disposal - Storage',\n",
              "       'Off-site Disposal - Tailings Management',\n",
              "       'Off-site Disposal - Underground Injection',\n",
              "       'Off-site Disposal - Waste Rock management',\n",
              "       'Off-site Transfers for Recycling - Energy Recovery',\n",
              "       'Off-site Transfers for Recycling - Other',\n",
              "       'Off-site Transfers for Recycling - Recovery of Acids and Bases',\n",
              "       'Off-site Transfers for Recycling - Recovery of Catalysts',\n",
              "       'Off-site Transfers for Recycling - Recovery of Inorganic Materials (not metals)',\n",
              "       'Off-site Transfers for Recycling - Recovery of Metals and Metal Compounds',\n",
              "       'Off-site Transfers for Recycling - Recovery of Organic Substances (not solvents)',\n",
              "       'Off-site Transfers for Recycling - Recovery of Pollution Abatement Residues',\n",
              "       'Off-site Transfers for Recycling - Recovery of Solvents',\n",
              "       'Off-site Transfers for Recycling - Refining or Re-use of Used Oil',\n",
              "       'Off-site Transfers for Treatment Prior to Final Disposal - Biological Treatment',\n",
              "       'Off-site Transfers for Treatment Prior to Final Disposal - Chemical Treatment',\n",
              "       'Off-site Transfers for Treatment Prior to Final Disposal - Incineration / Thermal',\n",
              "       'Off-site Transfers for Treatment Prior to Final Disposal - Municipal Sewage Treatment Plant',\n",
              "       'Off-site Transfers for Treatment Prior to Final Disposal - Physical Treatment',\n",
              "       'On-site Disposal - Land Treatment', 'On-site Disposal - Landfill',\n",
              "       'On-site Disposal - Tailings Management',\n",
              "       'On-site Disposal - Underground Injection',\n",
              "       'On-site Disposal - Waste Rock management', 'Number of employees',\n",
              "       'Total Releases (Summed)'],\n",
              "      dtype='object')"
            ]
          },
          "metadata": {},
          "execution_count": 26
        }
      ]
    },
    {
      "cell_type": "markdown",
      "source": [
        "Reasons for droppping this collumns was to remove irrelevant identifiers, avoid redundancy since emissions are already summed, and improve dataset efficiency for better predictive analysis."
      ],
      "metadata": {
        "id": "orZ5khtpSvhl"
      }
    },
    {
      "cell_type": "code",
      "source": [
        "#list of collumns to drop\n",
        "columns_to_drop = [\n",
        "    \"NPRI_ID / No_INRP\", \"Facility_Name / Installation\",\"Number of employees\", \"City\",'Latitude', 'Longitude',\n",
        "    'Release to Air - Other Non-Point ', 'Release to Air - Road dust  ',\n",
        "       'Release to Air - Spills ', 'Release to Air - Stack / Point  ',\n",
        "       'Release to Air - Storage / Handling ', 'Releases to Land - Other ',\n",
        "       'Releases to Land - Spills ',\n",
        "       'Releases to Water Bodies - Direct Discharges ',\n",
        "       'Releases to Water Bodies - Spills ''Release to Air - Fugitive', 'Releases to Land - Leaks',\n",
        "       'Releases to Water Bodies - Leaks','Sum of release to all media (<1tonne)','Releases to Water Bodies - Spills ','Release to Air - Fugitive',\n",
        "    'Off-site Disposal - Land Treatment', 'Off-site Disposal - Landfill',\n",
        "       'Off-site Disposal - Storage',\n",
        "       'Off-site Disposal - Tailings Management',\n",
        "       'Off-site Disposal - Underground Injection',\n",
        "       'Off-site Disposal - Waste Rock management',\n",
        "       'Off-site Transfers for Recycling - Energy Recovery',\n",
        "       'Off-site Transfers for Recycling - Other',\n",
        "       'Off-site Transfers for Recycling - Recovery of Acids and Bases',\n",
        "       'Off-site Transfers for Recycling - Recovery of Catalysts',\n",
        "       'Off-site Transfers for Recycling - Recovery of Inorganic Materials (not metals)',\n",
        "       'Off-site Transfers for Recycling - Recovery of Metals and Metal Compounds',\n",
        "       'Off-site Transfers for Recycling - Recovery of Organic Substances (not solvents)',\n",
        "       'Off-site Transfers for Recycling - Recovery of Pollution Abatement Residues',\n",
        "       'Off-site Transfers for Recycling - Recovery of Solvents',\n",
        "       'Off-site Transfers for Recycling - Refining or Re-use of Used Oil',\n",
        "       'Off-site Transfers for Treatment Prior to Final Disposal - Biological Treatment',\n",
        "       'Off-site Transfers for Treatment Prior to Final Disposal - Chemical Treatment',\n",
        "       'Off-site Transfers for Treatment Prior to Final Disposal - Incineration / Thermal',\n",
        "       'Off-site Transfers for Treatment Prior to Final Disposal - Municipal Sewage Treatment Plant',\n",
        "       'Off-site Transfers for Treatment Prior to Final Disposal - Physical Treatment',\n",
        "       'On-site Disposal - Land Treatment', 'On-site Disposal - Landfill',\n",
        "       'On-site Disposal - Tailings Management',\n",
        "       'On-site Disposal - Underground Injection',\n",
        "       'On-site Disposal - Waste Rock management' ,'Release to Air - Other Non-Point', 'Release to Air - Road dust',\n",
        "       'Release to Air - Spills', 'Release to Air - Stack / Point',\n",
        "       'Release to Air - Storage / Handling', 'Releases to Land - Other',\n",
        "       'Releases to Land - Spills',\n",
        "       'Releases to Water Bodies - Direct Discharges',\n",
        "       'Releases to Water Bodies - Spills']\n",
        "\n",
        "# Drop the columns\n",
        "df_releases_clean.drop(columns=columns_to_drop, inplace=True, errors='ignore') # Added errors='ignore' to skip non-existent columns\n"
      ],
      "metadata": {
        "id": "3JqWnpCjSuVS"
      },
      "execution_count": 27,
      "outputs": []
    },
    {
      "cell_type": "markdown",
      "source": [
        "# ***Check Data Inconsistency***"
      ],
      "metadata": {
        "id": "69n6roqmny-P"
      }
    },
    {
      "cell_type": "code",
      "source": [
        "#checking the data shape after dropping the collumns\n",
        "df_releases_clean.shape"
      ],
      "metadata": {
        "colab": {
          "base_uri": "https://localhost:8080/"
        },
        "id": "IADEDoWSS61D",
        "outputId": "a6368342-80b9-4f1c-d9c8-0c7fa8106a0b"
      },
      "execution_count": 28,
      "outputs": [
        {
          "output_type": "execute_result",
          "data": {
            "text/plain": [
              "(850423, 10)"
            ]
          },
          "metadata": {},
          "execution_count": 28
        }
      ]
    },
    {
      "cell_type": "code",
      "source": [
        "#Checking the collumns\n",
        "df_releases_clean.columns"
      ],
      "metadata": {
        "colab": {
          "base_uri": "https://localhost:8080/"
        },
        "id": "ZfYjO963S-5e",
        "outputId": "3e0957b5-cb71-4ae3-f8e8-d65c75b77bef"
      },
      "execution_count": 29,
      "outputs": [
        {
          "output_type": "execute_result",
          "data": {
            "text/plain": [
              "Index(['Reporting_Year / Année',\n",
              "       'Company_Name / Dénomination_sociale_de_l'entreprise',\n",
              "       'NAICS / Code_SCIAN', 'NAICS Title / Titre Code_SCIAN', 'PROVINCE',\n",
              "       'CAS_Number / No_CAS',\n",
              "       'Substance Name (English) / Nom de substance (Anglais)',\n",
              "       'Units / Unités', 'Estimation_Method / Méthode_d’estimation',\n",
              "       'Total Releases (Summed)'],\n",
              "      dtype='object')"
            ]
          },
          "metadata": {},
          "execution_count": 29
        }
      ]
    },
    {
      "cell_type": "code",
      "source": [
        "#check for duplicate\n",
        "df_releases_clean.duplicated().sum()"
      ],
      "metadata": {
        "colab": {
          "base_uri": "https://localhost:8080/"
        },
        "id": "MWX0Nu3In6-8",
        "outputId": "3eac0d99-0977-4d0f-db33-f26e46391675"
      },
      "execution_count": 30,
      "outputs": [
        {
          "output_type": "execute_result",
          "data": {
            "text/plain": [
              "np.int64(41527)"
            ]
          },
          "metadata": {},
          "execution_count": 30
        }
      ]
    },
    {
      "cell_type": "code",
      "source": [
        "#duplicated data is dropped\n",
        "df_releases_clean.drop_duplicates(inplace=True)"
      ],
      "metadata": {
        "id": "bmOJ1I6ooMvT"
      },
      "execution_count": 31,
      "outputs": []
    },
    {
      "cell_type": "code",
      "source": [
        "#confirm duplicated data is dropped\n",
        "df_releases_clean.duplicated().sum()"
      ],
      "metadata": {
        "colab": {
          "base_uri": "https://localhost:8080/"
        },
        "id": "RsvwekmHoR34",
        "outputId": "3bb34809-95d8-48d2-f0ce-edbd8745e063"
      },
      "execution_count": 32,
      "outputs": [
        {
          "output_type": "execute_result",
          "data": {
            "text/plain": [
              "np.int64(0)"
            ]
          },
          "metadata": {},
          "execution_count": 32
        }
      ]
    },
    {
      "cell_type": "code",
      "source": [
        "#check data shape after dropping duplicated data\n",
        "df_releases_clean.shape"
      ],
      "metadata": {
        "colab": {
          "base_uri": "https://localhost:8080/"
        },
        "id": "xXT2MiRSoUo7",
        "outputId": "4eb2a6d8-dde1-472e-c731-92c2800afde3"
      },
      "execution_count": 33,
      "outputs": [
        {
          "output_type": "execute_result",
          "data": {
            "text/plain": [
              "(808896, 10)"
            ]
          },
          "metadata": {},
          "execution_count": 33
        }
      ]
    },
    {
      "cell_type": "code",
      "source": [
        "df_releases_clean.isna().sum()"
      ],
      "metadata": {
        "colab": {
          "base_uri": "https://localhost:8080/",
          "height": 397
        },
        "id": "xCYiJBWZpqWL",
        "outputId": "f9fdce70-9b72-4a4c-b61d-1825ccfe6da4"
      },
      "execution_count": 34,
      "outputs": [
        {
          "output_type": "execute_result",
          "data": {
            "text/plain": [
              "Reporting_Year / Année                                   0\n",
              "Company_Name / Dénomination_sociale_de_l'entreprise      0\n",
              "NAICS / Code_SCIAN                                       0\n",
              "NAICS Title / Titre Code_SCIAN                           0\n",
              "PROVINCE                                                 0\n",
              "CAS_Number / No_CAS                                      0\n",
              "Substance Name (English) / Nom de substance (Anglais)    0\n",
              "Units / Unités                                           0\n",
              "Estimation_Method / Méthode_d’estimation                 0\n",
              "Total Releases (Summed)                                  0\n",
              "dtype: int64"
            ],
            "text/html": [
              "<div>\n",
              "<style scoped>\n",
              "    .dataframe tbody tr th:only-of-type {\n",
              "        vertical-align: middle;\n",
              "    }\n",
              "\n",
              "    .dataframe tbody tr th {\n",
              "        vertical-align: top;\n",
              "    }\n",
              "\n",
              "    .dataframe thead th {\n",
              "        text-align: right;\n",
              "    }\n",
              "</style>\n",
              "<table border=\"1\" class=\"dataframe\">\n",
              "  <thead>\n",
              "    <tr style=\"text-align: right;\">\n",
              "      <th></th>\n",
              "      <th>0</th>\n",
              "    </tr>\n",
              "  </thead>\n",
              "  <tbody>\n",
              "    <tr>\n",
              "      <th>Reporting_Year / Année</th>\n",
              "      <td>0</td>\n",
              "    </tr>\n",
              "    <tr>\n",
              "      <th>Company_Name / Dénomination_sociale_de_l'entreprise</th>\n",
              "      <td>0</td>\n",
              "    </tr>\n",
              "    <tr>\n",
              "      <th>NAICS / Code_SCIAN</th>\n",
              "      <td>0</td>\n",
              "    </tr>\n",
              "    <tr>\n",
              "      <th>NAICS Title / Titre Code_SCIAN</th>\n",
              "      <td>0</td>\n",
              "    </tr>\n",
              "    <tr>\n",
              "      <th>PROVINCE</th>\n",
              "      <td>0</td>\n",
              "    </tr>\n",
              "    <tr>\n",
              "      <th>CAS_Number / No_CAS</th>\n",
              "      <td>0</td>\n",
              "    </tr>\n",
              "    <tr>\n",
              "      <th>Substance Name (English) / Nom de substance (Anglais)</th>\n",
              "      <td>0</td>\n",
              "    </tr>\n",
              "    <tr>\n",
              "      <th>Units / Unités</th>\n",
              "      <td>0</td>\n",
              "    </tr>\n",
              "    <tr>\n",
              "      <th>Estimation_Method / Méthode_d’estimation</th>\n",
              "      <td>0</td>\n",
              "    </tr>\n",
              "    <tr>\n",
              "      <th>Total Releases (Summed)</th>\n",
              "      <td>0</td>\n",
              "    </tr>\n",
              "  </tbody>\n",
              "</table>\n",
              "</div><br><label><b>dtype:</b> int64</label>"
            ]
          },
          "metadata": {},
          "execution_count": 34
        }
      ]
    },
    {
      "cell_type": "markdown",
      "source": [
        "# ***Pattern Discovery and Visualizations and Statistics***\n",
        "\n",
        "The Goal: Find general trends and relationships before modeling.\n",
        "\n",
        "Our Actions:\n",
        "\n",
        "Group pollution by year:\n",
        "\n",
        "Group by top 10 polluting industry\n",
        "\n",
        "Group by top 10 province to see pollution distribution:\n",
        "\n",
        "Most Released Pollutant\n",
        "\n",
        "After dropping the unnecessary collumn, here are some of the key trends we analyzed and visualized Some of the Questions we were trying to get insights from our data\n",
        "\n",
        "How has total pollution changed over the years?\n",
        "\n",
        "Which industries release the most pollutants?\n",
        "\n",
        "Which provinces contribute the most to pollution?\n",
        "\n",
        "What are the most frequently released substances?\n",
        "\n",
        "How are pollution levels estimated?\n",
        "\n",
        "*Visualisations * Line chart to show pollution trends over time.\n",
        "\n",
        "Insight Is pollution increasing or decreasing? Are there sharp spikes in certain years?\n",
        "\n",
        "*Visualisations * Bar chart comparing total pollution by province.\n",
        "\n",
        "Insights: Which province has the highest pollution? Are certain provinces much cleaner than others?\n",
        "\n",
        "*Visualisations * Bar chart of top 10 pollutants released.\n",
        "\n",
        "Insights: Which chemicals are most commonly released? Are some pollutants more dominant in certain industries?\n",
        "\n",
        "*Visualisations * Pie chart showing distribution of estimation methods.\n",
        "\n",
        "Insights: Are most values estimated using monitoring or calculations? Are some industries more likely to estimate pollution rather than measure it?"
      ],
      "metadata": {
        "id": "aWTkl-8qLqCt"
      }
    },
    {
      "cell_type": "code",
      "source": [
        "import matplotlib.pyplot as plt\n",
        "import seaborn as sns\n",
        "\n",
        "# Group by year to see the total pollution trend over time\n",
        "yearly_trend = df_releases_clean.groupby(\"Reporting_Year / Année\")[\"Total Releases (Summed)\"].sum().reset_index()\n",
        "\n",
        "# Plot the trend\n",
        "plt.figure(figsize=(10, 5))\n",
        "sns.lineplot(data=yearly_trend, x=\"Reporting_Year / Année\", y=\"Total Releases (Summed)\", marker=\"o\")\n",
        "plt.title(\"Total Pollution Releases Over Time\")\n",
        "plt.xlabel(\"Year\")\n",
        "plt.ylabel(\"Total Releases (Tonnes)\")\n",
        "plt.xticks(rotation=45)\n",
        "plt.show()\n",
        "\n"
      ],
      "metadata": {
        "colab": {
          "base_uri": "https://localhost:8080/",
          "height": 508
        },
        "id": "ey4fr1A4MI6H",
        "outputId": "4ca07ead-582f-46e8-9cb4-fdfc766c7eac"
      },
      "execution_count": 35,
      "outputs": [
        {
          "output_type": "display_data",
          "data": {
            "text/plain": [
              "<Figure size 1000x500 with 1 Axes>"
            ],
            "image/png": "[encoded data removed]"
          },
          "metadata": {}
        }
      ]
    },
    {
      "cell_type": "code",
      "source": [
        "# Group by industry to find top polluting industries\n",
        "top_industries = df_releases_clean.groupby(\"NAICS Title / Titre Code_SCIAN\")[\"Total Releases (Summed)\"].sum().nlargest(10)\n",
        "\n",
        "# Plot the industries\n",
        "# Corrected Top Polluting Industries Graph\n",
        "\n",
        "plt.figure(figsize=(12, 6))\n",
        "sns.barplot(x=top_industries.values, y=top_industries.index, hue=top_industries.index, legend=False, palette=\"Reds_r\")\n",
        "plt.title(\"Top 10 Polluting Industries\")\n",
        "plt.xlabel(\"Total Releases (Tonnes)\")\n",
        "plt.ylabel(\"Industry\")\n",
        "plt.ticklabel_format(style='plain', axis='x')\n",
        "plt.show()"
      ],
      "metadata": {
        "colab": {
          "base_uri": "https://localhost:8080/",
          "height": 353
        },
        "id": "-ygnjd92q3hf",
        "outputId": "03aa6596-9b91-49cb-841c-c4d9d9be2ca7"
      },
      "execution_count": 36,
      "outputs": [
        {
          "output_type": "display_data",
          "data": {
            "text/plain": [
              "<Figure size 1200x600 with 1 Axes>"
            ],
            "image/png": "[encoded data removed]"
          },
          "metadata": {}
        }
      ]
    },
    {
      "cell_type": "code",
      "source": [
        "# Group by province to see pollution distribution\n",
        "province_pollution = df_releases_clean.groupby(\"PROVINCE\")[\"Total Releases (Summed)\"].sum().sort_values(ascending=False)\n",
        "\n",
        "\n",
        "\n",
        "#Bar Plot for Pollution by Province\n",
        "\n",
        "plt.figure(figsize=(12, 6))\n",
        "sns.barplot(x=province_pollution.index, y=province_pollution.values, hue=province_pollution.index, legend=False, palette=\"Blues_r\")\n",
        "plt.title(\"Total Pollution Releases by Province\")\n",
        "plt.xlabel(\"Province\")\n",
        "plt.ylabel(\"Total Releases (Tonnes)\")\n",
        "plt.xticks(rotation=45)\n",
        "plt.ticklabel_format(style='plain', axis='y')\n",
        "plt.show()\n"
      ],
      "metadata": {
        "colab": {
          "base_uri": "https://localhost:8080/",
          "height": 472
        },
        "id": "ByoPMYZLrCL3",
        "outputId": "25181395-485b-4c2d-8306-eabf7b4006db"
      },
      "execution_count": 37,
      "outputs": [
        {
          "output_type": "display_data",
          "data": {
            "text/plain": [
              "<Figure size 1200x600 with 1 Axes>"
            ],
            "image/png": "[encoded data removed]"
          },
          "metadata": {}
        }
      ]
    },
    {
      "cell_type": "code",
      "source": [
        "# Group by substance name to find the most released pollutants\n",
        "top_pollutants = df_releases_clean.groupby(\"Substance Name (English) / Nom de substance (Anglais)\")[\"Total Releases (Summed)\"].sum().nlargest(10)\n",
        "\n",
        "# Plot the pollutants\n",
        "plt.figure(figsize=(12, 6))\n",
        "sns.barplot(\n",
        "    x=top_pollutants.values,\n",
        "    y=top_pollutants.index,\n",
        "    hue=top_pollutants.index,  # Assigning hue to the y variable\n",
        "    legend=False,\n",
        "    palette=\"Purples_r\"\n",
        ")\n",
        "plt.title(\"Top 10 Most Released Pollutants\")\n",
        "plt.xlabel(\"Total Releases (Tonnes)\")\n",
        "plt.ylabel(\"Substance\")\n",
        "plt.ticklabel_format(style='plain', axis='x')\n",
        "plt.show()"
      ],
      "metadata": {
        "colab": {
          "base_uri": "https://localhost:8080/",
          "height": 374
        },
        "id": "C9zWIZqtrJSi",
        "outputId": "0b1a3362-34b5-4e07-bb62-455235d40a77"
      },
      "execution_count": 38,
      "outputs": [
        {
          "output_type": "display_data",
          "data": {
            "text/plain": [
              "<Figure size 1200x600 with 1 Axes>"
            ],
            "image/png": "[encoded data removed]"
          },
          "metadata": {}
        }
      ]
    },
    {
      "cell_type": "code",
      "source": [
        "# Count the top 10 most common estimation methods\n",
        "top_estimation_methods = df_releases_clean[\"Estimation_Method / Méthode_d’estimation\"].value_counts().nlargest(10)\n",
        "\n",
        "# Plot the top estimation methods\n",
        "plt.figure(figsize=(12, 6))\n",
        "sns.barplot(\n",
        "    x=top_estimation_methods.values,\n",
        "    y=top_estimation_methods.index,\n",
        "    hue=top_estimation_methods.index,  # Assign hue to avoid deprecation warning\n",
        "    legend=False,\n",
        "    palette=\"coolwarm\"\n",
        ")\n",
        "plt.title(\"Top 10 Most Common Estimation Methods\")\n",
        "plt.xlabel(\"Count\")\n",
        "plt.ylabel(\"Estimation Method\")\n",
        "plt.show()\n"
      ],
      "metadata": {
        "colab": {
          "base_uri": "https://localhost:8080/",
          "height": 393
        },
        "id": "y_bDSkdwrY_R",
        "outputId": "cab19906-055d-4f88-e839-9479da78699f"
      },
      "execution_count": 39,
      "outputs": [
        {
          "output_type": "display_data",
          "data": {
            "text/plain": [
              "<Figure size 1200x600 with 1 Axes>"
            ],
            "image/png": "[encoded data removed]"
          },
          "metadata": {}
        }
      ]
    },
    {
      "cell_type": "markdown",
      "source": [
        "# Fixing Bad Housekeeping\n",
        "\n",
        "Goal: Clean or drop irrelevant/low-quality columns\n",
        "\n",
        "Our Actions:\n",
        "\n",
        "Drop any unnecessary columns\n",
        "\n",
        "Standardize column names:"
      ],
      "metadata": {
        "id": "8oLtF4NFs8c6"
      }
    },
    {
      "cell_type": "code",
      "source": [
        "df_releases_clean.columns = df_releases_clean.columns.str.strip()"
      ],
      "metadata": {
        "id": "j1w7jrm-tQ6w"
      },
      "execution_count": 40,
      "outputs": []
    },
    {
      "cell_type": "markdown",
      "source": [
        "# Handling Outliers\n",
        "Goal: Detect and decide whether to drop or keep high-emission outliers.\n",
        "\n",
        "Our Actions:\n",
        "Use boxplot\n",
        "Identify high-end outliers"
      ],
      "metadata": {
        "id": "y62LfhoWtaXu"
      }
    },
    {
      "cell_type": "markdown",
      "source": [
        " *Explanation of Outliers in Pollutant Releases Cause:*\n",
        "\n",
        "Certain industries inherently release high levels of pollutants, leading to extreme values. Industries like oil refineries, power plants, and mining operations contribute the most pollution.\n",
        "\n",
        "Example: Aluminum and metal production → Extremely high emissions. Oil extraction → Releases large quantities of pollutants into air, land, and water.\n",
        "\n",
        "Evidence from Data: The top 1% of polluters come from energy, mining, and chemical processing industries.\n",
        "\n",
        "\n"
      ],
      "metadata": {
        "id": "N02_7-3gvWZr"
      }
    },
    {
      "cell_type": "code",
      "source": [
        "# Identifying industries with unusually high emissions (Outliers)\n",
        "plt.figure(figsize=(10, 5))\n",
        "sns.boxplot(data=df_releases_clean, x=\"Total Releases (Summed)\", showfliers=True)\n",
        "plt.title(\"Distribution of Pollutant Releases (Outlier Detection)\")\n",
        "plt.xlabel(\"Total Releases (Tonnes)\")\n",
        "plt.show()\n"
      ],
      "metadata": {
        "colab": {
          "base_uri": "https://localhost:8080/",
          "height": 487
        },
        "id": "U9pSGrwWtZcm",
        "outputId": "642520d3-a800-49d5-dddf-6eaf32ad3ac9"
      },
      "execution_count": 41,
      "outputs": [
        {
          "output_type": "display_data",
          "data": {
            "text/plain": [
              "<Figure size 1000x500 with 1 Axes>"
            ],
            "image/png": "[encoded data removed]"
          },
          "metadata": {}
        }
      ]
    },
    {
      "cell_type": "code",
      "source": [
        "# Identifying top industries with extreme pollution values (outliers)\n",
        "outlier_threshold = df_releases_clean[\"Total Releases (Summed)\"].quantile(0.99)  # Top 1% as outliers\n",
        "outlier_industries = df_releases_clean[df_releases_clean[\"Total Releases (Summed)\"] > outlier_threshold]\n",
        "\n",
        "# Displaying outlier industries\n",
        "print(\"Top Industries with Extreme Pollution Levels:\")\n",
        "print(outlier_industries[\"NAICS Title / Titre Code_SCIAN\"].value_counts())\n"
      ],
      "metadata": {
        "colab": {
          "base_uri": "https://localhost:8080/"
        },
        "id": "woqhipJ3vD7T",
        "outputId": "9be8107c-5490-4c9b-c0be-559937b65df7"
      },
      "execution_count": 42,
      "outputs": [
        {
          "output_type": "stream",
          "name": "stdout",
          "text": [
            "Top Industries with Extreme Pollution Levels:\n",
            "NAICS Title / Titre Code_SCIAN\n",
            "Primary production of alumina and aluminum                          1041\n",
            "Fossil-fuel electric power generation                               1007\n",
            "Non-ferrous metal (except aluminum) smelting and refining            493\n",
            "Conventional oil and gas extraction                                  458\n",
            "Petroleum refineries                                                 450\n",
            "                                                                    ... \n",
            "Other animal food manufacturing                                        1\n",
            "Power and communication line and related structures construction       1\n",
            "Sand and gravel mining and quarrying                                   1\n",
            "All other electrical equipment and component manufacturing             1\n",
            "All other support services                                             1\n",
            "Name: count, Length: 93, dtype: int64\n"
          ]
        }
      ]
    },
    {
      "cell_type": "markdown",
      "source": [
        "This code below finds the 99th percentile value of Total Releases (Summed). The 99th percentile means that only 1% of the highest pollution values exceed this threshold. This helps us define extreme pollution levels.\n",
        "\n",
        "Why?\n",
        "\n",
        "Helps identify industries or facilities responsible for extreme pollution. Allows us to analyze if these values are valid or data errors."
      ],
      "metadata": {
        "id": "0AE5tcfwvn-X"
      }
    },
    {
      "cell_type": "code",
      "source": [
        "outlier_threshold = df_releases_clean[\"Total Releases (Summed)\"].quantile(0.99)\n",
        "df_releases_clean[df_releases_clean[\"Total Releases (Summed)\"] > outlier_threshold].head(10)"
      ],
      "metadata": {
        "colab": {
          "base_uri": "https://localhost:8080/",
          "height": 938
        },
        "id": "GL8zaLaDupW4",
        "outputId": "1762ec28-7563-44db-f1d4-0f8848816b80"
      },
      "execution_count": 43,
      "outputs": [
        {
          "output_type": "execute_result",
          "data": {
            "text/plain": [
              "      Reporting_Year / Année  \\\n",
              "315                     2000   \n",
              "979                     2000   \n",
              "1402                    2000   \n",
              "1433                    2000   \n",
              "1755                    2000   \n",
              "1769                    2000   \n",
              "1841                    2000   \n",
              "2484                    2000   \n",
              "3577                    2000   \n",
              "3624                    2000   \n",
              "\n",
              "     Company_Name / Dénomination_sociale_de_l'entreprise  NAICS / Code_SCIAN  \\\n",
              "315                        Communaute urbaine de Quebec               562210   \n",
              "979                                        INCO LIMITED               212232   \n",
              "1402                            NORSK HYDRO CANADA INC.               331410   \n",
              "1433                                     City of Ottawa               221320   \n",
              "1755                                      ATCO ELECTRIC               221112   \n",
              "1769                       Sheerness Generating Station               221112   \n",
              "1841                       Aluminerie de Bécancour inc.               331313   \n",
              "2484   Greater Vancouver Sewerage and Drainage District               221320   \n",
              "3577                       Ontario Power Generation Inc               221112   \n",
              "3624                       Ontario Power Generation Inc               221112   \n",
              "\n",
              "                         NAICS Title / Titre Code_SCIAN PROVINCE  \\\n",
              "315                        Waste treatment and disposal       QC   \n",
              "979                            Nickel-copper ore mining       ON   \n",
              "1402  Non-ferrous metal (except aluminum) smelting a...       QC   \n",
              "1433                        Sewage treatment facilities       ON   \n",
              "1755              Fossil-fuel electric power generation       AB   \n",
              "1769              Fossil-fuel electric power generation       AB   \n",
              "1841         Primary production of alumina and aluminum       QC   \n",
              "2484                        Sewage treatment facilities       BC   \n",
              "3577              Fossil-fuel electric power generation       ON   \n",
              "3624              Fossil-fuel electric power generation       ON   \n",
              "\n",
              "     CAS_Number / No_CAS  \\\n",
              "315             118-74-1   \n",
              "979            7664-93-9   \n",
              "1402            118-74-1   \n",
              "1433             NA - 16   \n",
              "1755            118-74-1   \n",
              "1769            118-74-1   \n",
              "1841            NA - P/H   \n",
              "2484             NA - 16   \n",
              "3577           7647-01-0   \n",
              "3624           7647-01-0   \n",
              "\n",
              "     Substance Name (English) / Nom de substance (Anglais) Units / Unités  \\\n",
              "315                                   Hexachlorobenzene             grams   \n",
              "979                                      Sulphuric acid            tonnes   \n",
              "1402                                  Hexachlorobenzene             grams   \n",
              "1433                                    Ammonia (total)            tonnes   \n",
              "1755                                  Hexachlorobenzene             grams   \n",
              "1769                                  Hexachlorobenzene             grams   \n",
              "1841                            PAHs, total unspeciated                kg   \n",
              "2484                                    Ammonia (total)            tonnes   \n",
              "3577                                  Hydrochloric acid            tonnes   \n",
              "3624                                  Hydrochloric acid            tonnes   \n",
              "\n",
              "     Estimation_Method / Méthode_d’estimation  Total Releases (Summed)  \n",
              "315                       E - Emission Factor                 8000.000  \n",
              "979      M - Monitoring or Direct Measurement                 2710.000  \n",
              "1402     M - Monitoring or Direct Measurement                 2081.000  \n",
              "1433     M - Monitoring or Direct Measurement                 1981.000  \n",
              "1755                      E - Emission Factor                 1650.259  \n",
              "1769                      E - Emission Factor                 2009.000  \n",
              "1841     M - Monitoring or Direct Measurement                 2081.000  \n",
              "2484     M - Monitoring or Direct Measurement                 4310.000  \n",
              "3577                      E - Emission Factor                 1847.867  \n",
              "3624                      E - Emission Factor                 6781.511  "
            ],
            "text/html": [
              "\n",
              "  <div id=\"df-94200789-5c4f-48ac-bf8e-d5e2ada30d20\" class=\"colab-df-container\">\n",
              "    <div>\n",
              "<style scoped>\n",
              "    .dataframe tbody tr th:only-of-type {\n",
              "        vertical-align: middle;\n",
              "    }\n",
              "\n",
              "    .dataframe tbody tr th {\n",
              "        vertical-align: top;\n",
              "    }\n",
              "\n",
              "    .dataframe thead th {\n",
              "        text-align: right;\n",
              "    }\n",
              "</style>\n",
              "<table border=\"1\" class=\"dataframe\">\n",
              "  <thead>\n",
              "    <tr style=\"text-align: right;\">\n",
              "      <th></th>\n",
              "      <th>Reporting_Year / Année</th>\n",
              "      <th>Company_Name / Dénomination_sociale_de_l'entreprise</th>\n",
              "      <th>NAICS / Code_SCIAN</th>\n",
              "      <th>NAICS Title / Titre Code_SCIAN</th>\n",
              "      <th>PROVINCE</th>\n",
              "      <th>CAS_Number / No_CAS</th>\n",
              "      <th>Substance Name (English) / Nom de substance (Anglais)</th>\n",
              "      <th>Units / Unités</th>\n",
              "      <th>Estimation_Method / Méthode_d’estimation</th>\n",
              "      <th>Total Releases (Summed)</th>\n",
              "    </tr>\n",
              "  </thead>\n",
              "  <tbody>\n",
              "    <tr>\n",
              "      <th>315</th>\n",
              "      <td>2000</td>\n",
              "      <td>Communaute urbaine de Quebec</td>\n",
              "      <td>562210</td>\n",
              "      <td>Waste treatment and disposal</td>\n",
              "      <td>QC</td>\n",
              "      <td>118-74-1</td>\n",
              "      <td>Hexachlorobenzene</td>\n",
              "      <td>grams</td>\n",
              "      <td>E - Emission Factor</td>\n",
              "      <td>8000.000</td>\n",
              "    </tr>\n",
              "    <tr>\n",
              "      <th>979</th>\n",
              "      <td>2000</td>\n",
              "      <td>INCO LIMITED</td>\n",
              "      <td>212232</td>\n",
              "      <td>Nickel-copper ore mining</td>\n",
              "      <td>ON</td>\n",
              "      <td>7664-93-9</td>\n",
              "      <td>Sulphuric acid</td>\n",
              "      <td>tonnes</td>\n",
              "      <td>M - Monitoring or Direct Measurement</td>\n",
              "      <td>2710.000</td>\n",
              "    </tr>\n",
              "    <tr>\n",
              "      <th>1402</th>\n",
              "      <td>2000</td>\n",
              "      <td>NORSK HYDRO CANADA INC.</td>\n",
              "      <td>331410</td>\n",
              "      <td>Non-ferrous metal (except aluminum) smelting a...</td>\n",
              "      <td>QC</td>\n",
              "      <td>118-74-1</td>\n",
              "      <td>Hexachlorobenzene</td>\n",
              "      <td>grams</td>\n",
              "      <td>M - Monitoring or Direct Measurement</td>\n",
              "      <td>2081.000</td>\n",
              "    </tr>\n",
              "    <tr>\n",
              "      <th>1433</th>\n",
              "      <td>2000</td>\n",
              "      <td>City of Ottawa</td>\n",
              "      <td>221320</td>\n",
              "      <td>Sewage treatment facilities</td>\n",
              "      <td>ON</td>\n",
              "      <td>NA - 16</td>\n",
              "      <td>Ammonia (total)</td>\n",
              "      <td>tonnes</td>\n",
              "      <td>M - Monitoring or Direct Measurement</td>\n",
              "      <td>1981.000</td>\n",
              "    </tr>\n",
              "    <tr>\n",
              "      <th>1755</th>\n",
              "      <td>2000</td>\n",
              "      <td>ATCO ELECTRIC</td>\n",
              "      <td>221112</td>\n",
              "      <td>Fossil-fuel electric power generation</td>\n",
              "      <td>AB</td>\n",
              "      <td>118-74-1</td>\n",
              "      <td>Hexachlorobenzene</td>\n",
              "      <td>grams</td>\n",
              "      <td>E - Emission Factor</td>\n",
              "      <td>1650.259</td>\n",
              "    </tr>\n",
              "    <tr>\n",
              "      <th>1769</th>\n",
              "      <td>2000</td>\n",
              "      <td>Sheerness Generating Station</td>\n",
              "      <td>221112</td>\n",
              "      <td>Fossil-fuel electric power generation</td>\n",
              "      <td>AB</td>\n",
              "      <td>118-74-1</td>\n",
              "      <td>Hexachlorobenzene</td>\n",
              "      <td>grams</td>\n",
              "      <td>E - Emission Factor</td>\n",
              "      <td>2009.000</td>\n",
              "    </tr>\n",
              "    <tr>\n",
              "      <th>1841</th>\n",
              "      <td>2000</td>\n",
              "      <td>Aluminerie de Bécancour inc.</td>\n",
              "      <td>331313</td>\n",
              "      <td>Primary production of alumina and aluminum</td>\n",
              "      <td>QC</td>\n",
              "      <td>NA - P/H</td>\n",
              "      <td>PAHs, total unspeciated</td>\n",
              "      <td>kg</td>\n",
              "      <td>M - Monitoring or Direct Measurement</td>\n",
              "      <td>2081.000</td>\n",
              "    </tr>\n",
              "    <tr>\n",
              "      <th>2484</th>\n",
              "      <td>2000</td>\n",
              "      <td>Greater Vancouver Sewerage and Drainage District</td>\n",
              "      <td>221320</td>\n",
              "      <td>Sewage treatment facilities</td>\n",
              "      <td>BC</td>\n",
              "      <td>NA - 16</td>\n",
              "      <td>Ammonia (total)</td>\n",
              "      <td>tonnes</td>\n",
              "      <td>M - Monitoring or Direct Measurement</td>\n",
              "      <td>4310.000</td>\n",
              "    </tr>\n",
              "    <tr>\n",
              "      <th>3577</th>\n",
              "      <td>2000</td>\n",
              "      <td>Ontario Power Generation Inc</td>\n",
              "      <td>221112</td>\n",
              "      <td>Fossil-fuel electric power generation</td>\n",
              "      <td>ON</td>\n",
              "      <td>7647-01-0</td>\n",
              "      <td>Hydrochloric acid</td>\n",
              "      <td>tonnes</td>\n",
              "      <td>E - Emission Factor</td>\n",
              "      <td>1847.867</td>\n",
              "    </tr>\n",
              "    <tr>\n",
              "      <th>3624</th>\n",
              "      <td>2000</td>\n",
              "      <td>Ontario Power Generation Inc</td>\n",
              "      <td>221112</td>\n",
              "      <td>Fossil-fuel electric power generation</td>\n",
              "      <td>ON</td>\n",
              "      <td>7647-01-0</td>\n",
              "      <td>Hydrochloric acid</td>\n",
              "      <td>tonnes</td>\n",
              "      <td>E - Emission Factor</td>\n",
              "      <td>6781.511</td>\n",
              "    </tr>\n",
              "  </tbody>\n",
              "</table>\n",
              "</div>\n",
              "    <div class=\"colab-df-buttons\">\n",
              "\n",
              "  <div class=\"colab-df-container\">\n",
              "    <button class=\"colab-df-convert\" onclick=\"convertToInteractive('df-94200789-5c4f-48ac-bf8e-d5e2ada30d20')\"\n",
              "            title=\"Convert this dataframe to an interactive table.\"\n",
              "            style=\"display:none;\">\n",
              "\n",
              "  <svg xmlns=\"http://www.w3.org/2000/svg\" height=\"24px\" viewBox=\"0 -960 960 960\">\n",
              "    <path d=\"M120-120v-720h720v720H120Zm60-500h600v-160H180v160Zm220 220h160v-160H400v160Zm0 220h160v-160H400v160ZM180-400h160v-160H180v160Zm440 0h160v-160H620v160ZM180-180h160v-160H180v160Zm440 0h160v-160H620v160Z\"/>\n",
              "  </svg>\n",
              "    </button>\n",
              "\n",
              "  <style>\n",
              "    .colab-df-container {\n",
              "      display:flex;\n",
              "      gap: 12px;\n",
              "    }\n",
              "\n",
              "    .colab-df-convert {\n",
              "      background-color: #E8F0FE;\n",
              "      border: none;\n",
              "      border-radius: 50%;\n",
              "      cursor: pointer;\n",
              "      display: none;\n",
              "      fill: #1967D2;\n",
              "      height: 32px;\n",
              "      padding: 0 0 0 0;\n",
              "      width: 32px;\n",
              "    }\n",
              "\n",
              "    .colab-df-convert:hover {\n",
              "      background-color: #E2EBFA;\n",
              "      box-shadow: 0px 1px 2px rgba(60, 64, 67, 0.3), 0px 1px 3px 1px rgba(60, 64, 67, 0.15);\n",
              "      fill: #174EA6;\n",
              "    }\n",
              "\n",
              "    .colab-df-buttons div {\n",
              "      margin-bottom: 4px;\n",
              "    }\n",
              "\n",
              "    [theme=dark] .colab-df-convert {\n",
              "      background-color: #3B4455;\n",
              "      fill: #D2E3FC;\n",
              "    }\n",
              "\n",
              "    [theme=dark] .colab-df-convert:hover {\n",
              "      background-color: #434B5C;\n",
              "      box-shadow: 0px 1px 3px 1px rgba(0, 0, 0, 0.15);\n",
              "      filter: drop-shadow(0px 1px 2px rgba(0, 0, 0, 0.3));\n",
              "      fill: #FFFFFF;\n",
              "    }\n",
              "  </style>\n",
              "\n",
              "    <script>\n",
              "      const buttonEl =\n",
              "        document.querySelector('#df-94200789-5c4f-48ac-bf8e-d5e2ada30d20 button.colab-df-convert');\n",
              "      buttonEl.style.display =\n",
              "        google.colab.kernel.accessAllowed ? 'block' : 'none';\n",
              "\n",
              "      async function convertToInteractive(key) {\n",
              "        const element = document.querySelector('#df-94200789-5c4f-48ac-bf8e-d5e2ada30d20');\n",
              "        const dataTable =\n",
              "          await google.colab.kernel.invokeFunction('convertToInteractive',\n",
              "                                                    [key], {});\n",
              "        if (!dataTable) return;\n",
              "\n",
              "        const docLinkHtml = 'Like what you see? Visit the ' +\n",
              "          '<a target=\"_blank\" href=https://colab.research.google.com/notebooks/data_table.ipynb>data table notebook</a>'\n",
              "          + ' to learn more about interactive tables.';\n",
              "        element.innerHTML = '';\n",
              "        dataTable['output_type'] = 'display_data';\n",
              "        await google.colab.output.renderOutput(dataTable, element);\n",
              "        const docLink = document.createElement('div');\n",
              "        docLink.innerHTML = docLinkHtml;\n",
              "        element.appendChild(docLink);\n",
              "      }\n",
              "    </script>\n",
              "  </div>\n",
              "\n",
              "\n",
              "<div id=\"df-a528774f-3c4c-4031-a6aa-8adb820c2e49\">\n",
              "  <button class=\"colab-df-quickchart\" onclick=\"quickchart('df-a528774f-3c4c-4031-a6aa-8adb820c2e49')\"\n",
              "            title=\"Suggest charts\"\n",
              "            style=\"display:none;\">\n",
              "\n",
              "<svg xmlns=\"http://www.w3.org/2000/svg\" height=\"24px\"viewBox=\"0 0 24 24\"\n",
              "     width=\"24px\">\n",
              "    <g>\n",
              "        <path d=\"M19 3H5c-1.1 0-2 .9-2 2v14c0 1.1.9 2 2 2h14c1.1 0 2-.9 2-2V5c0-1.1-.9-2-2-2zM9 17H7v-7h2v7zm4 0h-2V7h2v10zm4 0h-2v-4h2v4z\"/>\n",
              "    </g>\n",
              "</svg>\n",
              "  </button>\n",
              "\n",
              "<style>\n",
              "  .colab-df-quickchart {\n",
              "      --bg-color: #E8F0FE;\n",
              "      --fill-color: #1967D2;\n",
              "      --hover-bg-color: #E2EBFA;\n",
              "      --hover-fill-color: #174EA6;\n",
              "      --disabled-fill-color: #AAA;\n",
              "      --disabled-bg-color: #DDD;\n",
              "  }\n",
              "\n",
              "  [theme=dark] .colab-df-quickchart {\n",
              "      --bg-color: #3B4455;\n",
              "      --fill-color: #D2E3FC;\n",
              "      --hover-bg-color: #434B5C;\n",
              "      --hover-fill-color: #FFFFFF;\n",
              "      --disabled-bg-color: #3B4455;\n",
              "      --disabled-fill-color: #666;\n",
              "  }\n",
              "\n",
              "  .colab-df-quickchart {\n",
              "    background-color: var(--bg-color);\n",
              "    border: none;\n",
              "    border-radius: 50%;\n",
              "    cursor: pointer;\n",
              "    display: none;\n",
              "    fill: var(--fill-color);\n",
              "    height: 32px;\n",
              "    padding: 0;\n",
              "    width: 32px;\n",
              "  }\n",
              "\n",
              "  .colab-df-quickchart:hover {\n",
              "    background-color: var(--hover-bg-color);\n",
              "    box-shadow: 0 1px 2px rgba(60, 64, 67, 0.3), 0 1px 3px 1px rgba(60, 64, 67, 0.15);\n",
              "    fill: var(--button-hover-fill-color);\n",
              "  }\n",
              "\n",
              "  .colab-df-quickchart-complete:disabled,\n",
              "  .colab-df-quickchart-complete:disabled:hover {\n",
              "    background-color: var(--disabled-bg-color);\n",
              "    fill: var(--disabled-fill-color);\n",
              "    box-shadow: none;\n",
              "  }\n",
              "\n",
              "  .colab-df-spinner {\n",
              "    border: 2px solid var(--fill-color);\n",
              "    border-color: transparent;\n",
              "    border-bottom-color: var(--fill-color);\n",
              "    animation:\n",
              "      spin 1s steps(1) infinite;\n",
              "  }\n",
              "\n",
              "  @keyframes spin {\n",
              "    0% {\n",
              "      border-color: transparent;\n",
              "      border-bottom-color: var(--fill-color);\n",
              "      border-left-color: var(--fill-color);\n",
              "    }\n",
              "    20% {\n",
              "      border-color: transparent;\n",
              "      border-left-color: var(--fill-color);\n",
              "      border-top-color: var(--fill-color);\n",
              "    }\n",
              "    30% {\n",
              "      border-color: transparent;\n",
              "      border-left-color: var(--fill-color);\n",
              "      border-top-color: var(--fill-color);\n",
              "      border-right-color: var(--fill-color);\n",
              "    }\n",
              "    40% {\n",
              "      border-color: transparent;\n",
              "      border-right-color: var(--fill-color);\n",
              "      border-top-color: var(--fill-color);\n",
              "    }\n",
              "    60% {\n",
              "      border-color: transparent;\n",
              "      border-right-color: var(--fill-color);\n",
              "    }\n",
              "    80% {\n",
              "      border-color: transparent;\n",
              "      border-right-color: var(--fill-color);\n",
              "      border-bottom-color: var(--fill-color);\n",
              "    }\n",
              "    90% {\n",
              "      border-color: transparent;\n",
              "      border-bottom-color: var(--fill-color);\n",
              "    }\n",
              "  }\n",
              "</style>\n",
              "\n",
              "  <script>\n",
              "    async function quickchart(key) {\n",
              "      const quickchartButtonEl =\n",
              "        document.querySelector('#' + key + ' button');\n",
              "      quickchartButtonEl.disabled = true;  // To prevent multiple clicks.\n",
              "      quickchartButtonEl.classList.add('colab-df-spinner');\n",
              "      try {\n",
              "        const charts = await google.colab.kernel.invokeFunction(\n",
              "            'suggestCharts', [key], {});\n",
              "      } catch (error) {\n",
              "        console.error('Error during call to suggestCharts:', error);\n",
              "      }\n",
              "      quickchartButtonEl.classList.remove('colab-df-spinner');\n",
              "      quickchartButtonEl.classList.add('colab-df-quickchart-complete');\n",
              "    }\n",
              "    (() => {\n",
              "      let quickchartButtonEl =\n",
              "        document.querySelector('#df-a528774f-3c4c-4031-a6aa-8adb820c2e49 button');\n",
              "      quickchartButtonEl.style.display =\n",
              "        google.colab.kernel.accessAllowed ? 'block' : 'none';\n",
              "    })();\n",
              "  </script>\n",
              "</div>\n",
              "\n",
              "    </div>\n",
              "  </div>\n"
            ],
            "application/vnd.google.colaboratory.intrinsic+json": {
              "type": "dataframe",
              "summary": "{\n  \"name\": \"df_releases_clean[df_releases_clean[\\\"Total Releases (Summed)\\\"] > outlier_threshold]\",\n  \"rows\": 10,\n  \"fields\": [\n    {\n      \"column\": \"Reporting_Year / Ann\\u00e9e\",\n      \"properties\": {\n        \"dtype\": \"number\",\n        \"std\": 0,\n        \"min\": 2000,\n        \"max\": 2000,\n        \"num_unique_values\": 1,\n        \"samples\": [\n          2000\n        ],\n        \"semantic_type\": \"\",\n        \"description\": \"\"\n      }\n    },\n    {\n      \"column\": \"Company_Name / D\\u00e9nomination_sociale_de_l'entreprise\",\n      \"properties\": {\n        \"dtype\": \"string\",\n        \"num_unique_values\": 9,\n        \"samples\": [\n          \"Greater Vancouver Sewerage and Drainage District\"\n        ],\n        \"semantic_type\": \"\",\n        \"description\": \"\"\n      }\n    },\n    {\n      \"column\": \"NAICS / Code_SCIAN\",\n      \"properties\": {\n        \"dtype\": \"number\",\n        \"std\": 110625,\n        \"min\": 212232,\n        \"max\": 562210,\n        \"num_unique_values\": 6,\n        \"samples\": [\n          562210\n        ],\n        \"semantic_type\": \"\",\n        \"description\": \"\"\n      }\n    },\n    {\n      \"column\": \"NAICS Title / Titre Code_SCIAN\",\n      \"properties\": {\n        \"dtype\": \"string\",\n        \"num_unique_values\": 6,\n        \"samples\": [\n          \"Waste treatment and disposal\"\n        ],\n        \"semantic_type\": \"\",\n        \"description\": \"\"\n      }\n    },\n    {\n      \"column\": \"PROVINCE\",\n      \"properties\": {\n        \"dtype\": \"category\",\n        \"num_unique_values\": 4,\n        \"samples\": [\n          \"ON\"\n        ],\n        \"semantic_type\": \"\",\n        \"description\": \"\"\n      }\n    },\n    {\n      \"column\": \"CAS_Number / No_CAS\",\n      \"properties\": {\n        \"dtype\": \"string\",\n        \"num_unique_values\": 5,\n        \"samples\": [\n          \"7664-93-9\"\n        ],\n        \"semantic_type\": \"\",\n        \"description\": \"\"\n      }\n    },\n    {\n      \"column\": \"Substance Name (English) / Nom de substance (Anglais)\",\n      \"properties\": {\n        \"dtype\": \"string\",\n        \"num_unique_values\": 5,\n        \"samples\": [\n          \"Sulphuric acid\"\n        ],\n        \"semantic_type\": \"\",\n        \"description\": \"\"\n      }\n    },\n    {\n      \"column\": \"Units / Unit\\u00e9s\",\n      \"properties\": {\n        \"dtype\": \"category\",\n        \"num_unique_values\": 3,\n        \"samples\": [\n          \"grams\"\n        ],\n        \"semantic_type\": \"\",\n        \"description\": \"\"\n      }\n    },\n    {\n      \"column\": \"Estimation_Method / M\\u00e9thode_d\\u2019estimation\",\n      \"properties\": {\n        \"dtype\": \"category\",\n        \"num_unique_values\": 2,\n        \"samples\": [\n          \"M - Monitoring or Direct Measurement\"\n        ],\n        \"semantic_type\": \"\",\n        \"description\": \"\"\n      }\n    },\n    {\n      \"column\": \"Total Releases (Summed)\",\n      \"properties\": {\n        \"dtype\": \"number\",\n        \"std\": 2279.556995507731,\n        \"min\": 1650.259,\n        \"max\": 8000.0,\n        \"num_unique_values\": 9,\n        \"samples\": [\n          1847.867\n        ],\n        \"semantic_type\": \"\",\n        \"description\": \"\"\n      }\n    }\n  ]\n}"
            }
          },
          "metadata": {},
          "execution_count": 43
        }
      ]
    },
    {
      "cell_type": "markdown",
      "source": [
        "We identified industries with extreme pollution levels (Top 1% of \"Total Releases (Summed)\"), but we needed to decide whether to keep, remove, or adjust them.\n",
        "\n",
        "so we Analyze the Top Polluting Industries to confirm if These industries are naturally high-polluting."
      ],
      "metadata": {
        "id": "nGfZXf97v2XD"
      }
    },
    {
      "cell_type": "code",
      "source": [
        "# Define outlier threshold (top 1% pollution values)\n",
        "outlier_threshold = df_releases_clean[\"Total Releases (Summed)\"].quantile(0.99)\n",
        "\n",
        "# Extract outlier industries\n",
        "outliers = df_releases_clean[df_releases_clean[\"Total Releases (Summed)\"] > outlier_threshold]\n",
        "\n",
        "# Display top 10 outliers\n",
        "print(\"Top 10 Industries with Extreme Pollution Levels:\")\n",
        "print(outliers[\"NAICS Title / Titre Code_SCIAN\"].value_counts().head(10))"
      ],
      "metadata": {
        "colab": {
          "base_uri": "https://localhost:8080/"
        },
        "id": "iGLltw8uv0_D",
        "outputId": "1fd97316-0c0e-4c80-f66a-df2b9a4ea2cd"
      },
      "execution_count": 44,
      "outputs": [
        {
          "output_type": "stream",
          "name": "stdout",
          "text": [
            "Top 10 Industries with Extreme Pollution Levels:\n",
            "NAICS Title / Titre Code_SCIAN\n",
            "Primary production of alumina and aluminum                   1041\n",
            "Fossil-fuel electric power generation                        1007\n",
            "Non-ferrous metal (except aluminum) smelting and refining     493\n",
            "Conventional oil and gas extraction                           458\n",
            "Petroleum refineries                                          450\n",
            "Non-conventional oil extraction                               449\n",
            "Sewage treatment facilities                                   393\n",
            "Cement manufacturing                                          377\n",
            "Chemical pulp mills                                           358\n",
            "Iron and steel mills and ferro-alloy manufacturing            307\n",
            "Name: count, dtype: int64\n"
          ]
        }
      ]
    },
    {
      "cell_type": "markdown",
      "source": [
        "We Compared Outlier Impact on the Dataset Before deciding, we checked how much of the total pollution these industries contribute: If outliers contribute <70%, we keep them in the dataset."
      ],
      "metadata": {
        "id": "tgXoS5ITwIdZ"
      }
    },
    {
      "cell_type": "code",
      "source": [
        "# Calculate total pollution for top outliers\n",
        "total_pollution = df_releases_clean[\"Total Releases (Summed)\"].sum()\n",
        "top_10_pollution = outliers[\"Total Releases (Summed)\"].sum()\n",
        "\n",
        "# Percentage of total pollution from outliers\n",
        "percentage_contributed = (top_10_pollution / total_pollution) * 100\n",
        "print(f\"Top 10 industries contribute {percentage_contributed:.2f}% of total pollution.\")"
      ],
      "metadata": {
        "colab": {
          "base_uri": "https://localhost:8080/"
        },
        "id": "Z-4BBkUWwGyP",
        "outputId": "ad08648e-e457-4a1a-9388-4fa74101788e"
      },
      "execution_count": 45,
      "outputs": [
        {
          "output_type": "stream",
          "name": "stdout",
          "text": [
            "Top 10 industries contribute 66.95% of total pollution.\n"
          ]
        }
      ]
    },
    {
      "cell_type": "markdown",
      "source": [
        "The line chart shows the pollution levels from Sewage Treatment Facilities over time (2000-2022). Here are the key insights:\n",
        "\n",
        "Sharp Increase (2000-2003)\n",
        "\n",
        "Pollution jumped from ~20,000 to 120,000 tonnes. This suggests a major change in waste treatment capacity or reporting policies.\n",
        "\n",
        "Steady Growth (2003-2013)\n",
        "\n",
        "Pollution remained relatively stable, fluctuating between 120,000 and 140,000 tonnes. Minor dips could be due to process improvements or regulation changes.\n",
        "\n",
        "Sudden Spike in 2014 (~180,000 tonnes)\n",
        "\n",
        "This sharp increase suggests either: More facilities reporting emissions. New treatment processes leading to higher recorded pollution.\n",
        "\n",
        "Stable But High Levels (2015-2022)\n",
        "\n",
        "Pollution remains high (180,000-200,000 tonnes). Indicates increasing wastewater treatment demand."
      ],
      "metadata": {
        "id": "6tA0At4ZxL2p"
      }
    },
    {
      "cell_type": "code",
      "source": [
        "sewage_trend = df_releases_clean[df_releases_clean[\"NAICS Title / Titre Code_SCIAN\"] == \"Sewage treatment facilities\"]\n",
        "sewage_trend.groupby(\"Reporting_Year / Année\")[\"Total Releases (Summed)\"].sum().plot(figsize=(10, 5), marker=\"o\", title=\"Sewage Treatment Pollution Over Time\")\n",
        "plt.xlabel(\"Year\")\n",
        "plt.ylabel(\"Total Pollution (Tonnes)\")\n",
        "plt.show()\n"
      ],
      "metadata": {
        "colab": {
          "base_uri": "https://localhost:8080/",
          "height": 476
        },
        "id": "hK9xwFvbxPfR",
        "outputId": "c8681dbf-2307-49d3-dd3d-159eae510cb2"
      },
      "execution_count": 46,
      "outputs": [
        {
          "output_type": "display_data",
          "data": {
            "text/plain": [
              "<Figure size 1000x500 with 1 Axes>"
            ],
            "image/png": "[encoded data removed]"
          },
          "metadata": {}
        }
      ]
    },
    {
      "cell_type": "markdown",
      "source": [
        "# Feature Engineering\n",
        "\n",
        "The Goal: Create new features that help detect patterns or predict Growth"
      ],
      "metadata": {
        "id": "CJVNP2tNBuxP"
      }
    },
    {
      "cell_type": "code",
      "source": [
        "# Years since 2000\n",
        "df_releases_clean[\"Years Since 2000\"] = df_releases_clean[\"Reporting_Year / Année\"] - 2000\n"
      ],
      "metadata": {
        "id": "lstjEhJ0CBwz"
      },
      "execution_count": 47,
      "outputs": []
    },
    {
      "cell_type": "code",
      "source": [
        "# Previous Year Pollution\n",
        "df_releases_clean.sort_values([\"NAICS / Code_SCIAN\", \"Reporting_Year / Année\"], inplace=True)\n",
        "df_releases_clean[\"Prev_Year_Pollution\"] = df_releases_clean.groupby(\"NAICS / Code_SCIAN\")[\"Total Releases (Summed)\"].shift(1)"
      ],
      "metadata": {
        "id": "w1HcVW5rE1U5"
      },
      "execution_count": 48,
      "outputs": []
    },
    {
      "cell_type": "code",
      "source": [
        "# Growth Rate\n",
        "df_releases_clean[\"Growth Rate (%)\"] = df_releases_clean.groupby(\"NAICS / Code_SCIAN\")[\"Total Releases (Summed)\"].pct_change() * 100"
      ],
      "metadata": {
        "id": "CsEGjB8QE4a1"
      },
      "execution_count": 49,
      "outputs": []
    },
    {
      "cell_type": "markdown",
      "source": [
        "High Emission Industry\n",
        "Flag top 10 industries that contributed most to pollution."
      ],
      "metadata": {
        "id": "u0cTCiQlFy-Y"
      }
    },
    {
      "cell_type": "code",
      "source": [
        "# Step 1: Find top 10 emitters\n",
        "top_industries = (\n",
        "    df_releases_clean.groupby(\"NAICS Title / Titre Code_SCIAN\")[\"Total Releases (Summed)\"]\n",
        "    .sum()\n",
        "    .nlargest(10)\n",
        "    .index\n",
        ")\n",
        "\n",
        "# Step 2: Create binary flag\n",
        "df_releases_clean[\"High Emission Industry\"] = df_releases_clean[\"NAICS Title / Titre Code_SCIAN\"].isin(top_industries).astype(int)\n"
      ],
      "metadata": {
        "id": "g1R0bBVkExH3"
      },
      "execution_count": 50,
      "outputs": []
    },
    {
      "cell_type": "markdown",
      "source": [
        "Is COVID Year\n",
        "Flag rows for 2020 and 2021"
      ],
      "metadata": {
        "id": "IHx0s1IbGJXG"
      }
    },
    {
      "cell_type": "code",
      "source": [
        "df_releases_clean[\"Is_COVID_Year\"] = df_releases_clean[\"Reporting_Year / Année\"].isin([2020, 2021]).astype(int)\n"
      ],
      "metadata": {
        "id": "X4q17E1AE-Pm"
      },
      "execution_count": 51,
      "outputs": []
    },
    {
      "cell_type": "markdown",
      "source": [
        "Region (East, West, North, Central)\n",
        "\n",
        "Group provinces into broader Canadian regions\n",
        "\n"
      ],
      "metadata": {
        "id": "h2PbxyfaFhLc"
      }
    },
    {
      "cell_type": "code",
      "source": [
        "region_map = {\n",
        "    \"BC\": \"West\", \"AB\": \"West\", \"SK\": \"West\", \"MB\": \"Central\",\n",
        "    \"ON\": \"Central\", \"QC\": \"East\", \"NB\": \"East\", \"NS\": \"East\", \"PE\": \"East\", \"NL\": \"East\",\n",
        "    \"YT\": \"North\", \"NT\": \"North\", \"NU\": \"North\"\n",
        "}\n",
        "\n",
        "df_releases_clean[\"Region\"] = df_releases_clean[\"PROVINCE\"].map(region_map)\n"
      ],
      "metadata": {
        "id": "1bPROpfGFQ_S"
      },
      "execution_count": 52,
      "outputs": []
    },
    {
      "cell_type": "code",
      "source": [
        "df_releases_clean.columns"
      ],
      "metadata": {
        "colab": {
          "base_uri": "https://localhost:8080/"
        },
        "id": "tpS44IBG1784",
        "outputId": "990e6e2a-7b4a-4643-ff48-fd64a96b139a"
      },
      "execution_count": 53,
      "outputs": [
        {
          "output_type": "execute_result",
          "data": {
            "text/plain": [
              "Index(['Reporting_Year / Année',\n",
              "       'Company_Name / Dénomination_sociale_de_l'entreprise',\n",
              "       'NAICS / Code_SCIAN', 'NAICS Title / Titre Code_SCIAN', 'PROVINCE',\n",
              "       'CAS_Number / No_CAS',\n",
              "       'Substance Name (English) / Nom de substance (Anglais)',\n",
              "       'Units / Unités', 'Estimation_Method / Méthode_d’estimation',\n",
              "       'Total Releases (Summed)', 'Years Since 2000', 'Prev_Year_Pollution',\n",
              "       'Growth Rate (%)', 'High Emission Industry', 'Is_COVID_Year', 'Region'],\n",
              "      dtype='object')"
            ]
          },
          "metadata": {},
          "execution_count": 53
        }
      ]
    },
    {
      "cell_type": "markdown",
      "source": [
        "Estimation Method Type\n",
        "\n",
        "Simplify estimation methods into general categories (Direct, Estimated, Unknown)"
      ],
      "metadata": {
        "id": "gXM37S-8FeQ_"
      }
    },
    {
      "cell_type": "code",
      "source": [
        "def simplify_method(method):\n",
        "    if method.startswith(\"M\"):  # Monitoring-based\n",
        "        return \"Direct\"\n",
        "    elif method.startswith(\"E\") or method.startswith(\"O\") or method.startswith(\"C\"):\n",
        "        return \"Estimated\"\n",
        "    elif method in [\"NI - No Information Available\", \"NA - Not Applicable\"]:\n",
        "        return \"Unknown\"\n",
        "    else:\n",
        "        return \"Other\"\n",
        "\n",
        "df_releases_clean[\"Estimation_Method_Type\"] = df_releases_clean[\"Estimation_Method / Méthode_d’estimation\"].apply(simplify_method)\n"
      ],
      "metadata": {
        "id": "iCPhPsINFWyZ"
      },
      "execution_count": 54,
      "outputs": []
    },
    {
      "cell_type": "code",
      "source": [
        "#**Categorizing Industries by Pollution Levels (Low, Medium, High)**\n",
        "# Define thresholds based on quantiles\n",
        "low_threshold = df_releases_clean[\"Total Releases (Summed)\"].quantile(0.33)\n",
        "high_threshold = df_releases_clean[\"Total Releases (Summed)\"].quantile(0.66)\n",
        "\n",
        "def categorize_pollution(value):\n",
        "    if value <= low_threshold:\n",
        "        return \"Low\"\n",
        "    elif value <= high_threshold:\n",
        "        return \"Medium\"\n",
        "    else:\n",
        "        return \"High\"\n",
        "\n",
        "df_releases_clean[\"Pollution Category\"] = df_releases_clean[\"Total Releases (Summed)\"].apply(categorize_pollution)"
      ],
      "metadata": {
        "id": "ZD-lF4cbQmM_"
      },
      "execution_count": 55,
      "outputs": []
    },
    {
      "cell_type": "code",
      "source": [
        "df_releases_clean = df_releases_clean.sort_values([\"NAICS Title / Titre Code_SCIAN\", \"Reporting_Year / Année\"])"
      ],
      "metadata": {
        "id": "Z40LLBig2OAs"
      },
      "execution_count": 56,
      "outputs": []
    },
    {
      "cell_type": "code",
      "source": [
        "# Lag pollution category\n",
        "df_releases_clean[\"Prev_Year_Category\"] = df_releases_clean.groupby(\"NAICS Title / Titre Code_SCIAN\")[\"Pollution Category\"].shift(1)"
      ],
      "metadata": {
        "id": "NhgsTrED2XoM"
      },
      "execution_count": 57,
      "outputs": []
    },
    {
      "cell_type": "code",
      "source": [
        "# Lag growth rate\n",
        "df_releases_clean[\"Prev_Year_Growth\"] = df_releases_clean.groupby(\"NAICS Title / Titre Code_SCIAN\")[\"Growth Rate (%)\"].shift(1)"
      ],
      "metadata": {
        "id": "mLxVj54n23Ak"
      },
      "execution_count": 58,
      "outputs": []
    },
    {
      "cell_type": "code",
      "source": [
        "df_releases_clean.columns"
      ],
      "metadata": {
        "colab": {
          "base_uri": "https://localhost:8080/"
        },
        "id": "C9tY2obeGbp_",
        "outputId": "f1bcd942-bcba-4b8f-f663-c78fc97722f7"
      },
      "execution_count": 59,
      "outputs": [
        {
          "output_type": "execute_result",
          "data": {
            "text/plain": [
              "Index(['Reporting_Year / Année',\n",
              "       'Company_Name / Dénomination_sociale_de_l'entreprise',\n",
              "       'NAICS / Code_SCIAN', 'NAICS Title / Titre Code_SCIAN', 'PROVINCE',\n",
              "       'CAS_Number / No_CAS',\n",
              "       'Substance Name (English) / Nom de substance (Anglais)',\n",
              "       'Units / Unités', 'Estimation_Method / Méthode_d’estimation',\n",
              "       'Total Releases (Summed)', 'Years Since 2000', 'Prev_Year_Pollution',\n",
              "       'Growth Rate (%)', 'High Emission Industry', 'Is_COVID_Year', 'Region',\n",
              "       'Estimation_Method_Type', 'Pollution Category', 'Prev_Year_Category',\n",
              "       'Prev_Year_Growth'],\n",
              "      dtype='object')"
            ]
          },
          "metadata": {},
          "execution_count": 59
        }
      ]
    },
    {
      "cell_type": "code",
      "source": [
        "df_releases_clean.shape"
      ],
      "metadata": {
        "colab": {
          "base_uri": "https://localhost:8080/"
        },
        "id": "8DmvtyGcJ-7n",
        "outputId": "3df91f5e-e514-41cc-b012-f23515270568"
      },
      "execution_count": 60,
      "outputs": [
        {
          "output_type": "execute_result",
          "data": {
            "text/plain": [
              "(808896, 20)"
            ]
          },
          "metadata": {},
          "execution_count": 60
        }
      ]
    },
    {
      "cell_type": "markdown",
      "source": [
        "Droping some unncessary collumns after feature engineering"
      ],
      "metadata": {
        "id": "_GfnrBFZwKi2"
      }
    },
    {
      "cell_type": "code",
      "source": [
        "drop_columns = ['Company_Name / Dénomination_sociale_de_l\\'entreprise',\n",
        "       'Substance Name (English) / Nom de substance (Anglais)',\n",
        "       'CAS_Number / No_CAS', 'NAICS / Code_SCIAN','Units / Unités']\n",
        "\n",
        "df_releases_clean.drop(columns=drop_columns, inplace=True)"
      ],
      "metadata": {
        "id": "B7wFkciCu9Vj"
      },
      "execution_count": 61,
      "outputs": []
    },
    {
      "cell_type": "code",
      "source": [
        "df_releases_clean.isnull().sum()"
      ],
      "metadata": {
        "colab": {
          "base_uri": "https://localhost:8080/",
          "height": 554
        },
        "id": "sPLaykK5Kz5Q",
        "outputId": "693bb122-6267-4bf2-9bb3-00ae94a36a3f",
        "collapsed": true
      },
      "execution_count": 62,
      "outputs": [
        {
          "output_type": "execute_result",
          "data": {
            "text/plain": [
              "Reporting_Year / Année                          0\n",
              "NAICS Title / Titre Code_SCIAN                  0\n",
              "PROVINCE                                        0\n",
              "Estimation_Method / Méthode_d’estimation        0\n",
              "Total Releases (Summed)                         0\n",
              "Years Since 2000                                0\n",
              "Prev_Year_Pollution                           408\n",
              "Growth Rate (%)                             83256\n",
              "High Emission Industry                          0\n",
              "Is_COVID_Year                                   0\n",
              "Region                                          0\n",
              "Estimation_Method_Type                          0\n",
              "Pollution Category                              0\n",
              "Prev_Year_Category                            475\n",
              "Prev_Year_Growth                            83637\n",
              "dtype: int64"
            ],
            "text/html": [
              "<div>\n",
              "<style scoped>\n",
              "    .dataframe tbody tr th:only-of-type {\n",
              "        vertical-align: middle;\n",
              "    }\n",
              "\n",
              "    .dataframe tbody tr th {\n",
              "        vertical-align: top;\n",
              "    }\n",
              "\n",
              "    .dataframe thead th {\n",
              "        text-align: right;\n",
              "    }\n",
              "</style>\n",
              "<table border=\"1\" class=\"dataframe\">\n",
              "  <thead>\n",
              "    <tr style=\"text-align: right;\">\n",
              "      <th></th>\n",
              "      <th>0</th>\n",
              "    </tr>\n",
              "  </thead>\n",
              "  <tbody>\n",
              "    <tr>\n",
              "      <th>Reporting_Year / Année</th>\n",
              "      <td>0</td>\n",
              "    </tr>\n",
              "    <tr>\n",
              "      <th>NAICS Title / Titre Code_SCIAN</th>\n",
              "      <td>0</td>\n",
              "    </tr>\n",
              "    <tr>\n",
              "      <th>PROVINCE</th>\n",
              "      <td>0</td>\n",
              "    </tr>\n",
              "    <tr>\n",
              "      <th>Estimation_Method / Méthode_d’estimation</th>\n",
              "      <td>0</td>\n",
              "    </tr>\n",
              "    <tr>\n",
              "      <th>Total Releases (Summed)</th>\n",
              "      <td>0</td>\n",
              "    </tr>\n",
              "    <tr>\n",
              "      <th>Years Since 2000</th>\n",
              "      <td>0</td>\n",
              "    </tr>\n",
              "    <tr>\n",
              "      <th>Prev_Year_Pollution</th>\n",
              "      <td>408</td>\n",
              "    </tr>\n",
              "    <tr>\n",
              "      <th>Growth Rate (%)</th>\n",
              "      <td>83256</td>\n",
              "    </tr>\n",
              "    <tr>\n",
              "      <th>High Emission Industry</th>\n",
              "      <td>0</td>\n",
              "    </tr>\n",
              "    <tr>\n",
              "      <th>Is_COVID_Year</th>\n",
              "      <td>0</td>\n",
              "    </tr>\n",
              "    <tr>\n",
              "      <th>Region</th>\n",
              "      <td>0</td>\n",
              "    </tr>\n",
              "    <tr>\n",
              "      <th>Estimation_Method_Type</th>\n",
              "      <td>0</td>\n",
              "    </tr>\n",
              "    <tr>\n",
              "      <th>Pollution Category</th>\n",
              "      <td>0</td>\n",
              "    </tr>\n",
              "    <tr>\n",
              "      <th>Prev_Year_Category</th>\n",
              "      <td>475</td>\n",
              "    </tr>\n",
              "    <tr>\n",
              "      <th>Prev_Year_Growth</th>\n",
              "      <td>83637</td>\n",
              "    </tr>\n",
              "  </tbody>\n",
              "</table>\n",
              "</div><br><label><b>dtype:</b> int64</label>"
            ]
          },
          "metadata": {},
          "execution_count": 62
        }
      ]
    },
    {
      "cell_type": "markdown",
      "source": [
        "Strategy to Handle Missing Values after feature encoding\n",
        "\n",
        "for Prev_Year_Pollution , Growth Rate (%), Prev_Year_Category and Prev_Year_Growth\n",
        "\n",
        "We Use industry-specific median – because pollution levels vary a lot by industry.\n",
        "\n",
        "Growth Rate (%)\n",
        "Same logic applies — We fill using industry-specific median growth rate.\n"
      ],
      "metadata": {
        "id": "U31YDX_3Lbys"
      }
    },
    {
      "cell_type": "code",
      "source": [
        "df_releases_clean[\"Prev_Year_Pollution\"] = df_releases_clean.groupby(\"NAICS Title / Titre Code_SCIAN\")[\"Prev_Year_Pollution\"].transform(lambda x: x.fillna(x.median()))\n",
        "\n",
        "# Fill remaining with 0 (e.g., if median couldn't be computed)\n",
        "df_releases_clean[\"Prev_Year_Pollution\"] = df_releases_clean[\"Prev_Year_Pollution\"].fillna(0)\n"
      ],
      "metadata": {
        "id": "4Xe0wrceLj64"
      },
      "execution_count": 63,
      "outputs": []
    },
    {
      "cell_type": "code",
      "source": [
        "df_releases_clean['Prev_Year_Pollution'].isnull().sum()"
      ],
      "metadata": {
        "colab": {
          "base_uri": "https://localhost:8080/"
        },
        "id": "otpVM5BJMYkV",
        "outputId": "c9941442-4dd2-4cac-fa47-e585db7ba031"
      },
      "execution_count": 64,
      "outputs": [
        {
          "output_type": "execute_result",
          "data": {
            "text/plain": [
              "np.int64(0)"
            ]
          },
          "metadata": {},
          "execution_count": 64
        }
      ]
    },
    {
      "cell_type": "code",
      "source": [
        "df_releases_clean[\"Growth Rate (%)\"] = df_releases_clean.groupby(\"NAICS Title / Titre Code_SCIAN\")[\"Growth Rate (%)\"].transform(lambda x: x.fillna(x.median()))\n",
        "\n",
        "df_releases_clean[\"Growth Rate (%)\"] = df_releases_clean[\"Growth Rate (%)\"].fillna(0)\n"
      ],
      "metadata": {
        "id": "xK3DWzpbM2C9"
      },
      "execution_count": 65,
      "outputs": []
    },
    {
      "cell_type": "code",
      "source": [
        "df_releases_clean['Growth Rate (%)' ].isnull().sum()"
      ],
      "metadata": {
        "colab": {
          "base_uri": "https://localhost:8080/"
        },
        "id": "YOHG5Qr0M-uD",
        "outputId": "5c8bc44e-bfc2-40b9-be09-9664a8c32ac2"
      },
      "execution_count": 66,
      "outputs": [
        {
          "output_type": "execute_result",
          "data": {
            "text/plain": [
              "np.int64(0)"
            ]
          },
          "metadata": {},
          "execution_count": 66
        }
      ]
    },
    {
      "cell_type": "markdown",
      "source": [
        "Prev_Year_Category and Prev_Year_Growth are lag features, so the first year of each industry has no previous data, resulting in NaN.\n",
        "\n",
        "This is normal and expected.\n",
        "\n",
        "Fill with Industry-Specific Median\n",
        "This keeps the filling meaningful within each industry segment."
      ],
      "metadata": {
        "id": "_ULrLJ5O4lLP"
      }
    },
    {
      "cell_type": "code",
      "source": [
        "# First, map pollution categories to numbers\n",
        "category_map = {\"Low\": 1, \"Medium\": 2, \"High\": 3}\n",
        "df_releases_clean[\"Prev_Year_Category\"] = df_releases_clean[\"Prev_Year_Category\"].map(category_map)"
      ],
      "metadata": {
        "id": "0cgkLJCA5s2h"
      },
      "execution_count": 67,
      "outputs": []
    },
    {
      "cell_type": "code",
      "source": [
        "# Fill by industry median\n",
        "df_releases_clean[\"Prev_Year_Category\"] = df_releases_clean.groupby(\"NAICS Title / Titre Code_SCIAN\")[\"Prev_Year_Category\"].transform(lambda x: x.fillna(x.median()))\n",
        "df_releases_clean[\"Prev_Year_Growth\"] = df_releases_clean.groupby(\"NAICS Title / Titre Code_SCIAN\")[\"Prev_Year_Growth\"].transform(lambda x: x.fillna(x.median()))\n"
      ],
      "metadata": {
        "id": "I9Rt_k9_30nk"
      },
      "execution_count": 68,
      "outputs": []
    },
    {
      "cell_type": "code",
      "source": [
        "df_releases_clean[\"Prev_Year_Category\"] = df_releases_clean[\"Prev_Year_Category\"].fillna(0)\n",
        "df_releases_clean[\"Prev_Year_Growth\"] = df_releases_clean[\"Prev_Year_Growth\"].fillna(0)\n"
      ],
      "metadata": {
        "id": "jboexsk_4cf2"
      },
      "execution_count": 69,
      "outputs": []
    },
    {
      "cell_type": "code",
      "source": [
        "df_releases_clean.isnull().sum()"
      ],
      "metadata": {
        "colab": {
          "base_uri": "https://localhost:8080/",
          "height": 554
        },
        "id": "76Oi5sPbNFPI",
        "outputId": "d4fed577-431e-4db8-b181-fa732b227508"
      },
      "execution_count": 70,
      "outputs": [
        {
          "output_type": "execute_result",
          "data": {
            "text/plain": [
              "Reporting_Year / Année                      0\n",
              "NAICS Title / Titre Code_SCIAN              0\n",
              "PROVINCE                                    0\n",
              "Estimation_Method / Méthode_d’estimation    0\n",
              "Total Releases (Summed)                     0\n",
              "Years Since 2000                            0\n",
              "Prev_Year_Pollution                         0\n",
              "Growth Rate (%)                             0\n",
              "High Emission Industry                      0\n",
              "Is_COVID_Year                               0\n",
              "Region                                      0\n",
              "Estimation_Method_Type                      0\n",
              "Pollution Category                          0\n",
              "Prev_Year_Category                          0\n",
              "Prev_Year_Growth                            0\n",
              "dtype: int64"
            ],
            "text/html": [
              "<div>\n",
              "<style scoped>\n",
              "    .dataframe tbody tr th:only-of-type {\n",
              "        vertical-align: middle;\n",
              "    }\n",
              "\n",
              "    .dataframe tbody tr th {\n",
              "        vertical-align: top;\n",
              "    }\n",
              "\n",
              "    .dataframe thead th {\n",
              "        text-align: right;\n",
              "    }\n",
              "</style>\n",
              "<table border=\"1\" class=\"dataframe\">\n",
              "  <thead>\n",
              "    <tr style=\"text-align: right;\">\n",
              "      <th></th>\n",
              "      <th>0</th>\n",
              "    </tr>\n",
              "  </thead>\n",
              "  <tbody>\n",
              "    <tr>\n",
              "      <th>Reporting_Year / Année</th>\n",
              "      <td>0</td>\n",
              "    </tr>\n",
              "    <tr>\n",
              "      <th>NAICS Title / Titre Code_SCIAN</th>\n",
              "      <td>0</td>\n",
              "    </tr>\n",
              "    <tr>\n",
              "      <th>PROVINCE</th>\n",
              "      <td>0</td>\n",
              "    </tr>\n",
              "    <tr>\n",
              "      <th>Estimation_Method / Méthode_d’estimation</th>\n",
              "      <td>0</td>\n",
              "    </tr>\n",
              "    <tr>\n",
              "      <th>Total Releases (Summed)</th>\n",
              "      <td>0</td>\n",
              "    </tr>\n",
              "    <tr>\n",
              "      <th>Years Since 2000</th>\n",
              "      <td>0</td>\n",
              "    </tr>\n",
              "    <tr>\n",
              "      <th>Prev_Year_Pollution</th>\n",
              "      <td>0</td>\n",
              "    </tr>\n",
              "    <tr>\n",
              "      <th>Growth Rate (%)</th>\n",
              "      <td>0</td>\n",
              "    </tr>\n",
              "    <tr>\n",
              "      <th>High Emission Industry</th>\n",
              "      <td>0</td>\n",
              "    </tr>\n",
              "    <tr>\n",
              "      <th>Is_COVID_Year</th>\n",
              "      <td>0</td>\n",
              "    </tr>\n",
              "    <tr>\n",
              "      <th>Region</th>\n",
              "      <td>0</td>\n",
              "    </tr>\n",
              "    <tr>\n",
              "      <th>Estimation_Method_Type</th>\n",
              "      <td>0</td>\n",
              "    </tr>\n",
              "    <tr>\n",
              "      <th>Pollution Category</th>\n",
              "      <td>0</td>\n",
              "    </tr>\n",
              "    <tr>\n",
              "      <th>Prev_Year_Category</th>\n",
              "      <td>0</td>\n",
              "    </tr>\n",
              "    <tr>\n",
              "      <th>Prev_Year_Growth</th>\n",
              "      <td>0</td>\n",
              "    </tr>\n",
              "  </tbody>\n",
              "</table>\n",
              "</div><br><label><b>dtype:</b> int64</label>"
            ]
          },
          "metadata": {},
          "execution_count": 70
        }
      ]
    },
    {
      "cell_type": "code",
      "source": [
        "#categorical collumns\n",
        "categorical_columns = df_releases_clean.select_dtypes(include=['object']).columns\n",
        "print(categorical_columns)"
      ],
      "metadata": {
        "colab": {
          "base_uri": "https://localhost:8080/"
        },
        "id": "n-GKotNB7SA-",
        "outputId": "4e802e3c-7a4f-4151-b9d1-4bdd4e3a8495"
      },
      "execution_count": 71,
      "outputs": [
        {
          "output_type": "stream",
          "name": "stdout",
          "text": [
            "Index(['NAICS Title / Titre Code_SCIAN', 'PROVINCE',\n",
            "       'Estimation_Method / Méthode_d’estimation', 'Region',\n",
            "       'Estimation_Method_Type', 'Pollution Category'],\n",
            "      dtype='object')\n"
          ]
        }
      ]
    },
    {
      "cell_type": "code",
      "source": [
        "#numerical collumns\n",
        "numerical_columns = df_releases_clean.select_dtypes(include=['int64', 'float64']).columns\n",
        "print(numerical_columns)"
      ],
      "metadata": {
        "colab": {
          "base_uri": "https://localhost:8080/"
        },
        "id": "wpkZEFHp7lcF",
        "outputId": "b97edc77-81ef-4859-e9d8-c0bfe043fd0f"
      },
      "execution_count": 72,
      "outputs": [
        {
          "output_type": "stream",
          "name": "stdout",
          "text": [
            "Index(['Reporting_Year / Année', 'Total Releases (Summed)', 'Years Since 2000',\n",
            "       'Prev_Year_Pollution', 'Growth Rate (%)', 'High Emission Industry',\n",
            "       'Is_COVID_Year', 'Prev_Year_Category', 'Prev_Year_Growth'],\n",
            "      dtype='object')\n"
          ]
        }
      ]
    },
    {
      "cell_type": "markdown",
      "source": [
        "# Feature Encoding"
      ],
      "metadata": {
        "id": "ylr--cerNx9N"
      }
    },
    {
      "cell_type": "code",
      "source": [
        "df_encoded = df_releases_clean.copy()"
      ],
      "metadata": {
        "id": "v8LMD6M6P_l3"
      },
      "execution_count": 73,
      "outputs": []
    },
    {
      "cell_type": "markdown",
      "source": [
        "Label Encode Categorical Features"
      ],
      "metadata": {
        "id": "-6fz6T1V2cy-"
      }
    },
    {
      "cell_type": "code",
      "source": [
        "from sklearn.preprocessing import LabelEncoder\n",
        "\n",
        "label_cols = [\n",
        "    \"Region\",\n",
        "    \"NAICS Title / Titre Code_SCIAN\",\n",
        "    \"Estimation_Method_Type\",\n",
        "    \"Estimation_Method / Méthode_d’estimation\",\n",
        "    \"PROVINCE\"\n",
        "]\n",
        "\n",
        "le = LabelEncoder()\n",
        "for col in label_cols:\n",
        "    df_encoded[col] = le.fit_transform(df_encoded[col])\n"
      ],
      "metadata": {
        "id": "PJ4zo9YmRxPz"
      },
      "execution_count": 74,
      "outputs": []
    },
    {
      "cell_type": "markdown",
      "source": [
        "\n",
        "Since classification involves predicting Pollution Category (e.g., Low, Medium, High), we will also convert that\n"
      ],
      "metadata": {
        "id": "Gxo_lTwdOEvE"
      }
    },
    {
      "cell_type": "code",
      "source": [
        "df_encoded[\"Pollution Category\"] = df_encoded[\"Pollution Category\"].map({\"Low\": 1, \"Medium\": 2, \"High\": 3})\n"
      ],
      "metadata": {
        "id": "XlR42o4XOVbA"
      },
      "execution_count": 75,
      "outputs": []
    },
    {
      "cell_type": "code",
      "source": [
        "df_encoded.head()"
      ],
      "metadata": {
        "colab": {
          "base_uri": "https://localhost:8080/",
          "height": 278
        },
        "id": "a9MVlgJ1NbOs",
        "outputId": "e8e02394-8e9f-4a9b-fee4-42a09cffdf3b"
      },
      "execution_count": 76,
      "outputs": [
        {
          "output_type": "execute_result",
          "data": {
            "text/plain": [
              "      Reporting_Year / Année  NAICS Title / Titre Code_SCIAN  PROVINCE  \\\n",
              "5211                    2000                               0         8   \n",
              "5212                    2000                               0         8   \n",
              "5213                    2000                               0         8   \n",
              "6263                    2000                               0         8   \n",
              "6264                    2000                               0         8   \n",
              "\n",
              "      Estimation_Method / Méthode_d’estimation  Total Releases (Summed)  \\\n",
              "5211                                         5                    0.039   \n",
              "5212                                        11                    0.125   \n",
              "5213                                        11                    0.028   \n",
              "6263                                         1                   10.100   \n",
              "6264                                         2                    0.532   \n",
              "\n",
              "      Years Since 2000  Prev_Year_Pollution  Growth Rate (%)  \\\n",
              "5211                 0                0.176       -38.986503   \n",
              "5212                 0                0.039       220.512821   \n",
              "5213                 0                0.125       -77.600000   \n",
              "6263                 0                0.028     35971.428571   \n",
              "6264                 0               10.100       -94.732673   \n",
              "\n",
              "      High Emission Industry  Is_COVID_Year  Region  Estimation_Method_Type  \\\n",
              "5211                       0              0       0                       0   \n",
              "5212                       0              0       0                       1   \n",
              "5213                       0              0       0                       1   \n",
              "6263                       0              0       0                       1   \n",
              "6264                       0              0       0                       1   \n",
              "\n",
              "      Pollution Category  Prev_Year_Category  Prev_Year_Growth  \n",
              "5211                   1                 1.0        -38.910506  \n",
              "5212                   1                 1.0        -38.910506  \n",
              "5213                   1                 1.0        220.512821  \n",
              "6263                   2                 1.0        -77.600000  \n",
              "6264                   2                 2.0      35971.428571  "
            ],
            "text/html": [
              "\n",
              "  <div id=\"df-4589f61a-01e1-40c8-80a7-defa14f2b496\" class=\"colab-df-container\">\n",
              "    <div>\n",
              "<style scoped>\n",
              "    .dataframe tbody tr th:only-of-type {\n",
              "        vertical-align: middle;\n",
              "    }\n",
              "\n",
              "    .dataframe tbody tr th {\n",
              "        vertical-align: top;\n",
              "    }\n",
              "\n",
              "    .dataframe thead th {\n",
              "        text-align: right;\n",
              "    }\n",
              "</style>\n",
              "<table border=\"1\" class=\"dataframe\">\n",
              "  <thead>\n",
              "    <tr style=\"text-align: right;\">\n",
              "      <th></th>\n",
              "      <th>Reporting_Year / Année</th>\n",
              "      <th>NAICS Title / Titre Code_SCIAN</th>\n",
              "      <th>PROVINCE</th>\n",
              "      <th>Estimation_Method / Méthode_d’estimation</th>\n",
              "      <th>Total Releases (Summed)</th>\n",
              "      <th>Years Since 2000</th>\n",
              "      <th>Prev_Year_Pollution</th>\n",
              "      <th>Growth Rate (%)</th>\n",
              "      <th>High Emission Industry</th>\n",
              "      <th>Is_COVID_Year</th>\n",
              "      <th>Region</th>\n",
              "      <th>Estimation_Method_Type</th>\n",
              "      <th>Pollution Category</th>\n",
              "      <th>Prev_Year_Category</th>\n",
              "      <th>Prev_Year_Growth</th>\n",
              "    </tr>\n",
              "  </thead>\n",
              "  <tbody>\n",
              "    <tr>\n",
              "      <th>5211</th>\n",
              "      <td>2000</td>\n",
              "      <td>0</td>\n",
              "      <td>8</td>\n",
              "      <td>5</td>\n",
              "      <td>0.039</td>\n",
              "      <td>0</td>\n",
              "      <td>0.176</td>\n",
              "      <td>-38.986503</td>\n",
              "      <td>0</td>\n",
              "      <td>0</td>\n",
              "      <td>0</td>\n",
              "      <td>0</td>\n",
              "      <td>1</td>\n",
              "      <td>1.0</td>\n",
              "      <td>-38.910506</td>\n",
              "    </tr>\n",
              "    <tr>\n",
              "      <th>5212</th>\n",
              "      <td>2000</td>\n",
              "      <td>0</td>\n",
              "      <td>8</td>\n",
              "      <td>11</td>\n",
              "      <td>0.125</td>\n",
              "      <td>0</td>\n",
              "      <td>0.039</td>\n",
              "      <td>220.512821</td>\n",
              "      <td>0</td>\n",
              "      <td>0</td>\n",
              "      <td>0</td>\n",
              "      <td>1</td>\n",
              "      <td>1</td>\n",
              "      <td>1.0</td>\n",
              "      <td>-38.910506</td>\n",
              "    </tr>\n",
              "    <tr>\n",
              "      <th>5213</th>\n",
              "      <td>2000</td>\n",
              "      <td>0</td>\n",
              "      <td>8</td>\n",
              "      <td>11</td>\n",
              "      <td>0.028</td>\n",
              "      <td>0</td>\n",
              "      <td>0.125</td>\n",
              "      <td>-77.600000</td>\n",
              "      <td>0</td>\n",
              "      <td>0</td>\n",
              "      <td>0</td>\n",
              "      <td>1</td>\n",
              "      <td>1</td>\n",
              "      <td>1.0</td>\n",
              "      <td>220.512821</td>\n",
              "    </tr>\n",
              "    <tr>\n",
              "      <th>6263</th>\n",
              "      <td>2000</td>\n",
              "      <td>0</td>\n",
              "      <td>8</td>\n",
              "      <td>1</td>\n",
              "      <td>10.100</td>\n",
              "      <td>0</td>\n",
              "      <td>0.028</td>\n",
              "      <td>35971.428571</td>\n",
              "      <td>0</td>\n",
              "      <td>0</td>\n",
              "      <td>0</td>\n",
              "      <td>1</td>\n",
              "      <td>2</td>\n",
              "      <td>1.0</td>\n",
              "      <td>-77.600000</td>\n",
              "    </tr>\n",
              "    <tr>\n",
              "      <th>6264</th>\n",
              "      <td>2000</td>\n",
              "      <td>0</td>\n",
              "      <td>8</td>\n",
              "      <td>2</td>\n",
              "      <td>0.532</td>\n",
              "      <td>0</td>\n",
              "      <td>10.100</td>\n",
              "      <td>-94.732673</td>\n",
              "      <td>0</td>\n",
              "      <td>0</td>\n",
              "      <td>0</td>\n",
              "      <td>1</td>\n",
              "      <td>2</td>\n",
              "      <td>2.0</td>\n",
              "      <td>35971.428571</td>\n",
              "    </tr>\n",
              "  </tbody>\n",
              "</table>\n",
              "</div>\n",
              "    <div class=\"colab-df-buttons\">\n",
              "\n",
              "  <div class=\"colab-df-container\">\n",
              "    <button class=\"colab-df-convert\" onclick=\"convertToInteractive('df-4589f61a-01e1-40c8-80a7-defa14f2b496')\"\n",
              "            title=\"Convert this dataframe to an interactive table.\"\n",
              "            style=\"display:none;\">\n",
              "\n",
              "  <svg xmlns=\"http://www.w3.org/2000/svg\" height=\"24px\" viewBox=\"0 -960 960 960\">\n",
              "    <path d=\"M120-120v-720h720v720H120Zm60-500h600v-160H180v160Zm220 220h160v-160H400v160Zm0 220h160v-160H400v160ZM180-400h160v-160H180v160Zm440 0h160v-160H620v160ZM180-180h160v-160H180v160Zm440 0h160v-160H620v160Z\"/>\n",
              "  </svg>\n",
              "    </button>\n",
              "\n",
              "  <style>\n",
              "    .colab-df-container {\n",
              "      display:flex;\n",
              "      gap: 12px;\n",
              "    }\n",
              "\n",
              "    .colab-df-convert {\n",
              "      background-color: #E8F0FE;\n",
              "      border: none;\n",
              "      border-radius: 50%;\n",
              "      cursor: pointer;\n",
              "      display: none;\n",
              "      fill: #1967D2;\n",
              "      height: 32px;\n",
              "      padding: 0 0 0 0;\n",
              "      width: 32px;\n",
              "    }\n",
              "\n",
              "    .colab-df-convert:hover {\n",
              "      background-color: #E2EBFA;\n",
              "      box-shadow: 0px 1px 2px rgba(60, 64, 67, 0.3), 0px 1px 3px 1px rgba(60, 64, 67, 0.15);\n",
              "      fill: #174EA6;\n",
              "    }\n",
              "\n",
              "    .colab-df-buttons div {\n",
              "      margin-bottom: 4px;\n",
              "    }\n",
              "\n",
              "    [theme=dark] .colab-df-convert {\n",
              "      background-color: #3B4455;\n",
              "      fill: #D2E3FC;\n",
              "    }\n",
              "\n",
              "    [theme=dark] .colab-df-convert:hover {\n",
              "      background-color: #434B5C;\n",
              "      box-shadow: 0px 1px 3px 1px rgba(0, 0, 0, 0.15);\n",
              "      filter: drop-shadow(0px 1px 2px rgba(0, 0, 0, 0.3));\n",
              "      fill: #FFFFFF;\n",
              "    }\n",
              "  </style>\n",
              "\n",
              "    <script>\n",
              "      const buttonEl =\n",
              "        document.querySelector('#df-4589f61a-01e1-40c8-80a7-defa14f2b496 button.colab-df-convert');\n",
              "      buttonEl.style.display =\n",
              "        google.colab.kernel.accessAllowed ? 'block' : 'none';\n",
              "\n",
              "      async function convertToInteractive(key) {\n",
              "        const element = document.querySelector('#df-4589f61a-01e1-40c8-80a7-defa14f2b496');\n",
              "        const dataTable =\n",
              "          await google.colab.kernel.invokeFunction('convertToInteractive',\n",
              "                                                    [key], {});\n",
              "        if (!dataTable) return;\n",
              "\n",
              "        const docLinkHtml = 'Like what you see? Visit the ' +\n",
              "          '<a target=\"_blank\" href=https://colab.research.google.com/notebooks/data_table.ipynb>data table notebook</a>'\n",
              "          + ' to learn more about interactive tables.';\n",
              "        element.innerHTML = '';\n",
              "        dataTable['output_type'] = 'display_data';\n",
              "        await google.colab.output.renderOutput(dataTable, element);\n",
              "        const docLink = document.createElement('div');\n",
              "        docLink.innerHTML = docLinkHtml;\n",
              "        element.appendChild(docLink);\n",
              "      }\n",
              "    </script>\n",
              "  </div>\n",
              "\n",
              "\n",
              "<div id=\"df-8d99b7ba-3086-4463-9ed6-a741aee422f6\">\n",
              "  <button class=\"colab-df-quickchart\" onclick=\"quickchart('df-8d99b7ba-3086-4463-9ed6-a741aee422f6')\"\n",
              "            title=\"Suggest charts\"\n",
              "            style=\"display:none;\">\n",
              "\n",
              "<svg xmlns=\"http://www.w3.org/2000/svg\" height=\"24px\"viewBox=\"0 0 24 24\"\n",
              "     width=\"24px\">\n",
              "    <g>\n",
              "        <path d=\"M19 3H5c-1.1 0-2 .9-2 2v14c0 1.1.9 2 2 2h14c1.1 0 2-.9 2-2V5c0-1.1-.9-2-2-2zM9 17H7v-7h2v7zm4 0h-2V7h2v10zm4 0h-2v-4h2v4z\"/>\n",
              "    </g>\n",
              "</svg>\n",
              "  </button>\n",
              "\n",
              "<style>\n",
              "  .colab-df-quickchart {\n",
              "      --bg-color: #E8F0FE;\n",
              "      --fill-color: #1967D2;\n",
              "      --hover-bg-color: #E2EBFA;\n",
              "      --hover-fill-color: #174EA6;\n",
              "      --disabled-fill-color: #AAA;\n",
              "      --disabled-bg-color: #DDD;\n",
              "  }\n",
              "\n",
              "  [theme=dark] .colab-df-quickchart {\n",
              "      --bg-color: #3B4455;\n",
              "      --fill-color: #D2E3FC;\n",
              "      --hover-bg-color: #434B5C;\n",
              "      --hover-fill-color: #FFFFFF;\n",
              "      --disabled-bg-color: #3B4455;\n",
              "      --disabled-fill-color: #666;\n",
              "  }\n",
              "\n",
              "  .colab-df-quickchart {\n",
              "    background-color: var(--bg-color);\n",
              "    border: none;\n",
              "    border-radius: 50%;\n",
              "    cursor: pointer;\n",
              "    display: none;\n",
              "    fill: var(--fill-color);\n",
              "    height: 32px;\n",
              "    padding: 0;\n",
              "    width: 32px;\n",
              "  }\n",
              "\n",
              "  .colab-df-quickchart:hover {\n",
              "    background-color: var(--hover-bg-color);\n",
              "    box-shadow: 0 1px 2px rgba(60, 64, 67, 0.3), 0 1px 3px 1px rgba(60, 64, 67, 0.15);\n",
              "    fill: var(--button-hover-fill-color);\n",
              "  }\n",
              "\n",
              "  .colab-df-quickchart-complete:disabled,\n",
              "  .colab-df-quickchart-complete:disabled:hover {\n",
              "    background-color: var(--disabled-bg-color);\n",
              "    fill: var(--disabled-fill-color);\n",
              "    box-shadow: none;\n",
              "  }\n",
              "\n",
              "  .colab-df-spinner {\n",
              "    border: 2px solid var(--fill-color);\n",
              "    border-color: transparent;\n",
              "    border-bottom-color: var(--fill-color);\n",
              "    animation:\n",
              "      spin 1s steps(1) infinite;\n",
              "  }\n",
              "\n",
              "  @keyframes spin {\n",
              "    0% {\n",
              "      border-color: transparent;\n",
              "      border-bottom-color: var(--fill-color);\n",
              "      border-left-color: var(--fill-color);\n",
              "    }\n",
              "    20% {\n",
              "      border-color: transparent;\n",
              "      border-left-color: var(--fill-color);\n",
              "      border-top-color: var(--fill-color);\n",
              "    }\n",
              "    30% {\n",
              "      border-color: transparent;\n",
              "      border-left-color: var(--fill-color);\n",
              "      border-top-color: var(--fill-color);\n",
              "      border-right-color: var(--fill-color);\n",
              "    }\n",
              "    40% {\n",
              "      border-color: transparent;\n",
              "      border-right-color: var(--fill-color);\n",
              "      border-top-color: var(--fill-color);\n",
              "    }\n",
              "    60% {\n",
              "      border-color: transparent;\n",
              "      border-right-color: var(--fill-color);\n",
              "    }\n",
              "    80% {\n",
              "      border-color: transparent;\n",
              "      border-right-color: var(--fill-color);\n",
              "      border-bottom-color: var(--fill-color);\n",
              "    }\n",
              "    90% {\n",
              "      border-color: transparent;\n",
              "      border-bottom-color: var(--fill-color);\n",
              "    }\n",
              "  }\n",
              "</style>\n",
              "\n",
              "  <script>\n",
              "    async function quickchart(key) {\n",
              "      const quickchartButtonEl =\n",
              "        document.querySelector('#' + key + ' button');\n",
              "      quickchartButtonEl.disabled = true;  // To prevent multiple clicks.\n",
              "      quickchartButtonEl.classList.add('colab-df-spinner');\n",
              "      try {\n",
              "        const charts = await google.colab.kernel.invokeFunction(\n",
              "            'suggestCharts', [key], {});\n",
              "      } catch (error) {\n",
              "        console.error('Error during call to suggestCharts:', error);\n",
              "      }\n",
              "      quickchartButtonEl.classList.remove('colab-df-spinner');\n",
              "      quickchartButtonEl.classList.add('colab-df-quickchart-complete');\n",
              "    }\n",
              "    (() => {\n",
              "      let quickchartButtonEl =\n",
              "        document.querySelector('#df-8d99b7ba-3086-4463-9ed6-a741aee422f6 button');\n",
              "      quickchartButtonEl.style.display =\n",
              "        google.colab.kernel.accessAllowed ? 'block' : 'none';\n",
              "    })();\n",
              "  </script>\n",
              "</div>\n",
              "\n",
              "    </div>\n",
              "  </div>\n"
            ],
            "application/vnd.google.colaboratory.intrinsic+json": {
              "type": "dataframe",
              "variable_name": "df_encoded"
            }
          },
          "metadata": {},
          "execution_count": 76
        }
      ]
    },
    {
      "cell_type": "code",
      "source": [
        "# Check for missing values\n",
        "print(df_encoded[numerical_columns].isnull().sum())"
      ],
      "metadata": {
        "colab": {
          "base_uri": "https://localhost:8080/"
        },
        "id": "WJFShGmQSPLn",
        "outputId": "2376e9b5-8d76-4ea6-f1dc-8ee4da960eff"
      },
      "execution_count": 77,
      "outputs": [
        {
          "output_type": "stream",
          "name": "stdout",
          "text": [
            "Reporting_Year / Année     0\n",
            "Total Releases (Summed)    0\n",
            "Years Since 2000           0\n",
            "Prev_Year_Pollution        0\n",
            "Growth Rate (%)            0\n",
            "High Emission Industry     0\n",
            "Is_COVID_Year              0\n",
            "Prev_Year_Category         0\n",
            "Prev_Year_Growth           0\n",
            "dtype: int64\n"
          ]
        }
      ]
    },
    {
      "cell_type": "code",
      "source": [
        "print((df_encoded[numerical_columns] == -np.inf).sum())"
      ],
      "metadata": {
        "colab": {
          "base_uri": "https://localhost:8080/"
        },
        "id": "KUSzmXuQSXM4",
        "outputId": "255e315a-1a25-4976-e620-0a5cd83191dc"
      },
      "execution_count": 78,
      "outputs": [
        {
          "output_type": "stream",
          "name": "stdout",
          "text": [
            "Reporting_Year / Année     0\n",
            "Total Releases (Summed)    0\n",
            "Years Since 2000           0\n",
            "Prev_Year_Pollution        0\n",
            "Growth Rate (%)            0\n",
            "High Emission Industry     0\n",
            "Is_COVID_Year              0\n",
            "Prev_Year_Category         0\n",
            "Prev_Year_Growth           0\n",
            "dtype: int64\n"
          ]
        }
      ]
    },
    {
      "cell_type": "code",
      "source": [
        "# Replace infinite values with NaN\n",
        "df_encoded.replace([np.inf, -np.inf], np.nan, inplace=True)\n"
      ],
      "metadata": {
        "id": "lGWkHPz4SjsK"
      },
      "execution_count": 79,
      "outputs": []
    },
    {
      "cell_type": "code",
      "source": [
        "# Drop rows with NaN values in numerical features before scaling\n",
        "df_encoded.dropna(subset=numerical_columns, inplace=True)"
      ],
      "metadata": {
        "id": "fNYTsPMdSod9"
      },
      "execution_count": 80,
      "outputs": []
    },
    {
      "cell_type": "markdown",
      "source": [
        "# Standardization/Scaling\n",
        "\n",
        "\n",
        "We do NOT need to scale every column. The reason we only scale \"Total Releases (Summed)\" and \"Growth Rate (%)\" is because:Total Releases (Summed) → Pollution levels have a large numerical range (e.g., 0.01 to 100,000+ tonnes).\n",
        "\n",
        "We scale features that are continuous and have a wide range"
      ],
      "metadata": {
        "id": "mRkH2dx4OlU_"
      }
    },
    {
      "cell_type": "code",
      "source": [
        "from sklearn.preprocessing import StandardScaler\n",
        "\n",
        "numerical_to_scale = [\n",
        "    \"Total Releases (Summed)\",\n",
        "    \"Prev_Year_Pollution\",\n",
        "    \"Growth Rate (%)\",\n",
        "    \"Prev_Year_Growth\"\n",
        "]\n",
        "\n",
        "\n",
        "scaler = StandardScaler()\n",
        "df_encoded[numerical_to_scale] = scaler.fit_transform(df_encoded[numerical_to_scale])\n"
      ],
      "metadata": {
        "id": "7tuyl4OSOtvL"
      },
      "execution_count": 81,
      "outputs": []
    },
    {
      "cell_type": "code",
      "source": [
        "df_encoded.head()"
      ],
      "metadata": {
        "colab": {
          "base_uri": "https://localhost:8080/",
          "height": 278
        },
        "id": "nWgCbR0lADFZ",
        "outputId": "017d0fc9-121e-4643-f23d-f0b1a109f5b0"
      },
      "execution_count": 82,
      "outputs": [
        {
          "output_type": "execute_result",
          "data": {
            "text/plain": [
              "      Reporting_Year / Année  NAICS Title / Titre Code_SCIAN  PROVINCE  \\\n",
              "5211                    2000                               0         8   \n",
              "5212                    2000                               0         8   \n",
              "5213                    2000                               0         8   \n",
              "6263                    2000                               0         8   \n",
              "6264                    2000                               0         8   \n",
              "\n",
              "      Estimation_Method / Méthode_d’estimation  Total Releases (Summed)  \\\n",
              "5211                                         5                -0.068235   \n",
              "5212                                        11                -0.068182   \n",
              "5213                                        11                -0.068242   \n",
              "6263                                         1                -0.062071   \n",
              "6264                                         2                -0.067933   \n",
              "\n",
              "      Years Since 2000  Prev_Year_Pollution  Growth Rate (%)  \\\n",
              "5211                 0            -0.071647         -0.00169   \n",
              "5212                 0            -0.071726         -0.00169   \n",
              "5213                 0            -0.071677         -0.00169   \n",
              "6263                 0            -0.071733         -0.00168   \n",
              "6264                 0            -0.065929         -0.00169   \n",
              "\n",
              "      High Emission Industry  Is_COVID_Year  Region  Estimation_Method_Type  \\\n",
              "5211                       0              0       0                       0   \n",
              "5212                       0              0       0                       1   \n",
              "5213                       0              0       0                       1   \n",
              "6263                       0              0       0                       1   \n",
              "6264                       0              0       0                       1   \n",
              "\n",
              "      Pollution Category  Prev_Year_Category  Prev_Year_Growth  \n",
              "5211                   1                 1.0         -0.001749  \n",
              "5212                   1                 1.0         -0.001749  \n",
              "5213                   1                 1.0         -0.001749  \n",
              "6263                   2                 1.0         -0.001749  \n",
              "6264                   2                 2.0         -0.001739  "
            ],
            "text/html": [
              "\n",
              "  <div id=\"df-896bd705-8216-4afd-8e16-1f9ea99b772f\" class=\"colab-df-container\">\n",
              "    <div>\n",
              "<style scoped>\n",
              "    .dataframe tbody tr th:only-of-type {\n",
              "        vertical-align: middle;\n",
              "    }\n",
              "\n",
              "    .dataframe tbody tr th {\n",
              "        vertical-align: top;\n",
              "    }\n",
              "\n",
              "    .dataframe thead th {\n",
              "        text-align: right;\n",
              "    }\n",
              "</style>\n",
              "<table border=\"1\" class=\"dataframe\">\n",
              "  <thead>\n",
              "    <tr style=\"text-align: right;\">\n",
              "      <th></th>\n",
              "      <th>Reporting_Year / Année</th>\n",
              "      <th>NAICS Title / Titre Code_SCIAN</th>\n",
              "      <th>PROVINCE</th>\n",
              "      <th>Estimation_Method / Méthode_d’estimation</th>\n",
              "      <th>Total Releases (Summed)</th>\n",
              "      <th>Years Since 2000</th>\n",
              "      <th>Prev_Year_Pollution</th>\n",
              "      <th>Growth Rate (%)</th>\n",
              "      <th>High Emission Industry</th>\n",
              "      <th>Is_COVID_Year</th>\n",
              "      <th>Region</th>\n",
              "      <th>Estimation_Method_Type</th>\n",
              "      <th>Pollution Category</th>\n",
              "      <th>Prev_Year_Category</th>\n",
              "      <th>Prev_Year_Growth</th>\n",
              "    </tr>\n",
              "  </thead>\n",
              "  <tbody>\n",
              "    <tr>\n",
              "      <th>5211</th>\n",
              "      <td>2000</td>\n",
              "      <td>0</td>\n",
              "      <td>8</td>\n",
              "      <td>5</td>\n",
              "      <td>-0.068235</td>\n",
              "      <td>0</td>\n",
              "      <td>-0.071647</td>\n",
              "      <td>-0.00169</td>\n",
              "      <td>0</td>\n",
              "      <td>0</td>\n",
              "      <td>0</td>\n",
              "      <td>0</td>\n",
              "      <td>1</td>\n",
              "      <td>1.0</td>\n",
              "      <td>-0.001749</td>\n",
              "    </tr>\n",
              "    <tr>\n",
              "      <th>5212</th>\n",
              "      <td>2000</td>\n",
              "      <td>0</td>\n",
              "      <td>8</td>\n",
              "      <td>11</td>\n",
              "      <td>-0.068182</td>\n",
              "      <td>0</td>\n",
              "      <td>-0.071726</td>\n",
              "      <td>-0.00169</td>\n",
              "      <td>0</td>\n",
              "      <td>0</td>\n",
              "      <td>0</td>\n",
              "      <td>1</td>\n",
              "      <td>1</td>\n",
              "      <td>1.0</td>\n",
              "      <td>-0.001749</td>\n",
              "    </tr>\n",
              "    <tr>\n",
              "      <th>5213</th>\n",
              "      <td>2000</td>\n",
              "      <td>0</td>\n",
              "      <td>8</td>\n",
              "      <td>11</td>\n",
              "      <td>-0.068242</td>\n",
              "      <td>0</td>\n",
              "      <td>-0.071677</td>\n",
              "      <td>-0.00169</td>\n",
              "      <td>0</td>\n",
              "      <td>0</td>\n",
              "      <td>0</td>\n",
              "      <td>1</td>\n",
              "      <td>1</td>\n",
              "      <td>1.0</td>\n",
              "      <td>-0.001749</td>\n",
              "    </tr>\n",
              "    <tr>\n",
              "      <th>6263</th>\n",
              "      <td>2000</td>\n",
              "      <td>0</td>\n",
              "      <td>8</td>\n",
              "      <td>1</td>\n",
              "      <td>-0.062071</td>\n",
              "      <td>0</td>\n",
              "      <td>-0.071733</td>\n",
              "      <td>-0.00168</td>\n",
              "      <td>0</td>\n",
              "      <td>0</td>\n",
              "      <td>0</td>\n",
              "      <td>1</td>\n",
              "      <td>2</td>\n",
              "      <td>1.0</td>\n",
              "      <td>-0.001749</td>\n",
              "    </tr>\n",
              "    <tr>\n",
              "      <th>6264</th>\n",
              "      <td>2000</td>\n",
              "      <td>0</td>\n",
              "      <td>8</td>\n",
              "      <td>2</td>\n",
              "      <td>-0.067933</td>\n",
              "      <td>0</td>\n",
              "      <td>-0.065929</td>\n",
              "      <td>-0.00169</td>\n",
              "      <td>0</td>\n",
              "      <td>0</td>\n",
              "      <td>0</td>\n",
              "      <td>1</td>\n",
              "      <td>2</td>\n",
              "      <td>2.0</td>\n",
              "      <td>-0.001739</td>\n",
              "    </tr>\n",
              "  </tbody>\n",
              "</table>\n",
              "</div>\n",
              "    <div class=\"colab-df-buttons\">\n",
              "\n",
              "  <div class=\"colab-df-container\">\n",
              "    <button class=\"colab-df-convert\" onclick=\"convertToInteractive('df-896bd705-8216-4afd-8e16-1f9ea99b772f')\"\n",
              "            title=\"Convert this dataframe to an interactive table.\"\n",
              "            style=\"display:none;\">\n",
              "\n",
              "  <svg xmlns=\"http://www.w3.org/2000/svg\" height=\"24px\" viewBox=\"0 -960 960 960\">\n",
              "    <path d=\"M120-120v-720h720v720H120Zm60-500h600v-160H180v160Zm220 220h160v-160H400v160Zm0 220h160v-160H400v160ZM180-400h160v-160H180v160Zm440 0h160v-160H620v160ZM180-180h160v-160H180v160Zm440 0h160v-160H620v160Z\"/>\n",
              "  </svg>\n",
              "    </button>\n",
              "\n",
              "  <style>\n",
              "    .colab-df-container {\n",
              "      display:flex;\n",
              "      gap: 12px;\n",
              "    }\n",
              "\n",
              "    .colab-df-convert {\n",
              "      background-color: #E8F0FE;\n",
              "      border: none;\n",
              "      border-radius: 50%;\n",
              "      cursor: pointer;\n",
              "      display: none;\n",
              "      fill: #1967D2;\n",
              "      height: 32px;\n",
              "      padding: 0 0 0 0;\n",
              "      width: 32px;\n",
              "    }\n",
              "\n",
              "    .colab-df-convert:hover {\n",
              "      background-color: #E2EBFA;\n",
              "      box-shadow: 0px 1px 2px rgba(60, 64, 67, 0.3), 0px 1px 3px 1px rgba(60, 64, 67, 0.15);\n",
              "      fill: #174EA6;\n",
              "    }\n",
              "\n",
              "    .colab-df-buttons div {\n",
              "      margin-bottom: 4px;\n",
              "    }\n",
              "\n",
              "    [theme=dark] .colab-df-convert {\n",
              "      background-color: #3B4455;\n",
              "      fill: #D2E3FC;\n",
              "    }\n",
              "\n",
              "    [theme=dark] .colab-df-convert:hover {\n",
              "      background-color: #434B5C;\n",
              "      box-shadow: 0px 1px 3px 1px rgba(0, 0, 0, 0.15);\n",
              "      filter: drop-shadow(0px 1px 2px rgba(0, 0, 0, 0.3));\n",
              "      fill: #FFFFFF;\n",
              "    }\n",
              "  </style>\n",
              "\n",
              "    <script>\n",
              "      const buttonEl =\n",
              "        document.querySelector('#df-896bd705-8216-4afd-8e16-1f9ea99b772f button.colab-df-convert');\n",
              "      buttonEl.style.display =\n",
              "        google.colab.kernel.accessAllowed ? 'block' : 'none';\n",
              "\n",
              "      async function convertToInteractive(key) {\n",
              "        const element = document.querySelector('#df-896bd705-8216-4afd-8e16-1f9ea99b772f');\n",
              "        const dataTable =\n",
              "          await google.colab.kernel.invokeFunction('convertToInteractive',\n",
              "                                                    [key], {});\n",
              "        if (!dataTable) return;\n",
              "\n",
              "        const docLinkHtml = 'Like what you see? Visit the ' +\n",
              "          '<a target=\"_blank\" href=https://colab.research.google.com/notebooks/data_table.ipynb>data table notebook</a>'\n",
              "          + ' to learn more about interactive tables.';\n",
              "        element.innerHTML = '';\n",
              "        dataTable['output_type'] = 'display_data';\n",
              "        await google.colab.output.renderOutput(dataTable, element);\n",
              "        const docLink = document.createElement('div');\n",
              "        docLink.innerHTML = docLinkHtml;\n",
              "        element.appendChild(docLink);\n",
              "      }\n",
              "    </script>\n",
              "  </div>\n",
              "\n",
              "\n",
              "<div id=\"df-4ac5ccc8-2e00-406d-abfc-ca944d1e48b5\">\n",
              "  <button class=\"colab-df-quickchart\" onclick=\"quickchart('df-4ac5ccc8-2e00-406d-abfc-ca944d1e48b5')\"\n",
              "            title=\"Suggest charts\"\n",
              "            style=\"display:none;\">\n",
              "\n",
              "<svg xmlns=\"http://www.w3.org/2000/svg\" height=\"24px\"viewBox=\"0 0 24 24\"\n",
              "     width=\"24px\">\n",
              "    <g>\n",
              "        <path d=\"M19 3H5c-1.1 0-2 .9-2 2v14c0 1.1.9 2 2 2h14c1.1 0 2-.9 2-2V5c0-1.1-.9-2-2-2zM9 17H7v-7h2v7zm4 0h-2V7h2v10zm4 0h-2v-4h2v4z\"/>\n",
              "    </g>\n",
              "</svg>\n",
              "  </button>\n",
              "\n",
              "<style>\n",
              "  .colab-df-quickchart {\n",
              "      --bg-color: #E8F0FE;\n",
              "      --fill-color: #1967D2;\n",
              "      --hover-bg-color: #E2EBFA;\n",
              "      --hover-fill-color: #174EA6;\n",
              "      --disabled-fill-color: #AAA;\n",
              "      --disabled-bg-color: #DDD;\n",
              "  }\n",
              "\n",
              "  [theme=dark] .colab-df-quickchart {\n",
              "      --bg-color: #3B4455;\n",
              "      --fill-color: #D2E3FC;\n",
              "      --hover-bg-color: #434B5C;\n",
              "      --hover-fill-color: #FFFFFF;\n",
              "      --disabled-bg-color: #3B4455;\n",
              "      --disabled-fill-color: #666;\n",
              "  }\n",
              "\n",
              "  .colab-df-quickchart {\n",
              "    background-color: var(--bg-color);\n",
              "    border: none;\n",
              "    border-radius: 50%;\n",
              "    cursor: pointer;\n",
              "    display: none;\n",
              "    fill: var(--fill-color);\n",
              "    height: 32px;\n",
              "    padding: 0;\n",
              "    width: 32px;\n",
              "  }\n",
              "\n",
              "  .colab-df-quickchart:hover {\n",
              "    background-color: var(--hover-bg-color);\n",
              "    box-shadow: 0 1px 2px rgba(60, 64, 67, 0.3), 0 1px 3px 1px rgba(60, 64, 67, 0.15);\n",
              "    fill: var(--button-hover-fill-color);\n",
              "  }\n",
              "\n",
              "  .colab-df-quickchart-complete:disabled,\n",
              "  .colab-df-quickchart-complete:disabled:hover {\n",
              "    background-color: var(--disabled-bg-color);\n",
              "    fill: var(--disabled-fill-color);\n",
              "    box-shadow: none;\n",
              "  }\n",
              "\n",
              "  .colab-df-spinner {\n",
              "    border: 2px solid var(--fill-color);\n",
              "    border-color: transparent;\n",
              "    border-bottom-color: var(--fill-color);\n",
              "    animation:\n",
              "      spin 1s steps(1) infinite;\n",
              "  }\n",
              "\n",
              "  @keyframes spin {\n",
              "    0% {\n",
              "      border-color: transparent;\n",
              "      border-bottom-color: var(--fill-color);\n",
              "      border-left-color: var(--fill-color);\n",
              "    }\n",
              "    20% {\n",
              "      border-color: transparent;\n",
              "      border-left-color: var(--fill-color);\n",
              "      border-top-color: var(--fill-color);\n",
              "    }\n",
              "    30% {\n",
              "      border-color: transparent;\n",
              "      border-left-color: var(--fill-color);\n",
              "      border-top-color: var(--fill-color);\n",
              "      border-right-color: var(--fill-color);\n",
              "    }\n",
              "    40% {\n",
              "      border-color: transparent;\n",
              "      border-right-color: var(--fill-color);\n",
              "      border-top-color: var(--fill-color);\n",
              "    }\n",
              "    60% {\n",
              "      border-color: transparent;\n",
              "      border-right-color: var(--fill-color);\n",
              "    }\n",
              "    80% {\n",
              "      border-color: transparent;\n",
              "      border-right-color: var(--fill-color);\n",
              "      border-bottom-color: var(--fill-color);\n",
              "    }\n",
              "    90% {\n",
              "      border-color: transparent;\n",
              "      border-bottom-color: var(--fill-color);\n",
              "    }\n",
              "  }\n",
              "</style>\n",
              "\n",
              "  <script>\n",
              "    async function quickchart(key) {\n",
              "      const quickchartButtonEl =\n",
              "        document.querySelector('#' + key + ' button');\n",
              "      quickchartButtonEl.disabled = true;  // To prevent multiple clicks.\n",
              "      quickchartButtonEl.classList.add('colab-df-spinner');\n",
              "      try {\n",
              "        const charts = await google.colab.kernel.invokeFunction(\n",
              "            'suggestCharts', [key], {});\n",
              "      } catch (error) {\n",
              "        console.error('Error during call to suggestCharts:', error);\n",
              "      }\n",
              "      quickchartButtonEl.classList.remove('colab-df-spinner');\n",
              "      quickchartButtonEl.classList.add('colab-df-quickchart-complete');\n",
              "    }\n",
              "    (() => {\n",
              "      let quickchartButtonEl =\n",
              "        document.querySelector('#df-4ac5ccc8-2e00-406d-abfc-ca944d1e48b5 button');\n",
              "      quickchartButtonEl.style.display =\n",
              "        google.colab.kernel.accessAllowed ? 'block' : 'none';\n",
              "    })();\n",
              "  </script>\n",
              "</div>\n",
              "\n",
              "    </div>\n",
              "  </div>\n"
            ],
            "application/vnd.google.colaboratory.intrinsic+json": {
              "type": "dataframe",
              "variable_name": "df_encoded"
            }
          },
          "metadata": {},
          "execution_count": 82
        }
      ]
    },
    {
      "cell_type": "code",
      "source": [
        "df_encoded.columns"
      ],
      "metadata": {
        "colab": {
          "base_uri": "https://localhost:8080/"
        },
        "id": "zfypsLe3celf",
        "outputId": "b94e1bd7-cff8-42e3-fa79-010c5fcf8b7f"
      },
      "execution_count": 83,
      "outputs": [
        {
          "output_type": "execute_result",
          "data": {
            "text/plain": [
              "Index(['Reporting_Year / Année', 'NAICS Title / Titre Code_SCIAN', 'PROVINCE',\n",
              "       'Estimation_Method / Méthode_d’estimation', 'Total Releases (Summed)',\n",
              "       'Years Since 2000', 'Prev_Year_Pollution', 'Growth Rate (%)',\n",
              "       'High Emission Industry', 'Is_COVID_Year', 'Region',\n",
              "       'Estimation_Method_Type', 'Pollution Category', 'Prev_Year_Category',\n",
              "       'Prev_Year_Growth'],\n",
              "      dtype='object')"
            ]
          },
          "metadata": {},
          "execution_count": 83
        }
      ]
    },
    {
      "cell_type": "code",
      "source": [
        "df_classification = df_encoded.copy()"
      ],
      "metadata": {
        "id": "JJJwXoGNu0wq"
      },
      "execution_count": 84,
      "outputs": []
    },
    {
      "cell_type": "markdown",
      "source": [
        "# Feature Selection for Classification Model\n",
        "\n",
        "Define Features  and Target Columns\n",
        "\n",
        "Classification →  predicting \"Pollution Category\"\n",
        "\n",
        "Regression →  predicting \"Total Releases (Summed)\" in future years\n",
        "\n",
        "Set up your features and target:\n",
        "\n",
        "\n",
        "Before training a model, we separate features (X) from the target variable (y).\n",
        "\n",
        "We want to predict whether pollution is Low, Medium, or High. \"Pollution Category\" is our target variable (classification)."
      ],
      "metadata": {
        "id": "45qHJiF3T37f"
      }
    },
    {
      "cell_type": "code",
      "source": [
        "features = [\n",
        "    \"Reporting_Year / Année\",\n",
        "    \"NAICS Title / Titre Code_SCIAN\",\n",
        "    \"PROVINCE\",\n",
        "    \"Estimation_Method / Méthode_d’estimation\",\n",
        "    \"Years Since 2000\",\n",
        "    \"Prev_Year_Pollution\",\n",
        "    'Growth Rate (%)',\n",
        "    \"Prev_Year_Growth\",\n",
        "    \"High Emission Industry\",\n",
        "    \"Is_COVID_Year\",\n",
        "    \"Region\",\n",
        "    \"Estimation_Method_Type\",\n",
        "    \"Prev_Year_Category\"\n",
        "]\n",
        "\n",
        "target = \"Pollution Category\"\n"
      ],
      "metadata": {
        "id": "RGdKFboX-qy7"
      },
      "execution_count": 85,
      "outputs": []
    },
    {
      "cell_type": "code",
      "source": [
        "# Check correlations\n",
        "correlation = df_classification.corr(numeric_only=True)[\"Pollution Category\"].sort_values(ascending=False)\n",
        "\n",
        "# Show strongest correlations\n",
        "print(correlation.head(10))"
      ],
      "metadata": {
        "colab": {
          "base_uri": "https://localhost:8080/"
        },
        "id": "wk0EUtSiRtG-",
        "outputId": "116452e9-bb97-490e-d758-b229d430b642"
      },
      "execution_count": 86,
      "outputs": [
        {
          "output_type": "stream",
          "name": "stdout",
          "text": [
            "Pollution Category         1.000000\n",
            "Prev_Year_Category         0.523099\n",
            "High Emission Industry     0.236110\n",
            "Region                     0.201652\n",
            "Total Releases (Summed)    0.078690\n",
            "Prev_Year_Pollution        0.040292\n",
            "Estimation_Method_Type     0.028589\n",
            "Reporting_Year / Année     0.004256\n",
            "Years Since 2000           0.004256\n",
            "Growth Rate (%)            0.001960\n",
            "Name: Pollution Category, dtype: float64\n"
          ]
        }
      ]
    },
    {
      "cell_type": "markdown",
      "source": [
        "Prepare Final Feature (X) and Target (y)"
      ],
      "metadata": {
        "id": "gc7UGw8s_xEr"
      }
    },
    {
      "cell_type": "code",
      "source": [
        "X = df_classification[features]\n",
        "y = df_classification[target]\n"
      ],
      "metadata": {
        "id": "XeYmDtcV_uIn"
      },
      "execution_count": 87,
      "outputs": []
    },
    {
      "cell_type": "code",
      "source": [
        "X.head()"
      ],
      "metadata": {
        "colab": {
          "base_uri": "https://localhost:8080/",
          "height": 278
        },
        "id": "x-3XaiGJT-AK",
        "outputId": "bea8f0e4-f578-456a-b8bb-e448b1403540"
      },
      "execution_count": 88,
      "outputs": [
        {
          "output_type": "execute_result",
          "data": {
            "text/plain": [
              "      Reporting_Year / Année  NAICS Title / Titre Code_SCIAN  PROVINCE  \\\n",
              "5211                    2000                               0         8   \n",
              "5212                    2000                               0         8   \n",
              "5213                    2000                               0         8   \n",
              "6263                    2000                               0         8   \n",
              "6264                    2000                               0         8   \n",
              "\n",
              "      Estimation_Method / Méthode_d’estimation  Years Since 2000  \\\n",
              "5211                                         5                 0   \n",
              "5212                                        11                 0   \n",
              "5213                                        11                 0   \n",
              "6263                                         1                 0   \n",
              "6264                                         2                 0   \n",
              "\n",
              "      Prev_Year_Pollution  Growth Rate (%)  Prev_Year_Growth  \\\n",
              "5211            -0.071647         -0.00169         -0.001749   \n",
              "5212            -0.071726         -0.00169         -0.001749   \n",
              "5213            -0.071677         -0.00169         -0.001749   \n",
              "6263            -0.071733         -0.00168         -0.001749   \n",
              "6264            -0.065929         -0.00169         -0.001739   \n",
              "\n",
              "      High Emission Industry  Is_COVID_Year  Region  Estimation_Method_Type  \\\n",
              "5211                       0              0       0                       0   \n",
              "5212                       0              0       0                       1   \n",
              "5213                       0              0       0                       1   \n",
              "6263                       0              0       0                       1   \n",
              "6264                       0              0       0                       1   \n",
              "\n",
              "      Prev_Year_Category  \n",
              "5211                 1.0  \n",
              "5212                 1.0  \n",
              "5213                 1.0  \n",
              "6263                 1.0  \n",
              "6264                 2.0  "
            ],
            "text/html": [
              "\n",
              "  <div id=\"df-b0976be6-7c09-424f-95e3-a3052e3f6b54\" class=\"colab-df-container\">\n",
              "    <div>\n",
              "<style scoped>\n",
              "    .dataframe tbody tr th:only-of-type {\n",
              "        vertical-align: middle;\n",
              "    }\n",
              "\n",
              "    .dataframe tbody tr th {\n",
              "        vertical-align: top;\n",
              "    }\n",
              "\n",
              "    .dataframe thead th {\n",
              "        text-align: right;\n",
              "    }\n",
              "</style>\n",
              "<table border=\"1\" class=\"dataframe\">\n",
              "  <thead>\n",
              "    <tr style=\"text-align: right;\">\n",
              "      <th></th>\n",
              "      <th>Reporting_Year / Année</th>\n",
              "      <th>NAICS Title / Titre Code_SCIAN</th>\n",
              "      <th>PROVINCE</th>\n",
              "      <th>Estimation_Method / Méthode_d’estimation</th>\n",
              "      <th>Years Since 2000</th>\n",
              "      <th>Prev_Year_Pollution</th>\n",
              "      <th>Growth Rate (%)</th>\n",
              "      <th>Prev_Year_Growth</th>\n",
              "      <th>High Emission Industry</th>\n",
              "      <th>Is_COVID_Year</th>\n",
              "      <th>Region</th>\n",
              "      <th>Estimation_Method_Type</th>\n",
              "      <th>Prev_Year_Category</th>\n",
              "    </tr>\n",
              "  </thead>\n",
              "  <tbody>\n",
              "    <tr>\n",
              "      <th>5211</th>\n",
              "      <td>2000</td>\n",
              "      <td>0</td>\n",
              "      <td>8</td>\n",
              "      <td>5</td>\n",
              "      <td>0</td>\n",
              "      <td>-0.071647</td>\n",
              "      <td>-0.00169</td>\n",
              "      <td>-0.001749</td>\n",
              "      <td>0</td>\n",
              "      <td>0</td>\n",
              "      <td>0</td>\n",
              "      <td>0</td>\n",
              "      <td>1.0</td>\n",
              "    </tr>\n",
              "    <tr>\n",
              "      <th>5212</th>\n",
              "      <td>2000</td>\n",
              "      <td>0</td>\n",
              "      <td>8</td>\n",
              "      <td>11</td>\n",
              "      <td>0</td>\n",
              "      <td>-0.071726</td>\n",
              "      <td>-0.00169</td>\n",
              "      <td>-0.001749</td>\n",
              "      <td>0</td>\n",
              "      <td>0</td>\n",
              "      <td>0</td>\n",
              "      <td>1</td>\n",
              "      <td>1.0</td>\n",
              "    </tr>\n",
              "    <tr>\n",
              "      <th>5213</th>\n",
              "      <td>2000</td>\n",
              "      <td>0</td>\n",
              "      <td>8</td>\n",
              "      <td>11</td>\n",
              "      <td>0</td>\n",
              "      <td>-0.071677</td>\n",
              "      <td>-0.00169</td>\n",
              "      <td>-0.001749</td>\n",
              "      <td>0</td>\n",
              "      <td>0</td>\n",
              "      <td>0</td>\n",
              "      <td>1</td>\n",
              "      <td>1.0</td>\n",
              "    </tr>\n",
              "    <tr>\n",
              "      <th>6263</th>\n",
              "      <td>2000</td>\n",
              "      <td>0</td>\n",
              "      <td>8</td>\n",
              "      <td>1</td>\n",
              "      <td>0</td>\n",
              "      <td>-0.071733</td>\n",
              "      <td>-0.00168</td>\n",
              "      <td>-0.001749</td>\n",
              "      <td>0</td>\n",
              "      <td>0</td>\n",
              "      <td>0</td>\n",
              "      <td>1</td>\n",
              "      <td>1.0</td>\n",
              "    </tr>\n",
              "    <tr>\n",
              "      <th>6264</th>\n",
              "      <td>2000</td>\n",
              "      <td>0</td>\n",
              "      <td>8</td>\n",
              "      <td>2</td>\n",
              "      <td>0</td>\n",
              "      <td>-0.065929</td>\n",
              "      <td>-0.00169</td>\n",
              "      <td>-0.001739</td>\n",
              "      <td>0</td>\n",
              "      <td>0</td>\n",
              "      <td>0</td>\n",
              "      <td>1</td>\n",
              "      <td>2.0</td>\n",
              "    </tr>\n",
              "  </tbody>\n",
              "</table>\n",
              "</div>\n",
              "    <div class=\"colab-df-buttons\">\n",
              "\n",
              "  <div class=\"colab-df-container\">\n",
              "    <button class=\"colab-df-convert\" onclick=\"convertToInteractive('df-b0976be6-7c09-424f-95e3-a3052e3f6b54')\"\n",
              "            title=\"Convert this dataframe to an interactive table.\"\n",
              "            style=\"display:none;\">\n",
              "\n",
              "  <svg xmlns=\"http://www.w3.org/2000/svg\" height=\"24px\" viewBox=\"0 -960 960 960\">\n",
              "    <path d=\"M120-120v-720h720v720H120Zm60-500h600v-160H180v160Zm220 220h160v-160H400v160Zm0 220h160v-160H400v160ZM180-400h160v-160H180v160Zm440 0h160v-160H620v160ZM180-180h160v-160H180v160Zm440 0h160v-160H620v160Z\"/>\n",
              "  </svg>\n",
              "    </button>\n",
              "\n",
              "  <style>\n",
              "    .colab-df-container {\n",
              "      display:flex;\n",
              "      gap: 12px;\n",
              "    }\n",
              "\n",
              "    .colab-df-convert {\n",
              "      background-color: #E8F0FE;\n",
              "      border: none;\n",
              "      border-radius: 50%;\n",
              "      cursor: pointer;\n",
              "      display: none;\n",
              "      fill: #1967D2;\n",
              "      height: 32px;\n",
              "      padding: 0 0 0 0;\n",
              "      width: 32px;\n",
              "    }\n",
              "\n",
              "    .colab-df-convert:hover {\n",
              "      background-color: #E2EBFA;\n",
              "      box-shadow: 0px 1px 2px rgba(60, 64, 67, 0.3), 0px 1px 3px 1px rgba(60, 64, 67, 0.15);\n",
              "      fill: #174EA6;\n",
              "    }\n",
              "\n",
              "    .colab-df-buttons div {\n",
              "      margin-bottom: 4px;\n",
              "    }\n",
              "\n",
              "    [theme=dark] .colab-df-convert {\n",
              "      background-color: #3B4455;\n",
              "      fill: #D2E3FC;\n",
              "    }\n",
              "\n",
              "    [theme=dark] .colab-df-convert:hover {\n",
              "      background-color: #434B5C;\n",
              "      box-shadow: 0px 1px 3px 1px rgba(0, 0, 0, 0.15);\n",
              "      filter: drop-shadow(0px 1px 2px rgba(0, 0, 0, 0.3));\n",
              "      fill: #FFFFFF;\n",
              "    }\n",
              "  </style>\n",
              "\n",
              "    <script>\n",
              "      const buttonEl =\n",
              "        document.querySelector('#df-b0976be6-7c09-424f-95e3-a3052e3f6b54 button.colab-df-convert');\n",
              "      buttonEl.style.display =\n",
              "        google.colab.kernel.accessAllowed ? 'block' : 'none';\n",
              "\n",
              "      async function convertToInteractive(key) {\n",
              "        const element = document.querySelector('#df-b0976be6-7c09-424f-95e3-a3052e3f6b54');\n",
              "        const dataTable =\n",
              "          await google.colab.kernel.invokeFunction('convertToInteractive',\n",
              "                                                    [key], {});\n",
              "        if (!dataTable) return;\n",
              "\n",
              "        const docLinkHtml = 'Like what you see? Visit the ' +\n",
              "          '<a target=\"_blank\" href=https://colab.research.google.com/notebooks/data_table.ipynb>data table notebook</a>'\n",
              "          + ' to learn more about interactive tables.';\n",
              "        element.innerHTML = '';\n",
              "        dataTable['output_type'] = 'display_data';\n",
              "        await google.colab.output.renderOutput(dataTable, element);\n",
              "        const docLink = document.createElement('div');\n",
              "        docLink.innerHTML = docLinkHtml;\n",
              "        element.appendChild(docLink);\n",
              "      }\n",
              "    </script>\n",
              "  </div>\n",
              "\n",
              "\n",
              "<div id=\"df-03f5ffb9-85db-4fd1-bb94-b3e3d870d505\">\n",
              "  <button class=\"colab-df-quickchart\" onclick=\"quickchart('df-03f5ffb9-85db-4fd1-bb94-b3e3d870d505')\"\n",
              "            title=\"Suggest charts\"\n",
              "            style=\"display:none;\">\n",
              "\n",
              "<svg xmlns=\"http://www.w3.org/2000/svg\" height=\"24px\"viewBox=\"0 0 24 24\"\n",
              "     width=\"24px\">\n",
              "    <g>\n",
              "        <path d=\"M19 3H5c-1.1 0-2 .9-2 2v14c0 1.1.9 2 2 2h14c1.1 0 2-.9 2-2V5c0-1.1-.9-2-2-2zM9 17H7v-7h2v7zm4 0h-2V7h2v10zm4 0h-2v-4h2v4z\"/>\n",
              "    </g>\n",
              "</svg>\n",
              "  </button>\n",
              "\n",
              "<style>\n",
              "  .colab-df-quickchart {\n",
              "      --bg-color: #E8F0FE;\n",
              "      --fill-color: #1967D2;\n",
              "      --hover-bg-color: #E2EBFA;\n",
              "      --hover-fill-color: #174EA6;\n",
              "      --disabled-fill-color: #AAA;\n",
              "      --disabled-bg-color: #DDD;\n",
              "  }\n",
              "\n",
              "  [theme=dark] .colab-df-quickchart {\n",
              "      --bg-color: #3B4455;\n",
              "      --fill-color: #D2E3FC;\n",
              "      --hover-bg-color: #434B5C;\n",
              "      --hover-fill-color: #FFFFFF;\n",
              "      --disabled-bg-color: #3B4455;\n",
              "      --disabled-fill-color: #666;\n",
              "  }\n",
              "\n",
              "  .colab-df-quickchart {\n",
              "    background-color: var(--bg-color);\n",
              "    border: none;\n",
              "    border-radius: 50%;\n",
              "    cursor: pointer;\n",
              "    display: none;\n",
              "    fill: var(--fill-color);\n",
              "    height: 32px;\n",
              "    padding: 0;\n",
              "    width: 32px;\n",
              "  }\n",
              "\n",
              "  .colab-df-quickchart:hover {\n",
              "    background-color: var(--hover-bg-color);\n",
              "    box-shadow: 0 1px 2px rgba(60, 64, 67, 0.3), 0 1px 3px 1px rgba(60, 64, 67, 0.15);\n",
              "    fill: var(--button-hover-fill-color);\n",
              "  }\n",
              "\n",
              "  .colab-df-quickchart-complete:disabled,\n",
              "  .colab-df-quickchart-complete:disabled:hover {\n",
              "    background-color: var(--disabled-bg-color);\n",
              "    fill: var(--disabled-fill-color);\n",
              "    box-shadow: none;\n",
              "  }\n",
              "\n",
              "  .colab-df-spinner {\n",
              "    border: 2px solid var(--fill-color);\n",
              "    border-color: transparent;\n",
              "    border-bottom-color: var(--fill-color);\n",
              "    animation:\n",
              "      spin 1s steps(1) infinite;\n",
              "  }\n",
              "\n",
              "  @keyframes spin {\n",
              "    0% {\n",
              "      border-color: transparent;\n",
              "      border-bottom-color: var(--fill-color);\n",
              "      border-left-color: var(--fill-color);\n",
              "    }\n",
              "    20% {\n",
              "      border-color: transparent;\n",
              "      border-left-color: var(--fill-color);\n",
              "      border-top-color: var(--fill-color);\n",
              "    }\n",
              "    30% {\n",
              "      border-color: transparent;\n",
              "      border-left-color: var(--fill-color);\n",
              "      border-top-color: var(--fill-color);\n",
              "      border-right-color: var(--fill-color);\n",
              "    }\n",
              "    40% {\n",
              "      border-color: transparent;\n",
              "      border-right-color: var(--fill-color);\n",
              "      border-top-color: var(--fill-color);\n",
              "    }\n",
              "    60% {\n",
              "      border-color: transparent;\n",
              "      border-right-color: var(--fill-color);\n",
              "    }\n",
              "    80% {\n",
              "      border-color: transparent;\n",
              "      border-right-color: var(--fill-color);\n",
              "      border-bottom-color: var(--fill-color);\n",
              "    }\n",
              "    90% {\n",
              "      border-color: transparent;\n",
              "      border-bottom-color: var(--fill-color);\n",
              "    }\n",
              "  }\n",
              "</style>\n",
              "\n",
              "  <script>\n",
              "    async function quickchart(key) {\n",
              "      const quickchartButtonEl =\n",
              "        document.querySelector('#' + key + ' button');\n",
              "      quickchartButtonEl.disabled = true;  // To prevent multiple clicks.\n",
              "      quickchartButtonEl.classList.add('colab-df-spinner');\n",
              "      try {\n",
              "        const charts = await google.colab.kernel.invokeFunction(\n",
              "            'suggestCharts', [key], {});\n",
              "      } catch (error) {\n",
              "        console.error('Error during call to suggestCharts:', error);\n",
              "      }\n",
              "      quickchartButtonEl.classList.remove('colab-df-spinner');\n",
              "      quickchartButtonEl.classList.add('colab-df-quickchart-complete');\n",
              "    }\n",
              "    (() => {\n",
              "      let quickchartButtonEl =\n",
              "        document.querySelector('#df-03f5ffb9-85db-4fd1-bb94-b3e3d870d505 button');\n",
              "      quickchartButtonEl.style.display =\n",
              "        google.colab.kernel.accessAllowed ? 'block' : 'none';\n",
              "    })();\n",
              "  </script>\n",
              "</div>\n",
              "\n",
              "    </div>\n",
              "  </div>\n"
            ],
            "application/vnd.google.colaboratory.intrinsic+json": {
              "type": "dataframe",
              "variable_name": "X"
            }
          },
          "metadata": {},
          "execution_count": 88
        }
      ]
    },
    {
      "cell_type": "code",
      "source": [
        "y.head()"
      ],
      "metadata": {
        "colab": {
          "base_uri": "https://localhost:8080/",
          "height": 241
        },
        "id": "6VO-fIGxUEMH",
        "outputId": "f268552c-caac-4ec3-c313-4b7a302a10ec"
      },
      "execution_count": 89,
      "outputs": [
        {
          "output_type": "execute_result",
          "data": {
            "text/plain": [
              "5211    1\n",
              "5212    1\n",
              "5213    1\n",
              "6263    2\n",
              "6264    2\n",
              "Name: Pollution Category, dtype: int64"
            ],
            "text/html": [
              "<div>\n",
              "<style scoped>\n",
              "    .dataframe tbody tr th:only-of-type {\n",
              "        vertical-align: middle;\n",
              "    }\n",
              "\n",
              "    .dataframe tbody tr th {\n",
              "        vertical-align: top;\n",
              "    }\n",
              "\n",
              "    .dataframe thead th {\n",
              "        text-align: right;\n",
              "    }\n",
              "</style>\n",
              "<table border=\"1\" class=\"dataframe\">\n",
              "  <thead>\n",
              "    <tr style=\"text-align: right;\">\n",
              "      <th></th>\n",
              "      <th>Pollution Category</th>\n",
              "    </tr>\n",
              "  </thead>\n",
              "  <tbody>\n",
              "    <tr>\n",
              "      <th>5211</th>\n",
              "      <td>1</td>\n",
              "    </tr>\n",
              "    <tr>\n",
              "      <th>5212</th>\n",
              "      <td>1</td>\n",
              "    </tr>\n",
              "    <tr>\n",
              "      <th>5213</th>\n",
              "      <td>1</td>\n",
              "    </tr>\n",
              "    <tr>\n",
              "      <th>6263</th>\n",
              "      <td>2</td>\n",
              "    </tr>\n",
              "    <tr>\n",
              "      <th>6264</th>\n",
              "      <td>2</td>\n",
              "    </tr>\n",
              "  </tbody>\n",
              "</table>\n",
              "</div><br><label><b>dtype:</b> int64</label>"
            ]
          },
          "metadata": {},
          "execution_count": 89
        }
      ]
    },
    {
      "cell_type": "markdown",
      "source": [
        "# Classification Model"
      ],
      "metadata": {
        "id": "osHswlV_iBLp"
      }
    },
    {
      "cell_type": "markdown",
      "source": [
        "# **Time-Based Train-Test Split for Classification Model**\n",
        "\n",
        "Time-Based Split\n",
        "Use temporal train-test split (not random) to preserve time order:\n",
        "\n",
        "We train on early years and test on recent years — this respects time order"
      ],
      "metadata": {
        "id": "wifIPdm9ABq7"
      }
    },
    {
      "cell_type": "code",
      "source": [
        "split_year = 2019  #  train on data before 2020\n",
        "X_train = X[df_classification[\"Reporting_Year / Année\"] <= split_year]\n",
        "X_test = X[df_classification[\"Reporting_Year / Année\"] > split_year]\n",
        "\n",
        "y_train = y[df_classification[\"Reporting_Year / Année\"] <= split_year]\n",
        "y_test = y[df_classification[\"Reporting_Year / Année\"] > split_year]\n"
      ],
      "metadata": {
        "id": "AymRjGxWAAn-"
      },
      "execution_count": 90,
      "outputs": []
    },
    {
      "cell_type": "markdown",
      "source": [
        "# Model Selection-- Random Forest Classifier"
      ],
      "metadata": {
        "id": "43swWKn6idhF"
      }
    },
    {
      "cell_type": "markdown",
      "source": [
        "\n",
        "Now, we choose a model based on our task:\n",
        "\n",
        "For Classification (Pollution Category)\n",
        "\n",
        "Why Random Forest?\n",
        "\n",
        "Handles categorical & numerical data well.\n",
        "\n",
        "Works without needing complex feature engineering. Provides feature importance insights.\n",
        "\n",
        "Random Forest is our starting point"
      ],
      "metadata": {
        "id": "B2GjpQ8wCXIH"
      }
    },
    {
      "cell_type": "code",
      "source": [
        "from sklearn.ensemble import RandomForestClassifier\n",
        "from sklearn.model_selection import GridSearchCV\n",
        "from sklearn.metrics import classification_report, confusion_matrix, accuracy_score"
      ],
      "metadata": {
        "id": "kNaMWFd4D44C"
      },
      "execution_count": 91,
      "outputs": []
    },
    {
      "cell_type": "markdown",
      "source": [
        "# Hyper parameter Tunning for Classification Model"
      ],
      "metadata": {
        "id": "Z8xodlm6in3L"
      }
    },
    {
      "cell_type": "code",
      "source": [
        "\n",
        "# Define parameter grid\n",
        "n_estimators = [ 50, 100]\n",
        "max_depth = [10, 20]\n",
        "min_samples_split = [2, 5]\n",
        "\n",
        "param_grid = {\n",
        "    'n_estimators': n_estimators,\n",
        "    'max_depth': max_depth,\n",
        "    'min_samples_split': min_samples_split\n",
        "}"
      ],
      "metadata": {
        "id": "9DGK229tFdyM"
      },
      "execution_count": 92,
      "outputs": []
    },
    {
      "cell_type": "code",
      "source": [
        "\n",
        "rf_clf = RandomForestClassifier(random_state=42)\n",
        "\n",
        "grid_search = GridSearchCV(estimator=rf_clf,\n",
        "                           param_grid=param_grid,\n",
        "                           cv=3,\n",
        "                           n_jobs=-1,\n",
        "                           verbose=1)\n",
        "\n",
        "# Fit grid search\n",
        "grid_search.fit(X_train, y_train)"
      ],
      "metadata": {
        "colab": {
          "base_uri": "https://localhost:8080/",
          "height": 183
        },
        "id": "P5v_mhESFygI",
        "outputId": "88984dbe-8c74-48e0-85d8-e5f1075ac9a5"
      },
      "execution_count": 93,
      "outputs": [
        {
          "output_type": "stream",
          "name": "stdout",
          "text": [
            "Fitting 3 folds for each of 8 candidates, totalling 24 fits\n"
          ]
        },
        {
          "output_type": "execute_result",
          "data": {
            "text/plain": [
              "GridSearchCV(cv=3, estimator=RandomForestClassifier(random_state=42), n_jobs=-1,\n",
              "             param_grid={'max_depth': [10, 20], 'min_samples_split': [2, 5],\n",
              "                         'n_estimators': [50, 100]},\n",
              "             verbose=1)"
            ],
            "text/html": [
              "<style>#sk-container-id-1 {\n",
              "  /* Definition of color scheme common for light and dark mode */\n",
              "  --sklearn-color-text: #000;\n",
              "  --sklearn-color-text-muted: #666;\n",
              "  --sklearn-color-line: gray;\n",
              "  /* Definition of color scheme for unfitted estimators */\n",
              "  --sklearn-color-unfitted-level-0: #fff5e6;\n",
              "  --sklearn-color-unfitted-level-1: #f6e4d2;\n",
              "  --sklearn-color-unfitted-level-2: #ffe0b3;\n",
              "  --sklearn-color-unfitted-level-3: chocolate;\n",
              "  /* Definition of color scheme for fitted estimators */\n",
              "  --sklearn-color-fitted-level-0: #f0f8ff;\n",
              "  --sklearn-color-fitted-level-1: #d4ebff;\n",
              "  --sklearn-color-fitted-level-2: #b3dbfd;\n",
              "  --sklearn-color-fitted-level-3: cornflowerblue;\n",
              "\n",
              "  /* Specific color for light theme */\n",
              "  --sklearn-color-text-on-default-background: var(--sg-text-color, var(--theme-code-foreground, var(--jp-content-font-color1, black)));\n",
              "  --sklearn-color-background: var(--sg-background-color, var(--theme-background, var(--jp-layout-color0, white)));\n",
              "  --sklearn-color-border-box: var(--sg-text-color, var(--theme-code-foreground, var(--jp-content-font-color1, black)));\n",
              "  --sklearn-color-icon: #696969;\n",
              "\n",
              "  @media (prefers-color-scheme: dark) {\n",
              "    /* Redefinition of color scheme for dark theme */\n",
              "    --sklearn-color-text-on-default-background: var(--sg-text-color, var(--theme-code-foreground, var(--jp-content-font-color1, white)));\n",
              "    --sklearn-color-background: var(--sg-background-color, var(--theme-background, var(--jp-layout-color0, #111)));\n",
              "    --sklearn-color-border-box: var(--sg-text-color, var(--theme-code-foreground, var(--jp-content-font-color1, white)));\n",
              "    --sklearn-color-icon: #878787;\n",
              "  }\n",
              "}\n",
              "\n",
              "#sk-container-id-1 {\n",
              "  color: var(--sklearn-color-text);\n",
              "}\n",
              "\n",
              "#sk-container-id-1 pre {\n",
              "  padding: 0;\n",
              "}\n",
              "\n",
              "#sk-container-id-1 input.sk-hidden--visually {\n",
              "  border: 0;\n",
              "  clip: rect(1px 1px 1px 1px);\n",
              "  clip: rect(1px, 1px, 1px, 1px);\n",
              "  height: 1px;\n",
              "  margin: -1px;\n",
              "  overflow: hidden;\n",
              "  padding: 0;\n",
              "  position: absolute;\n",
              "  width: 1px;\n",
              "}\n",
              "\n",
              "#sk-container-id-1 div.sk-dashed-wrapped {\n",
              "  border: 1px dashed var(--sklearn-color-line);\n",
              "  margin: 0 0.4em 0.5em 0.4em;\n",
              "  box-sizing: border-box;\n",
              "  padding-bottom: 0.4em;\n",
              "  background-color: var(--sklearn-color-background);\n",
              "}\n",
              "\n",
              "#sk-container-id-1 div.sk-container {\n",
              "  /* jupyter's `normalize.less` sets `[hidden] { display: none; }`\n",
              "     but bootstrap.min.css set `[hidden] { display: none !important; }`\n",
              "     so we also need the `!important` here to be able to override the\n",
              "     default hidden behavior on the sphinx rendered scikit-learn.org.\n",
              "     See: https://github.com/scikit-learn/scikit-learn/issues/21755 */\n",
              "  display: inline-block !important;\n",
              "  position: relative;\n",
              "}\n",
              "\n",
              "#sk-container-id-1 div.sk-text-repr-fallback {\n",
              "  display: none;\n",
              "}\n",
              "\n",
              "div.sk-parallel-item,\n",
              "div.sk-serial,\n",
              "div.sk-item {\n",
              "  /* draw centered vertical line to link estimators */\n",
              "  background-image: linear-gradient(var(--sklearn-color-text-on-default-background), var(--sklearn-color-text-on-default-background));\n",
              "  background-size: 2px 100%;\n",
              "  background-repeat: no-repeat;\n",
              "  background-position: center center;\n",
              "}\n",
              "\n",
              "/* Parallel-specific style estimator block */\n",
              "\n",
              "#sk-container-id-1 div.sk-parallel-item::after {\n",
              "  content: \"\";\n",
              "  width: 100%;\n",
              "  border-bottom: 2px solid var(--sklearn-color-text-on-default-background);\n",
              "  flex-grow: 1;\n",
              "}\n",
              "\n",
              "#sk-container-id-1 div.sk-parallel {\n",
              "  display: flex;\n",
              "  align-items: stretch;\n",
              "  justify-content: center;\n",
              "  background-color: var(--sklearn-color-background);\n",
              "  position: relative;\n",
              "}\n",
              "\n",
              "#sk-container-id-1 div.sk-parallel-item {\n",
              "  display: flex;\n",
              "  flex-direction: column;\n",
              "}\n",
              "\n",
              "#sk-container-id-1 div.sk-parallel-item:first-child::after {\n",
              "  align-self: flex-end;\n",
              "  width: 50%;\n",
              "}\n",
              "\n",
              "#sk-container-id-1 div.sk-parallel-item:last-child::after {\n",
              "  align-self: flex-start;\n",
              "  width: 50%;\n",
              "}\n",
              "\n",
              "#sk-container-id-1 div.sk-parallel-item:only-child::after {\n",
              "  width: 0;\n",
              "}\n",
              "\n",
              "/* Serial-specific style estimator block */\n",
              "\n",
              "#sk-container-id-1 div.sk-serial {\n",
              "  display: flex;\n",
              "  flex-direction: column;\n",
              "  align-items: center;\n",
              "  background-color: var(--sklearn-color-background);\n",
              "  padding-right: 1em;\n",
              "  padding-left: 1em;\n",
              "}\n",
              "\n",
              "\n",
              "/* Toggleable style: style used for estimator/Pipeline/ColumnTransformer box that is\n",
              "clickable and can be expanded/collapsed.\n",
              "- Pipeline and ColumnTransformer use this feature and define the default style\n",
              "- Estimators will overwrite some part of the style using the `sk-estimator` class\n",
              "*/\n",
              "\n",
              "/* Pipeline and ColumnTransformer style (default) */\n",
              "\n",
              "#sk-container-id-1 div.sk-toggleable {\n",
              "  /* Default theme specific background. It is overwritten whether we have a\n",
              "  specific estimator or a Pipeline/ColumnTransformer */\n",
              "  background-color: var(--sklearn-color-background);\n",
              "}\n",
              "\n",
              "/* Toggleable label */\n",
              "#sk-container-id-1 label.sk-toggleable__label {\n",
              "  cursor: pointer;\n",
              "  display: flex;\n",
              "  width: 100%;\n",
              "  margin-bottom: 0;\n",
              "  padding: 0.5em;\n",
              "  box-sizing: border-box;\n",
              "  text-align: center;\n",
              "  align-items: start;\n",
              "  justify-content: space-between;\n",
              "  gap: 0.5em;\n",
              "}\n",
              "\n",
              "#sk-container-id-1 label.sk-toggleable__label .caption {\n",
              "  font-size: 0.6rem;\n",
              "  font-weight: lighter;\n",
              "  color: var(--sklearn-color-text-muted);\n",
              "}\n",
              "\n",
              "#sk-container-id-1 label.sk-toggleable__label-arrow:before {\n",
              "  /* Arrow on the left of the label */\n",
              "  content: \"▸\";\n",
              "  float: left;\n",
              "  margin-right: 0.25em;\n",
              "  color: var(--sklearn-color-icon);\n",
              "}\n",
              "\n",
              "#sk-container-id-1 label.sk-toggleable__label-arrow:hover:before {\n",
              "  color: var(--sklearn-color-text);\n",
              "}\n",
              "\n",
              "/* Toggleable content - dropdown */\n",
              "\n",
              "#sk-container-id-1 div.sk-toggleable__content {\n",
              "  max-height: 0;\n",
              "  max-width: 0;\n",
              "  overflow: hidden;\n",
              "  text-align: left;\n",
              "  /* unfitted */\n",
              "  background-color: var(--sklearn-color-unfitted-level-0);\n",
              "}\n",
              "\n",
              "#sk-container-id-1 div.sk-toggleable__content.fitted {\n",
              "  /* fitted */\n",
              "  background-color: var(--sklearn-color-fitted-level-0);\n",
              "}\n",
              "\n",
              "#sk-container-id-1 div.sk-toggleable__content pre {\n",
              "  margin: 0.2em;\n",
              "  border-radius: 0.25em;\n",
              "  color: var(--sklearn-color-text);\n",
              "  /* unfitted */\n",
              "  background-color: var(--sklearn-color-unfitted-level-0);\n",
              "}\n",
              "\n",
              "#sk-container-id-1 div.sk-toggleable__content.fitted pre {\n",
              "  /* unfitted */\n",
              "  background-color: var(--sklearn-color-fitted-level-0);\n",
              "}\n",
              "\n",
              "#sk-container-id-1 input.sk-toggleable__control:checked~div.sk-toggleable__content {\n",
              "  /* Expand drop-down */\n",
              "  max-height: 200px;\n",
              "  max-width: 100%;\n",
              "  overflow: auto;\n",
              "}\n",
              "\n",
              "#sk-container-id-1 input.sk-toggleable__control:checked~label.sk-toggleable__label-arrow:before {\n",
              "  content: \"▾\";\n",
              "}\n",
              "\n",
              "/* Pipeline/ColumnTransformer-specific style */\n",
              "\n",
              "#sk-container-id-1 div.sk-label input.sk-toggleable__control:checked~label.sk-toggleable__label {\n",
              "  color: var(--sklearn-color-text);\n",
              "  background-color: var(--sklearn-color-unfitted-level-2);\n",
              "}\n",
              "\n",
              "#sk-container-id-1 div.sk-label.fitted input.sk-toggleable__control:checked~label.sk-toggleable__label {\n",
              "  background-color: var(--sklearn-color-fitted-level-2);\n",
              "}\n",
              "\n",
              "/* Estimator-specific style */\n",
              "\n",
              "/* Colorize estimator box */\n",
              "#sk-container-id-1 div.sk-estimator input.sk-toggleable__control:checked~label.sk-toggleable__label {\n",
              "  /* unfitted */\n",
              "  background-color: var(--sklearn-color-unfitted-level-2);\n",
              "}\n",
              "\n",
              "#sk-container-id-1 div.sk-estimator.fitted input.sk-toggleable__control:checked~label.sk-toggleable__label {\n",
              "  /* fitted */\n",
              "  background-color: var(--sklearn-color-fitted-level-2);\n",
              "}\n",
              "\n",
              "#sk-container-id-1 div.sk-label label.sk-toggleable__label,\n",
              "#sk-container-id-1 div.sk-label label {\n",
              "  /* The background is the default theme color */\n",
              "  color: var(--sklearn-color-text-on-default-background);\n",
              "}\n",
              "\n",
              "/* On hover, darken the color of the background */\n",
              "#sk-container-id-1 div.sk-label:hover label.sk-toggleable__label {\n",
              "  color: var(--sklearn-color-text);\n",
              "  background-color: var(--sklearn-color-unfitted-level-2);\n",
              "}\n",
              "\n",
              "/* Label box, darken color on hover, fitted */\n",
              "#sk-container-id-1 div.sk-label.fitted:hover label.sk-toggleable__label.fitted {\n",
              "  color: var(--sklearn-color-text);\n",
              "  background-color: var(--sklearn-color-fitted-level-2);\n",
              "}\n",
              "\n",
              "/* Estimator label */\n",
              "\n",
              "#sk-container-id-1 div.sk-label label {\n",
              "  font-family: monospace;\n",
              "  font-weight: bold;\n",
              "  display: inline-block;\n",
              "  line-height: 1.2em;\n",
              "}\n",
              "\n",
              "#sk-container-id-1 div.sk-label-container {\n",
              "  text-align: center;\n",
              "}\n",
              "\n",
              "/* Estimator-specific */\n",
              "#sk-container-id-1 div.sk-estimator {\n",
              "  font-family: monospace;\n",
              "  border: 1px dotted var(--sklearn-color-border-box);\n",
              "  border-radius: 0.25em;\n",
              "  box-sizing: border-box;\n",
              "  margin-bottom: 0.5em;\n",
              "  /* unfitted */\n",
              "  background-color: var(--sklearn-color-unfitted-level-0);\n",
              "}\n",
              "\n",
              "#sk-container-id-1 div.sk-estimator.fitted {\n",
              "  /* fitted */\n",
              "  background-color: var(--sklearn-color-fitted-level-0);\n",
              "}\n",
              "\n",
              "/* on hover */\n",
              "#sk-container-id-1 div.sk-estimator:hover {\n",
              "  /* unfitted */\n",
              "  background-color: var(--sklearn-color-unfitted-level-2);\n",
              "}\n",
              "\n",
              "#sk-container-id-1 div.sk-estimator.fitted:hover {\n",
              "  /* fitted */\n",
              "  background-color: var(--sklearn-color-fitted-level-2);\n",
              "}\n",
              "\n",
              "/* Specification for estimator info (e.g. \"i\" and \"?\") */\n",
              "\n",
              "/* Common style for \"i\" and \"?\" */\n",
              "\n",
              ".sk-estimator-doc-link,\n",
              "a:link.sk-estimator-doc-link,\n",
              "a:visited.sk-estimator-doc-link {\n",
              "  float: right;\n",
              "  font-size: smaller;\n",
              "  line-height: 1em;\n",
              "  font-family: monospace;\n",
              "  background-color: var(--sklearn-color-background);\n",
              "  border-radius: 1em;\n",
              "  height: 1em;\n",
              "  width: 1em;\n",
              "  text-decoration: none !important;\n",
              "  margin-left: 0.5em;\n",
              "  text-align: center;\n",
              "  /* unfitted */\n",
              "  border: var(--sklearn-color-unfitted-level-1) 1pt solid;\n",
              "  color: var(--sklearn-color-unfitted-level-1);\n",
              "}\n",
              "\n",
              ".sk-estimator-doc-link.fitted,\n",
              "a:link.sk-estimator-doc-link.fitted,\n",
              "a:visited.sk-estimator-doc-link.fitted {\n",
              "  /* fitted */\n",
              "  border: var(--sklearn-color-fitted-level-1) 1pt solid;\n",
              "  color: var(--sklearn-color-fitted-level-1);\n",
              "}\n",
              "\n",
              "/* On hover */\n",
              "div.sk-estimator:hover .sk-estimator-doc-link:hover,\n",
              ".sk-estimator-doc-link:hover,\n",
              "div.sk-label-container:hover .sk-estimator-doc-link:hover,\n",
              ".sk-estimator-doc-link:hover {\n",
              "  /* unfitted */\n",
              "  background-color: var(--sklearn-color-unfitted-level-3);\n",
              "  color: var(--sklearn-color-background);\n",
              "  text-decoration: none;\n",
              "}\n",
              "\n",
              "div.sk-estimator.fitted:hover .sk-estimator-doc-link.fitted:hover,\n",
              ".sk-estimator-doc-link.fitted:hover,\n",
              "div.sk-label-container:hover .sk-estimator-doc-link.fitted:hover,\n",
              ".sk-estimator-doc-link.fitted:hover {\n",
              "  /* fitted */\n",
              "  background-color: var(--sklearn-color-fitted-level-3);\n",
              "  color: var(--sklearn-color-background);\n",
              "  text-decoration: none;\n",
              "}\n",
              "\n",
              "/* Span, style for the box shown on hovering the info icon */\n",
              ".sk-estimator-doc-link span {\n",
              "  display: none;\n",
              "  z-index: 9999;\n",
              "  position: relative;\n",
              "  font-weight: normal;\n",
              "  right: .2ex;\n",
              "  padding: .5ex;\n",
              "  margin: .5ex;\n",
              "  width: min-content;\n",
              "  min-width: 20ex;\n",
              "  max-width: 50ex;\n",
              "  color: var(--sklearn-color-text);\n",
              "  box-shadow: 2pt 2pt 4pt #999;\n",
              "  /* unfitted */\n",
              "  background: var(--sklearn-color-unfitted-level-0);\n",
              "  border: .5pt solid var(--sklearn-color-unfitted-level-3);\n",
              "}\n",
              "\n",
              ".sk-estimator-doc-link.fitted span {\n",
              "  /* fitted */\n",
              "  background: var(--sklearn-color-fitted-level-0);\n",
              "  border: var(--sklearn-color-fitted-level-3);\n",
              "}\n",
              "\n",
              ".sk-estimator-doc-link:hover span {\n",
              "  display: block;\n",
              "}\n",
              "\n",
              "/* \"?\"-specific style due to the `<a>` HTML tag */\n",
              "\n",
              "#sk-container-id-1 a.estimator_doc_link {\n",
              "  float: right;\n",
              "  font-size: 1rem;\n",
              "  line-height: 1em;\n",
              "  font-family: monospace;\n",
              "  background-color: var(--sklearn-color-background);\n",
              "  border-radius: 1rem;\n",
              "  height: 1rem;\n",
              "  width: 1rem;\n",
              "  text-decoration: none;\n",
              "  /* unfitted */\n",
              "  color: var(--sklearn-color-unfitted-level-1);\n",
              "  border: var(--sklearn-color-unfitted-level-1) 1pt solid;\n",
              "}\n",
              "\n",
              "#sk-container-id-1 a.estimator_doc_link.fitted {\n",
              "  /* fitted */\n",
              "  border: var(--sklearn-color-fitted-level-1) 1pt solid;\n",
              "  color: var(--sklearn-color-fitted-level-1);\n",
              "}\n",
              "\n",
              "/* On hover */\n",
              "#sk-container-id-1 a.estimator_doc_link:hover {\n",
              "  /* unfitted */\n",
              "  background-color: var(--sklearn-color-unfitted-level-3);\n",
              "  color: var(--sklearn-color-background);\n",
              "  text-decoration: none;\n",
              "}\n",
              "\n",
              "#sk-container-id-1 a.estimator_doc_link.fitted:hover {\n",
              "  /* fitted */\n",
              "  background-color: var(--sklearn-color-fitted-level-3);\n",
              "}\n",
              "</style><div id=\"sk-container-id-1\" class=\"sk-top-container\"><div class=\"sk-text-repr-fallback\"><pre>GridSearchCV(cv=3, estimator=RandomForestClassifier(random_state=42), n_jobs=-1,\n",
              "             param_grid={&#x27;max_depth&#x27;: [10, 20], &#x27;min_samples_split&#x27;: [2, 5],\n",
              "                         &#x27;n_estimators&#x27;: [50, 100]},\n",
              "             verbose=1)</pre><b>In a Jupyter environment, please rerun this cell to show the HTML representation or trust the notebook. <br />On GitHub, the HTML representation is unable to render, please try loading this page with nbviewer.org.</b></div><div class=\"sk-container\" hidden><div class=\"sk-item sk-dashed-wrapped\"><div class=\"sk-label-container\"><div class=\"sk-label fitted sk-toggleable\"><input class=\"sk-toggleable__control sk-hidden--visually\" id=\"sk-estimator-id-1\" type=\"checkbox\" ><label for=\"sk-estimator-id-1\" class=\"sk-toggleable__label fitted sk-toggleable__label-arrow\"><div><div>GridSearchCV</div></div><div><a class=\"sk-estimator-doc-link fitted\" rel=\"noreferrer\" target=\"_blank\" href=\"https://scikit-learn.org/1.6/modules/generated/sklearn.model_selection.GridSearchCV.html\">?<span>Documentation for GridSearchCV</span></a><span class=\"sk-estimator-doc-link fitted\">i<span>Fitted</span></span></div></label><div class=\"sk-toggleable__content fitted\"><pre>GridSearchCV(cv=3, estimator=RandomForestClassifier(random_state=42), n_jobs=-1,\n",
              "             param_grid={&#x27;max_depth&#x27;: [10, 20], &#x27;min_samples_split&#x27;: [2, 5],\n",
              "                         &#x27;n_estimators&#x27;: [50, 100]},\n",
              "             verbose=1)</pre></div> </div></div><div class=\"sk-parallel\"><div class=\"sk-parallel-item\"><div class=\"sk-item\"><div class=\"sk-label-container\"><div class=\"sk-label fitted sk-toggleable\"><input class=\"sk-toggleable__control sk-hidden--visually\" id=\"sk-estimator-id-2\" type=\"checkbox\" ><label for=\"sk-estimator-id-2\" class=\"sk-toggleable__label fitted sk-toggleable__label-arrow\"><div><div>best_estimator_: RandomForestClassifier</div></div></label><div class=\"sk-toggleable__content fitted\"><pre>RandomForestClassifier(max_depth=20, min_samples_split=5, n_estimators=50,\n",
              "                       random_state=42)</pre></div> </div></div><div class=\"sk-serial\"><div class=\"sk-item\"><div class=\"sk-estimator fitted sk-toggleable\"><input class=\"sk-toggleable__control sk-hidden--visually\" id=\"sk-estimator-id-3\" type=\"checkbox\" ><label for=\"sk-estimator-id-3\" class=\"sk-toggleable__label fitted sk-toggleable__label-arrow\"><div><div>RandomForestClassifier</div></div><div><a class=\"sk-estimator-doc-link fitted\" rel=\"noreferrer\" target=\"_blank\" href=\"https://scikit-learn.org/1.6/modules/generated/sklearn.ensemble.RandomForestClassifier.html\">?<span>Documentation for RandomForestClassifier</span></a></div></label><div class=\"sk-toggleable__content fitted\"><pre>RandomForestClassifier(max_depth=20, min_samples_split=5, n_estimators=50,\n",
              "                       random_state=42)</pre></div> </div></div></div></div></div></div></div></div></div>"
            ]
          },
          "metadata": {},
          "execution_count": 93
        }
      ]
    },
    {
      "cell_type": "markdown",
      "source": [
        "# Classification Model Evaluation"
      ],
      "metadata": {
        "id": "7SYk_4wXjAmG"
      }
    },
    {
      "cell_type": "code",
      "source": [
        "# Best model from grid search\n",
        "best_rf = grid_search.best_estimator_"
      ],
      "metadata": {
        "id": "TEe2M2SEGE_k"
      },
      "execution_count": 94,
      "outputs": []
    },
    {
      "cell_type": "code",
      "source": [
        "# Predict and evaluate\n",
        "y_pred = best_rf.predict(X_test)\n",
        "print(\"Best Parameters:\\n\", grid_search.best_params_)"
      ],
      "metadata": {
        "colab": {
          "base_uri": "https://localhost:8080/"
        },
        "id": "LYcAOQmNGJ2E",
        "outputId": "9bd0b8dc-39b8-429a-b615-140920209a41"
      },
      "execution_count": 95,
      "outputs": [
        {
          "output_type": "stream",
          "name": "stdout",
          "text": [
            "Best Parameters:\n",
            " {'max_depth': 20, 'min_samples_split': 5, 'n_estimators': 50}\n"
          ]
        }
      ]
    },
    {
      "cell_type": "code",
      "source": [
        "score = accuracy_score(y_test, y_pred)\n",
        "print(\"Accuracy:\", score)"
      ],
      "metadata": {
        "colab": {
          "base_uri": "https://localhost:8080/"
        },
        "id": "90NbolpZOjcj",
        "outputId": "681194a0-c802-4f71-9c0d-877d4092ad97"
      },
      "execution_count": 96,
      "outputs": [
        {
          "output_type": "stream",
          "name": "stdout",
          "text": [
            "Accuracy: 0.9829248712374733\n"
          ]
        }
      ]
    },
    {
      "cell_type": "code",
      "source": [
        "from sklearn.metrics import classification_report\n",
        "print(classification_report(y_test, y_pred))\n"
      ],
      "metadata": {
        "colab": {
          "base_uri": "https://localhost:8080/"
        },
        "id": "DZuVnfEbPhtA",
        "outputId": "72e7a0fe-2e95-4157-a547-f7a921e77727"
      },
      "execution_count": 97,
      "outputs": [
        {
          "output_type": "stream",
          "name": "stdout",
          "text": [
            "              precision    recall  f1-score   support\n",
            "\n",
            "           1       0.99      0.98      0.98     33008\n",
            "           2       0.98      0.98      0.98     44644\n",
            "           3       0.99      0.99      0.99     33211\n",
            "\n",
            "    accuracy                           0.98    110863\n",
            "   macro avg       0.98      0.98      0.98    110863\n",
            "weighted avg       0.98      0.98      0.98    110863\n",
            "\n"
          ]
        }
      ]
    },
    {
      "cell_type": "code",
      "source": [
        "from sklearn.metrics import confusion_matrix, ConfusionMatrixDisplay\n",
        "\n",
        "cm = confusion_matrix(y_test, y_pred)\n",
        "disp = ConfusionMatrixDisplay(confusion_matrix=cm)\n",
        "disp.plot(cmap=\"Blues\")\n",
        "plt.title(\"Confusion Matrix\")\n",
        "plt.show()\n"
      ],
      "metadata": {
        "colab": {
          "base_uri": "https://localhost:8080/",
          "height": 472
        },
        "id": "jvFIwDddPsXB",
        "outputId": "c5e898e1-4eab-4e18-9baa-452a62695b0a"
      },
      "execution_count": 98,
      "outputs": [
        {
          "output_type": "display_data",
          "data": {
            "text/plain": [
              "<Figure size 640x480 with 2 Axes>"
            ],
            "image/png": "[encoded data removed]"
          },
          "metadata": {}
        }
      ]
    },
    {
      "cell_type": "code",
      "source": [
        "df_regression = df_encoded.copy()"
      ],
      "metadata": {
        "id": "kPzOq0fL8YRo"
      },
      "execution_count": 99,
      "outputs": []
    },
    {
      "cell_type": "code",
      "source": [
        "df_regression.to_csv('df_regression.csv', index=False)"
      ],
      "metadata": {
        "id": "EObWTklDkaDU"
      },
      "execution_count": 100,
      "outputs": []
    },
    {
      "cell_type": "markdown",
      "source": [
        "# Feature Selection for Regression Model"
      ],
      "metadata": {
        "id": "fogr9oWGVP2K"
      }
    },
    {
      "cell_type": "code",
      "source": [
        "# Select features and target for regression\n",
        "features = [\n",
        "    \"Reporting_Year / Année\",\n",
        "    \"NAICS Title / Titre Code_SCIAN\",\n",
        "    \"PROVINCE\",\n",
        "    \"Estimation_Method / Méthode_d’estimation\",\n",
        "    \"Years Since 2000\",\n",
        "    \"Prev_Year_Pollution\",\n",
        "    'Growth Rate (%)',\n",
        "    \"Prev_Year_Growth\",\n",
        "    \"High Emission Industry\",\n",
        "    \"Is_COVID_Year\",\n",
        "    \"Region\",\n",
        "    \"Pollution Category\",\n",
        "    \"Estimation_Method_Type\",\n",
        "    \"Prev_Year_Category\"\n",
        "]\n",
        "\n",
        "target = \"Total Releases (Summed)\""
      ],
      "metadata": {
        "id": "nKfq7DwG8ei3"
      },
      "execution_count": 101,
      "outputs": []
    },
    {
      "cell_type": "code",
      "source": [
        "X = df_regression.drop(columns=[target])\n",
        "y = df_regression[target]"
      ],
      "metadata": {
        "id": "fdBydOlz8msH"
      },
      "execution_count": 102,
      "outputs": []
    },
    {
      "cell_type": "code",
      "source": [
        "X.head()"
      ],
      "metadata": {
        "colab": {
          "base_uri": "https://localhost:8080/",
          "height": 278
        },
        "id": "GoxR8OPg81R-",
        "outputId": "ef7e7768-b8bd-4beb-9f1a-c8c0c74e3f1a"
      },
      "execution_count": 103,
      "outputs": [
        {
          "output_type": "execute_result",
          "data": {
            "text/plain": [
              "      Reporting_Year / Année  NAICS Title / Titre Code_SCIAN  PROVINCE  \\\n",
              "5211                    2000                               0         8   \n",
              "5212                    2000                               0         8   \n",
              "5213                    2000                               0         8   \n",
              "6263                    2000                               0         8   \n",
              "6264                    2000                               0         8   \n",
              "\n",
              "      Estimation_Method / Méthode_d’estimation  Years Since 2000  \\\n",
              "5211                                         5                 0   \n",
              "5212                                        11                 0   \n",
              "5213                                        11                 0   \n",
              "6263                                         1                 0   \n",
              "6264                                         2                 0   \n",
              "\n",
              "      Prev_Year_Pollution  Growth Rate (%)  High Emission Industry  \\\n",
              "5211            -0.071647         -0.00169                       0   \n",
              "5212            -0.071726         -0.00169                       0   \n",
              "5213            -0.071677         -0.00169                       0   \n",
              "6263            -0.071733         -0.00168                       0   \n",
              "6264            -0.065929         -0.00169                       0   \n",
              "\n",
              "      Is_COVID_Year  Region  Estimation_Method_Type  Pollution Category  \\\n",
              "5211              0       0                       0                   1   \n",
              "5212              0       0                       1                   1   \n",
              "5213              0       0                       1                   1   \n",
              "6263              0       0                       1                   2   \n",
              "6264              0       0                       1                   2   \n",
              "\n",
              "      Prev_Year_Category  Prev_Year_Growth  \n",
              "5211                 1.0         -0.001749  \n",
              "5212                 1.0         -0.001749  \n",
              "5213                 1.0         -0.001749  \n",
              "6263                 1.0         -0.001749  \n",
              "6264                 2.0         -0.001739  "
            ],
            "text/html": [
              "\n",
              "  <div id=\"df-e5e1c2f3-576c-40cf-ae42-e375c71eab16\" class=\"colab-df-container\">\n",
              "    <div>\n",
              "<style scoped>\n",
              "    .dataframe tbody tr th:only-of-type {\n",
              "        vertical-align: middle;\n",
              "    }\n",
              "\n",
              "    .dataframe tbody tr th {\n",
              "        vertical-align: top;\n",
              "    }\n",
              "\n",
              "    .dataframe thead th {\n",
              "        text-align: right;\n",
              "    }\n",
              "</style>\n",
              "<table border=\"1\" class=\"dataframe\">\n",
              "  <thead>\n",
              "    <tr style=\"text-align: right;\">\n",
              "      <th></th>\n",
              "      <th>Reporting_Year / Année</th>\n",
              "      <th>NAICS Title / Titre Code_SCIAN</th>\n",
              "      <th>PROVINCE</th>\n",
              "      <th>Estimation_Method / Méthode_d’estimation</th>\n",
              "      <th>Years Since 2000</th>\n",
              "      <th>Prev_Year_Pollution</th>\n",
              "      <th>Growth Rate (%)</th>\n",
              "      <th>High Emission Industry</th>\n",
              "      <th>Is_COVID_Year</th>\n",
              "      <th>Region</th>\n",
              "      <th>Estimation_Method_Type</th>\n",
              "      <th>Pollution Category</th>\n",
              "      <th>Prev_Year_Category</th>\n",
              "      <th>Prev_Year_Growth</th>\n",
              "    </tr>\n",
              "  </thead>\n",
              "  <tbody>\n",
              "    <tr>\n",
              "      <th>5211</th>\n",
              "      <td>2000</td>\n",
              "      <td>0</td>\n",
              "      <td>8</td>\n",
              "      <td>5</td>\n",
              "      <td>0</td>\n",
              "      <td>-0.071647</td>\n",
              "      <td>-0.00169</td>\n",
              "      <td>0</td>\n",
              "      <td>0</td>\n",
              "      <td>0</td>\n",
              "      <td>0</td>\n",
              "      <td>1</td>\n",
              "      <td>1.0</td>\n",
              "      <td>-0.001749</td>\n",
              "    </tr>\n",
              "    <tr>\n",
              "      <th>5212</th>\n",
              "      <td>2000</td>\n",
              "      <td>0</td>\n",
              "      <td>8</td>\n",
              "      <td>11</td>\n",
              "      <td>0</td>\n",
              "      <td>-0.071726</td>\n",
              "      <td>-0.00169</td>\n",
              "      <td>0</td>\n",
              "      <td>0</td>\n",
              "      <td>0</td>\n",
              "      <td>1</td>\n",
              "      <td>1</td>\n",
              "      <td>1.0</td>\n",
              "      <td>-0.001749</td>\n",
              "    </tr>\n",
              "    <tr>\n",
              "      <th>5213</th>\n",
              "      <td>2000</td>\n",
              "      <td>0</td>\n",
              "      <td>8</td>\n",
              "      <td>11</td>\n",
              "      <td>0</td>\n",
              "      <td>-0.071677</td>\n",
              "      <td>-0.00169</td>\n",
              "      <td>0</td>\n",
              "      <td>0</td>\n",
              "      <td>0</td>\n",
              "      <td>1</td>\n",
              "      <td>1</td>\n",
              "      <td>1.0</td>\n",
              "      <td>-0.001749</td>\n",
              "    </tr>\n",
              "    <tr>\n",
              "      <th>6263</th>\n",
              "      <td>2000</td>\n",
              "      <td>0</td>\n",
              "      <td>8</td>\n",
              "      <td>1</td>\n",
              "      <td>0</td>\n",
              "      <td>-0.071733</td>\n",
              "      <td>-0.00168</td>\n",
              "      <td>0</td>\n",
              "      <td>0</td>\n",
              "      <td>0</td>\n",
              "      <td>1</td>\n",
              "      <td>2</td>\n",
              "      <td>1.0</td>\n",
              "      <td>-0.001749</td>\n",
              "    </tr>\n",
              "    <tr>\n",
              "      <th>6264</th>\n",
              "      <td>2000</td>\n",
              "      <td>0</td>\n",
              "      <td>8</td>\n",
              "      <td>2</td>\n",
              "      <td>0</td>\n",
              "      <td>-0.065929</td>\n",
              "      <td>-0.00169</td>\n",
              "      <td>0</td>\n",
              "      <td>0</td>\n",
              "      <td>0</td>\n",
              "      <td>1</td>\n",
              "      <td>2</td>\n",
              "      <td>2.0</td>\n",
              "      <td>-0.001739</td>\n",
              "    </tr>\n",
              "  </tbody>\n",
              "</table>\n",
              "</div>\n",
              "    <div class=\"colab-df-buttons\">\n",
              "\n",
              "  <div class=\"colab-df-container\">\n",
              "    <button class=\"colab-df-convert\" onclick=\"convertToInteractive('df-e5e1c2f3-576c-40cf-ae42-e375c71eab16')\"\n",
              "            title=\"Convert this dataframe to an interactive table.\"\n",
              "            style=\"display:none;\">\n",
              "\n",
              "  <svg xmlns=\"http://www.w3.org/2000/svg\" height=\"24px\" viewBox=\"0 -960 960 960\">\n",
              "    <path d=\"M120-120v-720h720v720H120Zm60-500h600v-160H180v160Zm220 220h160v-160H400v160Zm0 220h160v-160H400v160ZM180-400h160v-160H180v160Zm440 0h160v-160H620v160ZM180-180h160v-160H180v160Zm440 0h160v-160H620v160Z\"/>\n",
              "  </svg>\n",
              "    </button>\n",
              "\n",
              "  <style>\n",
              "    .colab-df-container {\n",
              "      display:flex;\n",
              "      gap: 12px;\n",
              "    }\n",
              "\n",
              "    .colab-df-convert {\n",
              "      background-color: #E8F0FE;\n",
              "      border: none;\n",
              "      border-radius: 50%;\n",
              "      cursor: pointer;\n",
              "      display: none;\n",
              "      fill: #1967D2;\n",
              "      height: 32px;\n",
              "      padding: 0 0 0 0;\n",
              "      width: 32px;\n",
              "    }\n",
              "\n",
              "    .colab-df-convert:hover {\n",
              "      background-color: #E2EBFA;\n",
              "      box-shadow: 0px 1px 2px rgba(60, 64, 67, 0.3), 0px 1px 3px 1px rgba(60, 64, 67, 0.15);\n",
              "      fill: #174EA6;\n",
              "    }\n",
              "\n",
              "    .colab-df-buttons div {\n",
              "      margin-bottom: 4px;\n",
              "    }\n",
              "\n",
              "    [theme=dark] .colab-df-convert {\n",
              "      background-color: #3B4455;\n",
              "      fill: #D2E3FC;\n",
              "    }\n",
              "\n",
              "    [theme=dark] .colab-df-convert:hover {\n",
              "      background-color: #434B5C;\n",
              "      box-shadow: 0px 1px 3px 1px rgba(0, 0, 0, 0.15);\n",
              "      filter: drop-shadow(0px 1px 2px rgba(0, 0, 0, 0.3));\n",
              "      fill: #FFFFFF;\n",
              "    }\n",
              "  </style>\n",
              "\n",
              "    <script>\n",
              "      const buttonEl =\n",
              "        document.querySelector('#df-e5e1c2f3-576c-40cf-ae42-e375c71eab16 button.colab-df-convert');\n",
              "      buttonEl.style.display =\n",
              "        google.colab.kernel.accessAllowed ? 'block' : 'none';\n",
              "\n",
              "      async function convertToInteractive(key) {\n",
              "        const element = document.querySelector('#df-e5e1c2f3-576c-40cf-ae42-e375c71eab16');\n",
              "        const dataTable =\n",
              "          await google.colab.kernel.invokeFunction('convertToInteractive',\n",
              "                                                    [key], {});\n",
              "        if (!dataTable) return;\n",
              "\n",
              "        const docLinkHtml = 'Like what you see? Visit the ' +\n",
              "          '<a target=\"_blank\" href=https://colab.research.google.com/notebooks/data_table.ipynb>data table notebook</a>'\n",
              "          + ' to learn more about interactive tables.';\n",
              "        element.innerHTML = '';\n",
              "        dataTable['output_type'] = 'display_data';\n",
              "        await google.colab.output.renderOutput(dataTable, element);\n",
              "        const docLink = document.createElement('div');\n",
              "        docLink.innerHTML = docLinkHtml;\n",
              "        element.appendChild(docLink);\n",
              "      }\n",
              "    </script>\n",
              "  </div>\n",
              "\n",
              "\n",
              "<div id=\"df-5004001e-6141-45e3-8be9-a2434397165c\">\n",
              "  <button class=\"colab-df-quickchart\" onclick=\"quickchart('df-5004001e-6141-45e3-8be9-a2434397165c')\"\n",
              "            title=\"Suggest charts\"\n",
              "            style=\"display:none;\">\n",
              "\n",
              "<svg xmlns=\"http://www.w3.org/2000/svg\" height=\"24px\"viewBox=\"0 0 24 24\"\n",
              "     width=\"24px\">\n",
              "    <g>\n",
              "        <path d=\"M19 3H5c-1.1 0-2 .9-2 2v14c0 1.1.9 2 2 2h14c1.1 0 2-.9 2-2V5c0-1.1-.9-2-2-2zM9 17H7v-7h2v7zm4 0h-2V7h2v10zm4 0h-2v-4h2v4z\"/>\n",
              "    </g>\n",
              "</svg>\n",
              "  </button>\n",
              "\n",
              "<style>\n",
              "  .colab-df-quickchart {\n",
              "      --bg-color: #E8F0FE;\n",
              "      --fill-color: #1967D2;\n",
              "      --hover-bg-color: #E2EBFA;\n",
              "      --hover-fill-color: #174EA6;\n",
              "      --disabled-fill-color: #AAA;\n",
              "      --disabled-bg-color: #DDD;\n",
              "  }\n",
              "\n",
              "  [theme=dark] .colab-df-quickchart {\n",
              "      --bg-color: #3B4455;\n",
              "      --fill-color: #D2E3FC;\n",
              "      --hover-bg-color: #434B5C;\n",
              "      --hover-fill-color: #FFFFFF;\n",
              "      --disabled-bg-color: #3B4455;\n",
              "      --disabled-fill-color: #666;\n",
              "  }\n",
              "\n",
              "  .colab-df-quickchart {\n",
              "    background-color: var(--bg-color);\n",
              "    border: none;\n",
              "    border-radius: 50%;\n",
              "    cursor: pointer;\n",
              "    display: none;\n",
              "    fill: var(--fill-color);\n",
              "    height: 32px;\n",
              "    padding: 0;\n",
              "    width: 32px;\n",
              "  }\n",
              "\n",
              "  .colab-df-quickchart:hover {\n",
              "    background-color: var(--hover-bg-color);\n",
              "    box-shadow: 0 1px 2px rgba(60, 64, 67, 0.3), 0 1px 3px 1px rgba(60, 64, 67, 0.15);\n",
              "    fill: var(--button-hover-fill-color);\n",
              "  }\n",
              "\n",
              "  .colab-df-quickchart-complete:disabled,\n",
              "  .colab-df-quickchart-complete:disabled:hover {\n",
              "    background-color: var(--disabled-bg-color);\n",
              "    fill: var(--disabled-fill-color);\n",
              "    box-shadow: none;\n",
              "  }\n",
              "\n",
              "  .colab-df-spinner {\n",
              "    border: 2px solid var(--fill-color);\n",
              "    border-color: transparent;\n",
              "    border-bottom-color: var(--fill-color);\n",
              "    animation:\n",
              "      spin 1s steps(1) infinite;\n",
              "  }\n",
              "\n",
              "  @keyframes spin {\n",
              "    0% {\n",
              "      border-color: transparent;\n",
              "      border-bottom-color: var(--fill-color);\n",
              "      border-left-color: var(--fill-color);\n",
              "    }\n",
              "    20% {\n",
              "      border-color: transparent;\n",
              "      border-left-color: var(--fill-color);\n",
              "      border-top-color: var(--fill-color);\n",
              "    }\n",
              "    30% {\n",
              "      border-color: transparent;\n",
              "      border-left-color: var(--fill-color);\n",
              "      border-top-color: var(--fill-color);\n",
              "      border-right-color: var(--fill-color);\n",
              "    }\n",
              "    40% {\n",
              "      border-color: transparent;\n",
              "      border-right-color: var(--fill-color);\n",
              "      border-top-color: var(--fill-color);\n",
              "    }\n",
              "    60% {\n",
              "      border-color: transparent;\n",
              "      border-right-color: var(--fill-color);\n",
              "    }\n",
              "    80% {\n",
              "      border-color: transparent;\n",
              "      border-right-color: var(--fill-color);\n",
              "      border-bottom-color: var(--fill-color);\n",
              "    }\n",
              "    90% {\n",
              "      border-color: transparent;\n",
              "      border-bottom-color: var(--fill-color);\n",
              "    }\n",
              "  }\n",
              "</style>\n",
              "\n",
              "  <script>\n",
              "    async function quickchart(key) {\n",
              "      const quickchartButtonEl =\n",
              "        document.querySelector('#' + key + ' button');\n",
              "      quickchartButtonEl.disabled = true;  // To prevent multiple clicks.\n",
              "      quickchartButtonEl.classList.add('colab-df-spinner');\n",
              "      try {\n",
              "        const charts = await google.colab.kernel.invokeFunction(\n",
              "            'suggestCharts', [key], {});\n",
              "      } catch (error) {\n",
              "        console.error('Error during call to suggestCharts:', error);\n",
              "      }\n",
              "      quickchartButtonEl.classList.remove('colab-df-spinner');\n",
              "      quickchartButtonEl.classList.add('colab-df-quickchart-complete');\n",
              "    }\n",
              "    (() => {\n",
              "      let quickchartButtonEl =\n",
              "        document.querySelector('#df-5004001e-6141-45e3-8be9-a2434397165c button');\n",
              "      quickchartButtonEl.style.display =\n",
              "        google.colab.kernel.accessAllowed ? 'block' : 'none';\n",
              "    })();\n",
              "  </script>\n",
              "</div>\n",
              "\n",
              "    </div>\n",
              "  </div>\n"
            ],
            "application/vnd.google.colaboratory.intrinsic+json": {
              "type": "dataframe",
              "variable_name": "X"
            }
          },
          "metadata": {},
          "execution_count": 103
        }
      ]
    },
    {
      "cell_type": "code",
      "source": [
        "y.head()"
      ],
      "metadata": {
        "colab": {
          "base_uri": "https://localhost:8080/",
          "height": 241
        },
        "id": "KYp-MzXm85IP",
        "outputId": "c204d841-5125-4bb4-f94a-4b167b33243b"
      },
      "execution_count": 104,
      "outputs": [
        {
          "output_type": "execute_result",
          "data": {
            "text/plain": [
              "5211   -0.068235\n",
              "5212   -0.068182\n",
              "5213   -0.068242\n",
              "6263   -0.062071\n",
              "6264   -0.067933\n",
              "Name: Total Releases (Summed), dtype: float64"
            ],
            "text/html": [
              "<div>\n",
              "<style scoped>\n",
              "    .dataframe tbody tr th:only-of-type {\n",
              "        vertical-align: middle;\n",
              "    }\n",
              "\n",
              "    .dataframe tbody tr th {\n",
              "        vertical-align: top;\n",
              "    }\n",
              "\n",
              "    .dataframe thead th {\n",
              "        text-align: right;\n",
              "    }\n",
              "</style>\n",
              "<table border=\"1\" class=\"dataframe\">\n",
              "  <thead>\n",
              "    <tr style=\"text-align: right;\">\n",
              "      <th></th>\n",
              "      <th>Total Releases (Summed)</th>\n",
              "    </tr>\n",
              "  </thead>\n",
              "  <tbody>\n",
              "    <tr>\n",
              "      <th>5211</th>\n",
              "      <td>-0.068235</td>\n",
              "    </tr>\n",
              "    <tr>\n",
              "      <th>5212</th>\n",
              "      <td>-0.068182</td>\n",
              "    </tr>\n",
              "    <tr>\n",
              "      <th>5213</th>\n",
              "      <td>-0.068242</td>\n",
              "    </tr>\n",
              "    <tr>\n",
              "      <th>6263</th>\n",
              "      <td>-0.062071</td>\n",
              "    </tr>\n",
              "    <tr>\n",
              "      <th>6264</th>\n",
              "      <td>-0.067933</td>\n",
              "    </tr>\n",
              "  </tbody>\n",
              "</table>\n",
              "</div><br><label><b>dtype:</b> float64</label>"
            ]
          },
          "metadata": {},
          "execution_count": 104
        }
      ]
    },
    {
      "cell_type": "markdown",
      "source": [
        "# ***Time-Based Train-Test Split for Regression Model 1***"
      ],
      "metadata": {
        "id": "y7HJnkRI2QBf"
      }
    },
    {
      "cell_type": "markdown",
      "source": [
        "X_train contains only the feature columns for years up to 2019\n",
        "\n",
        "y_train contains the target column for those same years"
      ],
      "metadata": {
        "id": "3ydQ_rKln8Hb"
      }
    },
    {
      "cell_type": "code",
      "source": [
        "# Time-aware train-test split using year <= 2019 for training\n",
        "split_year = 2019\n",
        "X_train = X[df_regression[\"Reporting_Year / Année\"] <= split_year]\n",
        "X_test = X[df_regression[\"Reporting_Year / Année\"] > split_year]\n",
        "y_train = y[df_regression[\"Reporting_Year / Année\"] <= split_year]\n",
        "y_test = y[df_regression[\"Reporting_Year / Année\"] > split_year]\n"
      ],
      "metadata": {
        "id": "cqC7Tf-L9AGL"
      },
      "execution_count": 105,
      "outputs": []
    },
    {
      "cell_type": "markdown",
      "source": [
        "# ***Hyperparameter Tunning for Regression Model 1***"
      ],
      "metadata": {
        "id": "GpLXx14qgTJD"
      }
    },
    {
      "cell_type": "code",
      "source": [
        "# define parameter grid\n",
        "n_estimators = [50]\n",
        "max_depth = [ 20]\n",
        "min_samples_split = [ 5]\n",
        "\n",
        "param_grid = {\n",
        "    'n_estimators': n_estimators,\n",
        "    'max_depth': max_depth,\n",
        "    'min_samples_split': min_samples_split\n",
        "}"
      ],
      "metadata": {
        "id": "E5kejaHefdra"
      },
      "execution_count": 106,
      "outputs": []
    },
    {
      "cell_type": "markdown",
      "source": [
        "# **Model 1: Random Forest **"
      ],
      "metadata": {
        "id": "QFYSetOHG4Mj"
      }
    },
    {
      "cell_type": "code",
      "source": [
        "from sklearn.ensemble import RandomForestRegressor\n",
        "\n",
        "# Train a Random Forest model\n",
        "rf_model = RandomForestRegressor( random_state=42)\n",
        "grid_search_2 = GridSearchCV(estimator=rf_model,\n",
        "                           param_grid=param_grid,\n",
        "                           cv=3,\n",
        "                           n_jobs=-1,\n",
        "                           verbose=1)\n",
        "grid_search_2.fit(X_train, y_train)\n",
        "\n",
        "\n",
        "\n",
        "\n",
        "\n"
      ],
      "metadata": {
        "colab": {
          "base_uri": "https://localhost:8080/",
          "height": 183
        },
        "id": "9D1vssbN93CJ",
        "outputId": "b82f79d8-5a6d-4d46-f66a-3aacdf76ca14"
      },
      "execution_count": 107,
      "outputs": [
        {
          "output_type": "stream",
          "name": "stdout",
          "text": [
            "Fitting 3 folds for each of 1 candidates, totalling 3 fits\n"
          ]
        },
        {
          "output_type": "execute_result",
          "data": {
            "text/plain": [
              "GridSearchCV(cv=3, estimator=RandomForestRegressor(random_state=42), n_jobs=-1,\n",
              "             param_grid={'max_depth': [20], 'min_samples_split': [5],\n",
              "                         'n_estimators': [50]},\n",
              "             verbose=1)"
            ],
            "text/html": [
              "<style>#sk-container-id-2 {\n",
              "  /* Definition of color scheme common for light and dark mode */\n",
              "  --sklearn-color-text: #000;\n",
              "  --sklearn-color-text-muted: #666;\n",
              "  --sklearn-color-line: gray;\n",
              "  /* Definition of color scheme for unfitted estimators */\n",
              "  --sklearn-color-unfitted-level-0: #fff5e6;\n",
              "  --sklearn-color-unfitted-level-1: #f6e4d2;\n",
              "  --sklearn-color-unfitted-level-2: #ffe0b3;\n",
              "  --sklearn-color-unfitted-level-3: chocolate;\n",
              "  /* Definition of color scheme for fitted estimators */\n",
              "  --sklearn-color-fitted-level-0: #f0f8ff;\n",
              "  --sklearn-color-fitted-level-1: #d4ebff;\n",
              "  --sklearn-color-fitted-level-2: #b3dbfd;\n",
              "  --sklearn-color-fitted-level-3: cornflowerblue;\n",
              "\n",
              "  /* Specific color for light theme */\n",
              "  --sklearn-color-text-on-default-background: var(--sg-text-color, var(--theme-code-foreground, var(--jp-content-font-color1, black)));\n",
              "  --sklearn-color-background: var(--sg-background-color, var(--theme-background, var(--jp-layout-color0, white)));\n",
              "  --sklearn-color-border-box: var(--sg-text-color, var(--theme-code-foreground, var(--jp-content-font-color1, black)));\n",
              "  --sklearn-color-icon: #696969;\n",
              "\n",
              "  @media (prefers-color-scheme: dark) {\n",
              "    /* Redefinition of color scheme for dark theme */\n",
              "    --sklearn-color-text-on-default-background: var(--sg-text-color, var(--theme-code-foreground, var(--jp-content-font-color1, white)));\n",
              "    --sklearn-color-background: var(--sg-background-color, var(--theme-background, var(--jp-layout-color0, #111)));\n",
              "    --sklearn-color-border-box: var(--sg-text-color, var(--theme-code-foreground, var(--jp-content-font-color1, white)));\n",
              "    --sklearn-color-icon: #878787;\n",
              "  }\n",
              "}\n",
              "\n",
              "#sk-container-id-2 {\n",
              "  color: var(--sklearn-color-text);\n",
              "}\n",
              "\n",
              "#sk-container-id-2 pre {\n",
              "  padding: 0;\n",
              "}\n",
              "\n",
              "#sk-container-id-2 input.sk-hidden--visually {\n",
              "  border: 0;\n",
              "  clip: rect(1px 1px 1px 1px);\n",
              "  clip: rect(1px, 1px, 1px, 1px);\n",
              "  height: 1px;\n",
              "  margin: -1px;\n",
              "  overflow: hidden;\n",
              "  padding: 0;\n",
              "  position: absolute;\n",
              "  width: 1px;\n",
              "}\n",
              "\n",
              "#sk-container-id-2 div.sk-dashed-wrapped {\n",
              "  border: 1px dashed var(--sklearn-color-line);\n",
              "  margin: 0 0.4em 0.5em 0.4em;\n",
              "  box-sizing: border-box;\n",
              "  padding-bottom: 0.4em;\n",
              "  background-color: var(--sklearn-color-background);\n",
              "}\n",
              "\n",
              "#sk-container-id-2 div.sk-container {\n",
              "  /* jupyter's `normalize.less` sets `[hidden] { display: none; }`\n",
              "     but bootstrap.min.css set `[hidden] { display: none !important; }`\n",
              "     so we also need the `!important` here to be able to override the\n",
              "     default hidden behavior on the sphinx rendered scikit-learn.org.\n",
              "     See: https://github.com/scikit-learn/scikit-learn/issues/21755 */\n",
              "  display: inline-block !important;\n",
              "  position: relative;\n",
              "}\n",
              "\n",
              "#sk-container-id-2 div.sk-text-repr-fallback {\n",
              "  display: none;\n",
              "}\n",
              "\n",
              "div.sk-parallel-item,\n",
              "div.sk-serial,\n",
              "div.sk-item {\n",
              "  /* draw centered vertical line to link estimators */\n",
              "  background-image: linear-gradient(var(--sklearn-color-text-on-default-background), var(--sklearn-color-text-on-default-background));\n",
              "  background-size: 2px 100%;\n",
              "  background-repeat: no-repeat;\n",
              "  background-position: center center;\n",
              "}\n",
              "\n",
              "/* Parallel-specific style estimator block */\n",
              "\n",
              "#sk-container-id-2 div.sk-parallel-item::after {\n",
              "  content: \"\";\n",
              "  width: 100%;\n",
              "  border-bottom: 2px solid var(--sklearn-color-text-on-default-background);\n",
              "  flex-grow: 1;\n",
              "}\n",
              "\n",
              "#sk-container-id-2 div.sk-parallel {\n",
              "  display: flex;\n",
              "  align-items: stretch;\n",
              "  justify-content: center;\n",
              "  background-color: var(--sklearn-color-background);\n",
              "  position: relative;\n",
              "}\n",
              "\n",
              "#sk-container-id-2 div.sk-parallel-item {\n",
              "  display: flex;\n",
              "  flex-direction: column;\n",
              "}\n",
              "\n",
              "#sk-container-id-2 div.sk-parallel-item:first-child::after {\n",
              "  align-self: flex-end;\n",
              "  width: 50%;\n",
              "}\n",
              "\n",
              "#sk-container-id-2 div.sk-parallel-item:last-child::after {\n",
              "  align-self: flex-start;\n",
              "  width: 50%;\n",
              "}\n",
              "\n",
              "#sk-container-id-2 div.sk-parallel-item:only-child::after {\n",
              "  width: 0;\n",
              "}\n",
              "\n",
              "/* Serial-specific style estimator block */\n",
              "\n",
              "#sk-container-id-2 div.sk-serial {\n",
              "  display: flex;\n",
              "  flex-direction: column;\n",
              "  align-items: center;\n",
              "  background-color: var(--sklearn-color-background);\n",
              "  padding-right: 1em;\n",
              "  padding-left: 1em;\n",
              "}\n",
              "\n",
              "\n",
              "/* Toggleable style: style used for estimator/Pipeline/ColumnTransformer box that is\n",
              "clickable and can be expanded/collapsed.\n",
              "- Pipeline and ColumnTransformer use this feature and define the default style\n",
              "- Estimators will overwrite some part of the style using the `sk-estimator` class\n",
              "*/\n",
              "\n",
              "/* Pipeline and ColumnTransformer style (default) */\n",
              "\n",
              "#sk-container-id-2 div.sk-toggleable {\n",
              "  /* Default theme specific background. It is overwritten whether we have a\n",
              "  specific estimator or a Pipeline/ColumnTransformer */\n",
              "  background-color: var(--sklearn-color-background);\n",
              "}\n",
              "\n",
              "/* Toggleable label */\n",
              "#sk-container-id-2 label.sk-toggleable__label {\n",
              "  cursor: pointer;\n",
              "  display: flex;\n",
              "  width: 100%;\n",
              "  margin-bottom: 0;\n",
              "  padding: 0.5em;\n",
              "  box-sizing: border-box;\n",
              "  text-align: center;\n",
              "  align-items: start;\n",
              "  justify-content: space-between;\n",
              "  gap: 0.5em;\n",
              "}\n",
              "\n",
              "#sk-container-id-2 label.sk-toggleable__label .caption {\n",
              "  font-size: 0.6rem;\n",
              "  font-weight: lighter;\n",
              "  color: var(--sklearn-color-text-muted);\n",
              "}\n",
              "\n",
              "#sk-container-id-2 label.sk-toggleable__label-arrow:before {\n",
              "  /* Arrow on the left of the label */\n",
              "  content: \"▸\";\n",
              "  float: left;\n",
              "  margin-right: 0.25em;\n",
              "  color: var(--sklearn-color-icon);\n",
              "}\n",
              "\n",
              "#sk-container-id-2 label.sk-toggleable__label-arrow:hover:before {\n",
              "  color: var(--sklearn-color-text);\n",
              "}\n",
              "\n",
              "/* Toggleable content - dropdown */\n",
              "\n",
              "#sk-container-id-2 div.sk-toggleable__content {\n",
              "  max-height: 0;\n",
              "  max-width: 0;\n",
              "  overflow: hidden;\n",
              "  text-align: left;\n",
              "  /* unfitted */\n",
              "  background-color: var(--sklearn-color-unfitted-level-0);\n",
              "}\n",
              "\n",
              "#sk-container-id-2 div.sk-toggleable__content.fitted {\n",
              "  /* fitted */\n",
              "  background-color: var(--sklearn-color-fitted-level-0);\n",
              "}\n",
              "\n",
              "#sk-container-id-2 div.sk-toggleable__content pre {\n",
              "  margin: 0.2em;\n",
              "  border-radius: 0.25em;\n",
              "  color: var(--sklearn-color-text);\n",
              "  /* unfitted */\n",
              "  background-color: var(--sklearn-color-unfitted-level-0);\n",
              "}\n",
              "\n",
              "#sk-container-id-2 div.sk-toggleable__content.fitted pre {\n",
              "  /* unfitted */\n",
              "  background-color: var(--sklearn-color-fitted-level-0);\n",
              "}\n",
              "\n",
              "#sk-container-id-2 input.sk-toggleable__control:checked~div.sk-toggleable__content {\n",
              "  /* Expand drop-down */\n",
              "  max-height: 200px;\n",
              "  max-width: 100%;\n",
              "  overflow: auto;\n",
              "}\n",
              "\n",
              "#sk-container-id-2 input.sk-toggleable__control:checked~label.sk-toggleable__label-arrow:before {\n",
              "  content: \"▾\";\n",
              "}\n",
              "\n",
              "/* Pipeline/ColumnTransformer-specific style */\n",
              "\n",
              "#sk-container-id-2 div.sk-label input.sk-toggleable__control:checked~label.sk-toggleable__label {\n",
              "  color: var(--sklearn-color-text);\n",
              "  background-color: var(--sklearn-color-unfitted-level-2);\n",
              "}\n",
              "\n",
              "#sk-container-id-2 div.sk-label.fitted input.sk-toggleable__control:checked~label.sk-toggleable__label {\n",
              "  background-color: var(--sklearn-color-fitted-level-2);\n",
              "}\n",
              "\n",
              "/* Estimator-specific style */\n",
              "\n",
              "/* Colorize estimator box */\n",
              "#sk-container-id-2 div.sk-estimator input.sk-toggleable__control:checked~label.sk-toggleable__label {\n",
              "  /* unfitted */\n",
              "  background-color: var(--sklearn-color-unfitted-level-2);\n",
              "}\n",
              "\n",
              "#sk-container-id-2 div.sk-estimator.fitted input.sk-toggleable__control:checked~label.sk-toggleable__label {\n",
              "  /* fitted */\n",
              "  background-color: var(--sklearn-color-fitted-level-2);\n",
              "}\n",
              "\n",
              "#sk-container-id-2 div.sk-label label.sk-toggleable__label,\n",
              "#sk-container-id-2 div.sk-label label {\n",
              "  /* The background is the default theme color */\n",
              "  color: var(--sklearn-color-text-on-default-background);\n",
              "}\n",
              "\n",
              "/* On hover, darken the color of the background */\n",
              "#sk-container-id-2 div.sk-label:hover label.sk-toggleable__label {\n",
              "  color: var(--sklearn-color-text);\n",
              "  background-color: var(--sklearn-color-unfitted-level-2);\n",
              "}\n",
              "\n",
              "/* Label box, darken color on hover, fitted */\n",
              "#sk-container-id-2 div.sk-label.fitted:hover label.sk-toggleable__label.fitted {\n",
              "  color: var(--sklearn-color-text);\n",
              "  background-color: var(--sklearn-color-fitted-level-2);\n",
              "}\n",
              "\n",
              "/* Estimator label */\n",
              "\n",
              "#sk-container-id-2 div.sk-label label {\n",
              "  font-family: monospace;\n",
              "  font-weight: bold;\n",
              "  display: inline-block;\n",
              "  line-height: 1.2em;\n",
              "}\n",
              "\n",
              "#sk-container-id-2 div.sk-label-container {\n",
              "  text-align: center;\n",
              "}\n",
              "\n",
              "/* Estimator-specific */\n",
              "#sk-container-id-2 div.sk-estimator {\n",
              "  font-family: monospace;\n",
              "  border: 1px dotted var(--sklearn-color-border-box);\n",
              "  border-radius: 0.25em;\n",
              "  box-sizing: border-box;\n",
              "  margin-bottom: 0.5em;\n",
              "  /* unfitted */\n",
              "  background-color: var(--sklearn-color-unfitted-level-0);\n",
              "}\n",
              "\n",
              "#sk-container-id-2 div.sk-estimator.fitted {\n",
              "  /* fitted */\n",
              "  background-color: var(--sklearn-color-fitted-level-0);\n",
              "}\n",
              "\n",
              "/* on hover */\n",
              "#sk-container-id-2 div.sk-estimator:hover {\n",
              "  /* unfitted */\n",
              "  background-color: var(--sklearn-color-unfitted-level-2);\n",
              "}\n",
              "\n",
              "#sk-container-id-2 div.sk-estimator.fitted:hover {\n",
              "  /* fitted */\n",
              "  background-color: var(--sklearn-color-fitted-level-2);\n",
              "}\n",
              "\n",
              "/* Specification for estimator info (e.g. \"i\" and \"?\") */\n",
              "\n",
              "/* Common style for \"i\" and \"?\" */\n",
              "\n",
              ".sk-estimator-doc-link,\n",
              "a:link.sk-estimator-doc-link,\n",
              "a:visited.sk-estimator-doc-link {\n",
              "  float: right;\n",
              "  font-size: smaller;\n",
              "  line-height: 1em;\n",
              "  font-family: monospace;\n",
              "  background-color: var(--sklearn-color-background);\n",
              "  border-radius: 1em;\n",
              "  height: 1em;\n",
              "  width: 1em;\n",
              "  text-decoration: none !important;\n",
              "  margin-left: 0.5em;\n",
              "  text-align: center;\n",
              "  /* unfitted */\n",
              "  border: var(--sklearn-color-unfitted-level-1) 1pt solid;\n",
              "  color: var(--sklearn-color-unfitted-level-1);\n",
              "}\n",
              "\n",
              ".sk-estimator-doc-link.fitted,\n",
              "a:link.sk-estimator-doc-link.fitted,\n",
              "a:visited.sk-estimator-doc-link.fitted {\n",
              "  /* fitted */\n",
              "  border: var(--sklearn-color-fitted-level-1) 1pt solid;\n",
              "  color: var(--sklearn-color-fitted-level-1);\n",
              "}\n",
              "\n",
              "/* On hover */\n",
              "div.sk-estimator:hover .sk-estimator-doc-link:hover,\n",
              ".sk-estimator-doc-link:hover,\n",
              "div.sk-label-container:hover .sk-estimator-doc-link:hover,\n",
              ".sk-estimator-doc-link:hover {\n",
              "  /* unfitted */\n",
              "  background-color: var(--sklearn-color-unfitted-level-3);\n",
              "  color: var(--sklearn-color-background);\n",
              "  text-decoration: none;\n",
              "}\n",
              "\n",
              "div.sk-estimator.fitted:hover .sk-estimator-doc-link.fitted:hover,\n",
              ".sk-estimator-doc-link.fitted:hover,\n",
              "div.sk-label-container:hover .sk-estimator-doc-link.fitted:hover,\n",
              ".sk-estimator-doc-link.fitted:hover {\n",
              "  /* fitted */\n",
              "  background-color: var(--sklearn-color-fitted-level-3);\n",
              "  color: var(--sklearn-color-background);\n",
              "  text-decoration: none;\n",
              "}\n",
              "\n",
              "/* Span, style for the box shown on hovering the info icon */\n",
              ".sk-estimator-doc-link span {\n",
              "  display: none;\n",
              "  z-index: 9999;\n",
              "  position: relative;\n",
              "  font-weight: normal;\n",
              "  right: .2ex;\n",
              "  padding: .5ex;\n",
              "  margin: .5ex;\n",
              "  width: min-content;\n",
              "  min-width: 20ex;\n",
              "  max-width: 50ex;\n",
              "  color: var(--sklearn-color-text);\n",
              "  box-shadow: 2pt 2pt 4pt #999;\n",
              "  /* unfitted */\n",
              "  background: var(--sklearn-color-unfitted-level-0);\n",
              "  border: .5pt solid var(--sklearn-color-unfitted-level-3);\n",
              "}\n",
              "\n",
              ".sk-estimator-doc-link.fitted span {\n",
              "  /* fitted */\n",
              "  background: var(--sklearn-color-fitted-level-0);\n",
              "  border: var(--sklearn-color-fitted-level-3);\n",
              "}\n",
              "\n",
              ".sk-estimator-doc-link:hover span {\n",
              "  display: block;\n",
              "}\n",
              "\n",
              "/* \"?\"-specific style due to the `<a>` HTML tag */\n",
              "\n",
              "#sk-container-id-2 a.estimator_doc_link {\n",
              "  float: right;\n",
              "  font-size: 1rem;\n",
              "  line-height: 1em;\n",
              "  font-family: monospace;\n",
              "  background-color: var(--sklearn-color-background);\n",
              "  border-radius: 1rem;\n",
              "  height: 1rem;\n",
              "  width: 1rem;\n",
              "  text-decoration: none;\n",
              "  /* unfitted */\n",
              "  color: var(--sklearn-color-unfitted-level-1);\n",
              "  border: var(--sklearn-color-unfitted-level-1) 1pt solid;\n",
              "}\n",
              "\n",
              "#sk-container-id-2 a.estimator_doc_link.fitted {\n",
              "  /* fitted */\n",
              "  border: var(--sklearn-color-fitted-level-1) 1pt solid;\n",
              "  color: var(--sklearn-color-fitted-level-1);\n",
              "}\n",
              "\n",
              "/* On hover */\n",
              "#sk-container-id-2 a.estimator_doc_link:hover {\n",
              "  /* unfitted */\n",
              "  background-color: var(--sklearn-color-unfitted-level-3);\n",
              "  color: var(--sklearn-color-background);\n",
              "  text-decoration: none;\n",
              "}\n",
              "\n",
              "#sk-container-id-2 a.estimator_doc_link.fitted:hover {\n",
              "  /* fitted */\n",
              "  background-color: var(--sklearn-color-fitted-level-3);\n",
              "}\n",
              "</style><div id=\"sk-container-id-2\" class=\"sk-top-container\"><div class=\"sk-text-repr-fallback\"><pre>GridSearchCV(cv=3, estimator=RandomForestRegressor(random_state=42), n_jobs=-1,\n",
              "             param_grid={&#x27;max_depth&#x27;: [20], &#x27;min_samples_split&#x27;: [5],\n",
              "                         &#x27;n_estimators&#x27;: [50]},\n",
              "             verbose=1)</pre><b>In a Jupyter environment, please rerun this cell to show the HTML representation or trust the notebook. <br />On GitHub, the HTML representation is unable to render, please try loading this page with nbviewer.org.</b></div><div class=\"sk-container\" hidden><div class=\"sk-item sk-dashed-wrapped\"><div class=\"sk-label-container\"><div class=\"sk-label fitted sk-toggleable\"><input class=\"sk-toggleable__control sk-hidden--visually\" id=\"sk-estimator-id-4\" type=\"checkbox\" ><label for=\"sk-estimator-id-4\" class=\"sk-toggleable__label fitted sk-toggleable__label-arrow\"><div><div>GridSearchCV</div></div><div><a class=\"sk-estimator-doc-link fitted\" rel=\"noreferrer\" target=\"_blank\" href=\"https://scikit-learn.org/1.6/modules/generated/sklearn.model_selection.GridSearchCV.html\">?<span>Documentation for GridSearchCV</span></a><span class=\"sk-estimator-doc-link fitted\">i<span>Fitted</span></span></div></label><div class=\"sk-toggleable__content fitted\"><pre>GridSearchCV(cv=3, estimator=RandomForestRegressor(random_state=42), n_jobs=-1,\n",
              "             param_grid={&#x27;max_depth&#x27;: [20], &#x27;min_samples_split&#x27;: [5],\n",
              "                         &#x27;n_estimators&#x27;: [50]},\n",
              "             verbose=1)</pre></div> </div></div><div class=\"sk-parallel\"><div class=\"sk-parallel-item\"><div class=\"sk-item\"><div class=\"sk-label-container\"><div class=\"sk-label fitted sk-toggleable\"><input class=\"sk-toggleable__control sk-hidden--visually\" id=\"sk-estimator-id-5\" type=\"checkbox\" ><label for=\"sk-estimator-id-5\" class=\"sk-toggleable__label fitted sk-toggleable__label-arrow\"><div><div>best_estimator_: RandomForestRegressor</div></div></label><div class=\"sk-toggleable__content fitted\"><pre>RandomForestRegressor(max_depth=20, min_samples_split=5, n_estimators=50,\n",
              "                      random_state=42)</pre></div> </div></div><div class=\"sk-serial\"><div class=\"sk-item\"><div class=\"sk-estimator fitted sk-toggleable\"><input class=\"sk-toggleable__control sk-hidden--visually\" id=\"sk-estimator-id-6\" type=\"checkbox\" ><label for=\"sk-estimator-id-6\" class=\"sk-toggleable__label fitted sk-toggleable__label-arrow\"><div><div>RandomForestRegressor</div></div><div><a class=\"sk-estimator-doc-link fitted\" rel=\"noreferrer\" target=\"_blank\" href=\"https://scikit-learn.org/1.6/modules/generated/sklearn.ensemble.RandomForestRegressor.html\">?<span>Documentation for RandomForestRegressor</span></a></div></label><div class=\"sk-toggleable__content fitted\"><pre>RandomForestRegressor(max_depth=20, min_samples_split=5, n_estimators=50,\n",
              "                      random_state=42)</pre></div> </div></div></div></div></div></div></div></div></div>"
            ]
          },
          "metadata": {},
          "execution_count": 107
        }
      ]
    },
    {
      "cell_type": "code",
      "source": [
        "# Get the best model from GridSearchCV\n",
        "rf_model = grid_search_2.best_estimator_"
      ],
      "metadata": {
        "id": "MCyMQ9ZnotQz"
      },
      "execution_count": 109,
      "outputs": []
    },
    {
      "cell_type": "code",
      "source": [
        "# Predict and evaluate\n",
        "y_rf_pred = rf_model.predict(X_test)\n"
      ],
      "metadata": {
        "id": "fna9NE-mpKg4"
      },
      "execution_count": 110,
      "outputs": []
    },
    {
      "cell_type": "code",
      "source": [
        "import numpy as np\n",
        "from sklearn.metrics import mean_squared_error, r2_score, mean_absolute_error\n",
        "rf_mse = mean_squared_error(y_test, y_rf_pred)\n",
        "rf_r2 = r2_score(y_test, y_rf_pred)\n",
        "rf_mae = mean_absolute_error(y_test, y_rf_pred)\n",
        "\n",
        "print(\"Random Forest Metrics:\")\n",
        "print(\"MSE:\", rf_mse)\n",
        "print(\"R2 Score:\", rf_r2)\n",
        "print(\"MAE:\", rf_mae)\n"
      ],
      "metadata": {
        "colab": {
          "base_uri": "https://localhost:8080/"
        },
        "id": "v41wdGvupQSp",
        "outputId": "e8225ca6-1b18-4306-bfc4-90eb01b59e7d"
      },
      "execution_count": 111,
      "outputs": [
        {
          "output_type": "stream",
          "name": "stdout",
          "text": [
            "Random Forest Metrics:\n",
            "MSE: 0.02921103449213144\n",
            "R2 Score: 0.9147095103854042\n",
            "MAE: 0.0037843897026588517\n"
          ]
        }
      ]
    },
    {
      "cell_type": "markdown",
      "source": [
        "# Scatter Plot\n",
        "\n",
        "The scatter plot of actual vs. predicted emissions demonstrates strong alignment, with most points closely following the ideal prediction line. This indicates that our Random Forest model is accurately capturing emission patterns across industries.\n",
        "\n",
        "The R² score of 0.916 further validates the model's reliability for forecasting future pollution levels.\""
      ],
      "metadata": {
        "id": "XP57vUVI2js0"
      }
    },
    {
      "cell_type": "code",
      "source": [
        "# Step 1: Extract feature importances\n",
        "importances = rf_model.feature_importances_\n",
        "feature_names = X_train.columns\n",
        "\n",
        "# Create a DataFrame of feature importances\n",
        "importance_df = pd.DataFrame({\n",
        "    'Feature': feature_names,\n",
        "    'Importance': importances\n",
        "}).sort_values(by='Importance', ascending=False).head(15)  # Top 15 features\n",
        "\n",
        "# Step 2: Plot predicted vs actual for a visual check\n",
        "import matplotlib.pyplot as plt\n",
        "\n",
        "plt.figure(figsize=(8, 6))\n",
        "plt.scatter(y_test, y_rf_pred, alpha=0.5)\n",
        "plt.plot([y_test.min(), y_test.max()], [y_test.min(), y_test.max()], '--r')\n",
        "plt.xlabel('Actual Total Releases')\n",
        "plt.ylabel('Predicted Total Releases')\n",
        "plt.title('Actual vs Predicted Emissions (Random Forest)')\n",
        "plt.grid(True)\n",
        "plt.tight_layout()\n",
        "plt.show()\n",
        "\n",
        "# plot top feature importances\n",
        "plt.figure(figsize=(10, 6))\n",
        "plt.bar(importance_df['Feature'], importance_df['Importance'])\n",
        "plt.xticks(rotation=45, ha='right')\n",
        "plt.xlabel('Feature')\n",
        "plt.ylabel('Importance')\n",
        "plt.title('Top 15 Feature Importances')\n",
        "# importance_df.reset_index(drop=True, inplace=True)\n",
        "# importance_df\n",
        "\n"
      ],
      "metadata": {
        "colab": {
          "base_uri": "https://localhost:8080/",
          "height": 1000
        },
        "id": "zO_7g8xhAo26",
        "outputId": "4b9c104a-6c0f-4b17-88ee-5129c5787852"
      },
      "execution_count": 112,
      "outputs": [
        {
          "output_type": "display_data",
          "data": {
            "text/plain": [
              "<Figure size 800x600 with 1 Axes>"
            ],
            "image/png": "[encoded data removed]"
          },
          "metadata": {}
        },
        {
          "output_type": "execute_result",
          "data": {
            "text/plain": [
              "Text(0.5, 1.0, 'Top 15 Feature Importances')"
            ]
          },
          "metadata": {},
          "execution_count": 112
        },
        {
          "output_type": "display_data",
          "data": {
            "text/plain": [
              "<Figure size 1000x600 with 1 Axes>"
            ],
            "image/png": "[encoded data removed]"
          },
          "metadata": {}
        }
      ]
    },
    {
      "cell_type": "markdown",
      "source": [
        "# ***Creating Emissions Prediction Report for Evaluation and Analysis***"
      ],
      "metadata": {
        "id": "x_oIIjV6214P"
      }
    },
    {
      "cell_type": "code",
      "source": [
        "report = df_regression.loc[X_test.index, [\n",
        "    \"Reporting_Year / Année\",\n",
        "    \"NAICS Title / Titre Code_SCIAN\",\n",
        "    \"PROVINCE\"\n",
        "]].copy()\n",
        "\n",
        "report[\"Actual Emissions\"] = y_test.values\n",
        "report[\"Predicted Emissions\"] = y_pred\n",
        "\n"
      ],
      "metadata": {
        "id": "BB2KMRhHJLgC"
      },
      "execution_count": 113,
      "outputs": []
    },
    {
      "cell_type": "code",
      "source": [
        "# export to csv\n",
        "report.to_csv(\"report.csv\", index=False)"
      ],
      "metadata": {
        "id": "O-ouF1KjKGzw"
      },
      "execution_count": 114,
      "outputs": []
    },
    {
      "cell_type": "markdown",
      "source": [
        "# ***Time Series Regression Model 2***"
      ],
      "metadata": {
        "id": "wY3WhO8v2lB-"
      }
    },
    {
      "cell_type": "code",
      "source": [
        "df_reg = df_releases_clean.copy()"
      ],
      "metadata": {
        "id": "Hs1JV-W_Lk0Y"
      },
      "execution_count": null,
      "outputs": []
    },
    {
      "cell_type": "markdown",
      "source": [
        "To understand which industries are driving changes in pollution levels, we applied linear regression to historical pollutant release data and calculated annual growth rates. The bar chart above visualizes the top 3 industries with the highest predicted growth and the bottom 3 with the sharpest decline over the next five years.\n",
        "\n",
        "**Industries with the Highest Growth**\n",
        "\n",
        "Bituminous coal mining\n",
        "\n",
        "Non-conventional oil extraction\n",
        "\n",
        "Sewage treatment facilities\n",
        "\n",
        "These industries show the steepest upward trends, indicating increasing pollutant releases. The rise may be driven by higher production demand or lagging adoption of cleaner technologies. Bituminous coal mining, in particular, stands out with the highest projected increase in emissions per year.\n",
        "\n",
        "**Industries with the Largest Decline **\n",
        "\n",
        "Non-ferrous metal (except aluminum) smelting and refining\n",
        "\n",
        "Fossil-fuel electric power generation\n",
        "\n",
        "Primary production of alumina and aluminum\n",
        "\n",
        "These industries are experiencing a downward trend in emissions. This could reflect improvements in environmental regulations, technological upgrades, or shifts toward more sustainable energy and materials processing methods. The non-ferrous metal smelting industry shows the most significant decline."
      ],
      "metadata": {
        "id": "h9ku0glF6prw"
      }
    },
    {
      "cell_type": "markdown",
      "source": [
        "# ***Label Encoding***"
      ],
      "metadata": {
        "id": "8SdxwQuxTND-"
      }
    },
    {
      "cell_type": "markdown",
      "source": [
        " Why Label Encoding?\n",
        "\n",
        "Encoding turns categories into numbers so models like Linear Regression can understand them.\n",
        "\n",
        "Not used for grouping columns (like Industry name), only features used in regression.\n",
        "\n",
        "\n",
        "\n",
        "Encode Categorical Columns (Label Encoding)\n",
        "\n",
        "We only need to encode features that we plan to use in our regression model and are non-numeric.\n",
        "\n",
        " 'PROVINCE', 'Region', 'Estimation_Method_Type', etc.\n",
        "\n"
      ],
      "metadata": {
        "id": "HGCHTuBsjSSl"
      }
    },
    {
      "cell_type": "code",
      "source": [
        "import pandas as pd\n",
        "from sklearn.preprocessing import LabelEncoder\n",
        "\n"
      ],
      "metadata": {
        "id": "X84JtA0UQ0GL"
      },
      "execution_count": null,
      "outputs": []
    },
    {
      "cell_type": "code",
      "source": [
        "# List of columns to encode\n",
        "encode_cols = ['PROVINCE', 'Region', 'Estimation_Method_Type', 'Pollution Category']\n",
        "\n",
        "le = LabelEncoder()\n",
        "\n",
        "for col in encode_cols:\n",
        "    df_reg[col] = le.fit_transform(df_reg[col])\n"
      ],
      "metadata": {
        "id": "HocE57S0jzur"
      },
      "execution_count": null,
      "outputs": []
    },
    {
      "cell_type": "code",
      "source": [
        "df_reg.head()"
      ],
      "metadata": {
        "id": "iAF9zjbDkmiE"
      },
      "execution_count": null,
      "outputs": []
    },
    {
      "cell_type": "markdown",
      "source": [
        "Aggregate Yearly Total Pollution per Industry\n",
        "We need total releases per industry per year to forecast each industry's pollution over time."
      ],
      "metadata": {
        "id": "mFDbLm29luj8"
      }
    },
    {
      "cell_type": "code",
      "source": [
        "# Group by Industry and Year, sum pollution\n",
        "agg_df = df_reg.groupby(['NAICS Title / Titre Code_SCIAN', 'Reporting_Year / Année'])['Total Releases (Summed)'].sum().reset_index()\n",
        "agg_df.head()\n"
      ],
      "metadata": {
        "id": "so3ClvmKVgay"
      },
      "execution_count": null,
      "outputs": []
    },
    {
      "cell_type": "markdown",
      "source": [
        "Why Pivot and Group by Industry-Year?\n",
        "\n",
        "We grouped the data by industry and year to aggregate multiple records and create a clean yearly trend for each sector.\n",
        "\n",
        "Pivoting the grouped data allowed us to efficiently run time series models (like Linear Regression) for forecasting, ensuring each industry had its own timeline of emissions.r"
      ],
      "metadata": {
        "id": "TSSz8bdrlrHb"
      }
    },
    {
      "cell_type": "code",
      "source": [
        "\n",
        "\n",
        "# Show all columns when displaying a DataFrame\n",
        "pd.set_option('display.max_columns', None)\n",
        "\n",
        "# shpw all rows when displaying a Dataframe\n",
        "pd.set_option('display.max_rows', None)\n"
      ],
      "metadata": {
        "id": "RSkrHkJut_L0"
      },
      "execution_count": null,
      "outputs": []
    },
    {
      "cell_type": "code",
      "source": [
        "pivot_df = agg_df.pivot(index='Reporting_Year / Année', columns='NAICS Title / Titre Code_SCIAN', values='Total Releases (Summed)')\n",
        "pivot_df.head()\n"
      ],
      "metadata": {
        "id": "KWJ1cgCemE1V"
      },
      "execution_count": null,
      "outputs": []
    },
    {
      "cell_type": "code",
      "source": [
        "# Count of missing values per industry\n",
        "pivot_df.isna().sum().sort_values(ascending=False)\n"
      ],
      "metadata": {
        "id": "n59ZghiptLid"
      },
      "execution_count": null,
      "outputs": []
    },
    {
      "cell_type": "markdown",
      "source": [
        "# Dropping Columns with Too Many NaNs\n",
        "\n",
        "We Set a Threshold\n",
        "Let’s say we keep only industries with at least 10 years of data (it can be adjusted ).\n",
        "\n",
        "Columns (industries) with too many missing values are dropped because they’re not reliable for forecasting.\n",
        "\n",
        " Why?\n",
        "\n",
        "If an industry only reported 1 or 2 years, we can’t train a meaningful time series or regression model."
      ],
      "metadata": {
        "id": "A6PuedsDwiEP"
      }
    },
    {
      "cell_type": "code",
      "source": [
        "# Drop industries with fewer than 10 non-NaN entries\n",
        "pivot_df_filtered = pivot_df.dropna(axis=1, thresh=10)\n"
      ],
      "metadata": {
        "id": "xqFEJURCwg-v"
      },
      "execution_count": null,
      "outputs": []
    },
    {
      "cell_type": "markdown",
      "source": [
        "# Interpolation\n",
        "\n",
        "Fills in missing yearly values using linear interpolation\n",
        "\n",
        "This ensures each industry column has a continuous time series, which is crucial for time-based forecasting\n",
        "\n",
        "Linear interpolation fills gaps in a way that keeps the trend smooth — ideal for regression models that expect clean input."
      ],
      "metadata": {
        "id": "tvGWHgLVw7-M"
      }
    },
    {
      "cell_type": "code",
      "source": [
        "# Interpolate missing values linearly for the remaining industries\n",
        "pivot_df_filled = pivot_df_filtered.interpolate(method='linear', limit_direction='both')\n"
      ],
      "metadata": {
        "id": "EUS4I_Xmw98f"
      },
      "execution_count": null,
      "outputs": []
    },
    {
      "cell_type": "markdown",
      "source": [
        "Confirm Missing Values Are Handled\n",
        "Check that we are ready for modeling:"
      ],
      "metadata": {
        "id": "Pss663NaxF2K"
      }
    },
    {
      "cell_type": "code",
      "source": [
        "# Check for any remaining NaNs\n",
        "pivot_df_filled.isna().sum().sort_values(ascending=False)\n"
      ],
      "metadata": {
        "id": "yNLAJnkNxDPV"
      },
      "execution_count": null,
      "outputs": []
    },
    {
      "cell_type": "markdown",
      "source": [
        "## *Model 2-Linear Regression*"
      ],
      "metadata": {
        "id": "MUFD2JPEj2op"
      }
    },
    {
      "cell_type": "markdown",
      "source": [
        "**Why Linear Regression?**\n",
        "\n",
        "Linear regression gives us a clear slope ,how fast emissions are increasing or decreasing per year.\n",
        "\n",
        "With linear models, we can easily compare slopes between industries\n",
        "\n",
        "Linear regression gives us a growth rate we  can use for ranking\n",
        "\n",
        "We'll use Linear Regression to predict pollution 5 years into the future for each industry."
      ],
      "metadata": {
        "id": "lx9iRRGAm-On"
      }
    },
    {
      "cell_type": "code",
      "source": [
        "from sklearn.linear_model import LinearRegression\n"
      ],
      "metadata": {
        "id": "imYUdeAYnBxp"
      },
      "execution_count": null,
      "outputs": []
    },
    {
      "cell_type": "markdown",
      "source": [
        "This code is a function that takes one input: the name of the industry we want to forecast.\n",
        "This selects the time series data (pollution values over the years) for that industry from your cleaned dataset.\n",
        "It also removes any missing values (NaNs), which could break the regression model.\n",
        "\n",
        " We extracts the year from the DataFrame index and reshapes it into a 2D array.\n",
        "This becomes the feature (also called X) for the model.\n",
        "\n",
        "Gets the actual pollution values (Total Releases) and reshapes it for modeling.\n",
        "This is the target (also called y) for the regression model."
      ],
      "metadata": {
        "id": "K0zEkP67lBaM"
      }
    },
    {
      "cell_type": "markdown",
      "source": [
        "Feature = Years\n",
        "\n",
        "Target = Total Releases (Pollution values )"
      ],
      "metadata": {
        "id": "qeM5hxb0bH_7"
      }
    },
    {
      "cell_type": "code",
      "source": [
        "from sklearn.linear_model import LinearRegression\n",
        "import numpy as np\n",
        "import pandas as pd\n",
        "\n",
        "def forecast_industry(industry_name):\n",
        "    data = pivot_df_filled[industry_name].dropna()\n",
        "    years = data.index.values.reshape(-1, 1)\n",
        "    releases = data.values.reshape(-1, 1)\n",
        "\n",
        "    model = LinearRegression()\n",
        "    model.fit(years, releases)\n",
        "\n",
        "    # Predict next 5 years\n",
        "    last_year = years.max()\n",
        "    future_years = np.arange(last_year + 1, last_year + 6).reshape(-1, 1)\n",
        "    future_preds = model.predict(future_years)\n",
        "\n",
        "    return pd.DataFrame({'Reporting_Year / Année': future_years.flatten(), industry_name: future_preds.flatten()})\n"
      ],
      "metadata": {
        "id": "mMvjparlW3Wt"
      },
      "execution_count": null,
      "outputs": []
    },
    {
      "cell_type": "code",
      "source": [
        "forecast_industry('Aerospace product and parts manufacturing')"
      ],
      "metadata": {
        "id": "hEZuLq2K2IZ9"
      },
      "execution_count": null,
      "outputs": []
    },
    {
      "cell_type": "markdown",
      "source": [
        "This code calculates the yearly growth rate of pollutant emissions for each industry using a linear regression model. It does this by:\n",
        "\n",
        "Looping through each industry ( each column in pivot_df_filled)\n",
        "\n",
        "Fitting a linear model where:\n",
        "\n",
        "x = year (as numbers, like 2000, 2001)\n",
        "\n",
        "y = total pollutant emissions for that industry\n",
        "\n",
        "Extracting the slope from the model this represents the growth rate of emissions per year\n",
        "\n",
        "Saving the slope in a dictionary called growth_summary\n",
        "\n",
        "Skipping industries with fewer than 10 years of data to ensure reliable trends"
      ],
      "metadata": {
        "id": "aIj6Ii7xRsdQ"
      }
    },
    {
      "cell_type": "markdown",
      "source": [
        "Why We Used This Code:\n",
        "To identify industries with:\n",
        "\n",
        "Rising emissions (positive slope)\n",
        "\n",
        "Declining emissions (negative slope)\n",
        "\n",
        "To directly support the project’s goal:\n",
        "\n",
        "“Which industry is predicted to have the highest growth of releases in 5 years? Which will have the largest decline?”\n",
        "\n",
        "Linear regression gives us a clear, explainable trend for each industry over time.\n",
        "\n"
      ],
      "metadata": {
        "id": "324jD333dEeh"
      }
    },
    {
      "cell_type": "markdown",
      "source": [
        "# **Calculating Industry Growth Rates Using Linear Regression**"
      ],
      "metadata": {
        "id": "yQaG2BLycqyg"
      }
    },
    {
      "cell_type": "code",
      "source": [
        "# To calculate the growth rate of pollution emissions over time for each industry using linear regression.\n",
        "\n",
        "from sklearn.linear_model import LinearRegression\n",
        "import numpy as np\n",
        "\n",
        "growth_summary = {}\n",
        "\n",
        "for industry in pivot_df_filled.columns:\n",
        "    try:\n",
        "        data = pivot_df_filled[industry].dropna()\n",
        "        if len(data) < 10:\n",
        "            continue  # skip if too few data points\n",
        "\n",
        "        years = data.index.values.reshape(-1, 1)\n",
        "        releases = data.values.reshape(-1, 1)\n",
        "\n",
        "        model = LinearRegression()\n",
        "        model.fit(years, releases)\n",
        "\n",
        "        slope = model.coef_[0][0]  # growth rate per year\n",
        "        growth_summary[industry] = slope\n",
        "    except Exception as e:\n",
        "        print(f\"Skipped {industry} due to error: {e}\")\n"
      ],
      "metadata": {
        "id": "9vm2rVzlXvTM"
      },
      "execution_count": null,
      "outputs": []
    },
    {
      "cell_type": "code",
      "source": [
        "# To convert the growth_summary dictionary into a clean, sortable DataFrame that shows emission growth rates by industry.\n",
        "growth_df = pd.DataFrame.from_dict(growth_summary, orient='index', columns=['Growth Rate'])\n",
        "growth_df.sort_values(by='Growth Rate', ascending=False, inplace=True)\n",
        "growth_df\n"
      ],
      "metadata": {
        "id": "4zDaJUuNEXWB"
      },
      "execution_count": null,
      "outputs": []
    },
    {
      "cell_type": "markdown",
      "source": [
        "# ***Which industry is predicted to have the highest growth of releases in 5 years?***\n",
        "\n",
        " The industry with the highest positive slope is expected to have the steepest increase in pollution emissions over the next 5 years. This means it's contributing more to total pollutant releases annually compared to other industries."
      ],
      "metadata": {
        "id": "4Ay1F6da3w6m"
      }
    },
    {
      "cell_type": "code",
      "source": [
        "highest_growth_industry = growth_df.iloc[0]\n",
        "print(f\"Highest growth industry: {highest_growth_industry.name}\")\n",
        "print(f\"Growth rate: {highest_growth_industry['Growth Rate']:.2f} units/year\")\n"
      ],
      "metadata": {
        "id": "-F3WxOtZ3vOL"
      },
      "execution_count": null,
      "outputs": []
    },
    {
      "cell_type": "markdown",
      "source": [
        " Justification:\n",
        "\n",
        "We used Linear Regression to fit a trend line to the past emissions for each industry.\n",
        "\n",
        "The slope (growth rate) of the line tells us how fast the emissions are increasing or decreasing each year.\n",
        "\n",
        "A positive slope means emissions are rising, and the one with the largest positive slope is growing the fastest."
      ],
      "metadata": {
        "id": "pXIxU3DP4RUH"
      }
    },
    {
      "cell_type": "markdown",
      "source": [
        "# ***Which industry is predicted to have the largest decline in releases in 5 years?***"
      ],
      "metadata": {
        "id": "0B-vZjha4aXt"
      }
    },
    {
      "cell_type": "code",
      "source": [
        "largest_decline_industry = growth_df.iloc[-1]\n",
        "print(f\"Largest decline industry: {largest_decline_industry.name}\")\n",
        "print(f\"Growth rate: {largest_decline_industry['Growth Rate']:.2f} units/year\")\n"
      ],
      "metadata": {
        "id": "4GrhSEcU4Y9g"
      },
      "execution_count": null,
      "outputs": []
    },
    {
      "cell_type": "markdown",
      "source": [
        " Justification:\n",
        "\n",
        "We modeled each industry’s emissions over time and used the slope to represent change per year.\n",
        "\n",
        "A negative slope indicates declining pollution over time.\n",
        "\n",
        "The industry with the most negative value is reducing its emissions the fastest."
      ],
      "metadata": {
        "id": "XFp1ehGv4kqz"
      }
    },
    {
      "cell_type": "markdown",
      "source": [
        "# ***Model Visualizations***\n"
      ],
      "metadata": {
        "id": "hmNweiqkwm9l"
      }
    },
    {
      "cell_type": "markdown",
      "source": [
        "**Top 3 Growing and Bottom 3 Declining Industries by Emissions:**(horizontal bar chart)"
      ],
      "metadata": {
        "id": "wdX7PFZmuovC"
      }
    },
    {
      "cell_type": "code",
      "source": [
        "import matplotlib.pyplot as plt\n",
        "\n",
        "# Assuming 'growth_df' already exists and is sorted descending\n",
        "# Select top 3 growing and bottom 3 declining industries\n",
        "top_3 = growth_df.head(3)\n",
        "bottom_3 = growth_df.tail(3)\n",
        "\n",
        "# Combine both for plotting\n",
        "selected_industries = pd.concat([top_3, bottom_3])\n",
        "selected_industries.reset_index(inplace=True)\n",
        "selected_industries.rename(columns={'index': 'Industry'}, inplace=True)\n",
        "\n",
        "# Plot\n",
        "plt.figure(figsize=(12, 6))\n",
        "bars = plt.barh(selected_industries['Industry'], selected_industries['Growth Rate'])\n",
        "plt.xlabel('Growth Rate (Units/Year)')\n",
        "plt.title('Top 3 Growing and Declining Industries by Emissions')\n",
        "plt.axvline(0, color='black', linewidth=0.8)\n",
        "plt.tight_layout()\n",
        "plt.gca().invert_yaxis()\n",
        "plt.show()\n"
      ],
      "metadata": {
        "id": "NOoRUb1x4Qbk"
      },
      "execution_count": null,
      "outputs": []
    },
    {
      "cell_type": "markdown",
      "source": [
        "\n",
        "**Justification:**\n",
        "The top growing industries, the positive growth rate indicates emissions are increasing at an alarming rate, suggesting that stricter regulations or sustainable practices might be necessary. On the other hand, the bottom declining industries, negative growth rates indicate sectors that are managing to reduce their emissions, showcasing positive trends that could be expanded across other industries.\n",
        "\n"
      ],
      "metadata": {
        "id": "cR0LpWhdq5Am"
      }
    },
    {
      "cell_type": "code",
      "source": [
        "import matplotlib.pyplot as plt\n",
        "\n",
        "# Get historical data\n",
        "industry_name = \"Conventional oil and gas extraction\"\n",
        "historical_data = pivot_df_filled[industry_name].dropna()\n",
        "historical_years = historical_data.index.values\n",
        "historical_values = historical_data.values\n",
        "\n",
        "# Get forecast data\n",
        "forecast_df = forecast_industry(industry_name)\n",
        "future_years = forecast_df[\"Reporting_Year / Année\"]\n",
        "future_values = forecast_df[industry_name]\n",
        "\n",
        "# Plot\n",
        "plt.figure(figsize=(10, 5))\n",
        "plt.plot(historical_years, historical_values, label=\"Historical\", marker='o')\n",
        "plt.plot(future_years, future_values, label=\"Forecast (Next 5 Years)\", linestyle='--', marker='x')\n",
        "\n",
        "plt.title(f\"Emission Forecast for {industry_name}\")\n",
        "plt.xlabel(\"Year\")\n",
        "plt.ylabel(\"Total Releases\")\n",
        "plt.legend()\n",
        "plt.grid(True)\n",
        "plt.tight_layout()\n",
        "plt.show()\n"
      ],
      "metadata": {
        "id": "4b0U0opr0mHo"
      },
      "execution_count": null,
      "outputs": []
    },
    {
      "cell_type": "markdown",
      "source": [
        "Next, we examined the emissions of the **\"Conventional oil and gas extraction\"** industry. The first plot shows the historical emissions (the actual past data), while the dashed line provides a forecast for the next 5 years.\n",
        "\n",
        "**Justification**:\n",
        "By analyzing the historical emissions and the forecast, we can better understand the future path of the oil and gas extraction industry. The use of linear regression to forecast emissions provides an evidence-based prediction whether emissions will continue to rise or stabilize in the future\n",
        "\n",
        "\n"
      ],
      "metadata": {
        "id": "q23WGHX4tB0G"
      }
    },
    {
      "cell_type": "code",
      "source": [
        "#Code for line plot (top growing, top declining industry & histogram for all growth)\n",
        "import matplotlib.pyplot as plt\n",
        "from sklearn.linear_model import LinearRegression\n",
        "import numpy as np\n",
        "\n",
        "# 1. Line Plot - Top Growing Industry\n",
        "top_industry = growth_df.head(1).index[0]\n",
        "top_data = pivot_df_filled[top_industry].dropna()\n",
        "years = top_data.index.values.reshape(-1, 1)  #\n",
        "model_top = LinearRegression()\n",
        "model_top.fit(years, top_data.values.reshape(-1, 1))\n",
        "\n",
        "future_years = np.arange(years[-1][0] + 1, years[-1][0] + 6).reshape(-1, 1)\n",
        "future_preds_top = model_top.predict(future_years)\n",
        "\n",
        "# 2. Line Plot - Top Declining Industry\n",
        "bottom_industry = growth_df.tail(1).index[0]\n",
        "bottom_data = pivot_df_filled[bottom_industry].dropna()\n",
        "years_b = bottom_data.index.values.reshape(-1, 1)\n",
        "model_bottom = LinearRegression()\n",
        "model_bottom.fit(years_b, bottom_data.values.reshape(-1, 1))\n",
        "\n",
        "future_years_b = np.arange(years_b[-1][0] + 1, years_b[-1][0] + 6).reshape(-1, 1)\n",
        "future_preds_bottom = model_bottom.predict(future_years_b)\n",
        "\n",
        "# Plot 1: Top Growing Industry\n",
        "plt.figure(figsize=(10, 5))\n",
        "plt.plot(years, top_data.values, label='Historical')\n",
        "plt.plot(future_years, future_preds_top, linestyle='--', label='Forecast')\n",
        "plt.title(f'Pollution Forecast: {top_industry}')\n",
        "plt.xlabel('Year')\n",
        "plt.ylabel('Total Releases')\n",
        "plt.legend()\n",
        "plt.grid(True)\n",
        "plt.show()\n",
        "\n",
        "# Plot 2: Top Declining Industry\n",
        "plt.figure(figsize=(10, 5))\n",
        "plt.plot(years_b, bottom_data.values, label='Historical')\n",
        "plt.plot(future_years_b, future_preds_bottom, linestyle='--', label='Forecast')\n",
        "plt.title(f'Pollution Forecast: {bottom_industry}')\n",
        "plt.xlabel('Year')\n",
        "plt.ylabel('Total Releases')\n",
        "plt.legend()\n",
        "plt.grid(True)\n",
        "plt.show()\n",
        "\n",
        "# Plot 3: Histogram of All Growth Rates\n",
        "plt.figure(figsize=(10, 5))\n",
        "plt.hist(growth_df['Growth Rate'], bins=30, edgecolor='black')\n",
        "plt.title('Distribution of Growth Rates Across Industries')\n",
        "plt.xlabel('Growth Rate (units/year)')\n",
        "plt.ylabel('Number of Industries')\n",
        "plt.grid(True)\n",
        "plt.show()\n"
      ],
      "metadata": {
        "id": "JBbG7kPMYV3r"
      },
      "execution_count": null,
      "outputs": []
    },
    {
      "cell_type": "markdown",
      "source": [
        "We then presented **two line plots**:\n",
        "\n",
        "**Top Growing Industry**: Shows the historical emissions of the industry with the highest growth, along with the forecast for the next 5 years.\n",
        "\n",
        "**Top Declining Industry**: Shows the historical decline in emissions for the industry with the most significant reduction, along with its forecast.\n",
        "\n",
        "**Justification:**\n",
        "Both plots help visualize how these industries might evolve in the future and whether emissions can continue to grow or decline.\n",
        "\n",
        "\n",
        "**Distribution of Growth Rates Across Industries (Histogram)**:\n",
        "In the histogram, we see the growth rates of emissions across all industries:\n",
        "\n",
        "Positive values indicate industries with increasing emissions.\n",
        "\n",
        "Negative values represent industries with decreasing emissions.\n",
        "\n"
      ],
      "metadata": {
        "id": "O1Kdhfyktavy"
      }
    },
    {
      "cell_type": "code",
      "source": [
        "#Code for Emission Trends of top 5 industries\n",
        "\n",
        "# Ensure index is treated as actual year\n",
        "pivot_df_filled.index = pivot_df_filled.index.astype(int)\n",
        "\n",
        "# Group by year and sum emissions per industry\n",
        "pivot_grouped = pivot_df_filled.groupby(pivot_df_filled.index).sum()\n",
        "\n",
        "# Select top 5 industries by total emissions over all years\n",
        "top_5_industries = pivot_grouped.sum().sort_values(ascending=False).head(5).index\n",
        "pivot_top_5 = pivot_grouped[top_5_industries]\n",
        "\n",
        "# Plot the stacked bar chart with actual year labels\n",
        "ax = pivot_top_5.plot(kind='bar', stacked=True, figsize=(14, 6))\n",
        "ax.set_xticklabels(pivot_top_5.index.astype(str), rotation=45)\n",
        "plt.title('Stacked Bar Chart: Emission Trends of Top 5 Industries Over Time')\n",
        "plt.xlabel('Year')\n",
        "plt.ylabel('Total Emissions')\n",
        "plt.legend(title='Industry')\n",
        "plt.tight_layout()\n",
        "plt.show()\n"
      ],
      "metadata": {
        "id": "ElVUCIgxLGQU"
      },
      "execution_count": null,
      "outputs": []
    },
    {
      "cell_type": "markdown",
      "source": [
        " **Stacked Bar Chart: Emission Trends of Top 5 Industries:**\n",
        "Finally, we looked at the stacked bar chart that shows the emissions from the top 5 industries over time:\n",
        "\n",
        "Each bar represents one year, and the colored segments within the bars represent the emissions from each of the top 5 industries.\n",
        "\n",
        "This chart helps us understand how each of these industries has contributed to total emissions year by year. It is useful for identifying trends, such as which industries are becoming bigger polluters or which are improving their environmental performance.\n"
      ],
      "metadata": {
        "id": "psgaONfZt54r"
      }
    },
    {
      "cell_type": "markdown",
      "source": [],
      "metadata": {
        "id": "Ft4RdPbvz_7U"
      }
    }
  ]
}